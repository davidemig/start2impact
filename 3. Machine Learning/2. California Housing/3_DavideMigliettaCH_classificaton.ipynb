{
 "cells": [
  {
   "cell_type": "markdown",
   "metadata": {},
   "source": [
    "                                                                            NOTEBOOK 3: Machine Learning Predictions                                                           "
   ]
  },
  {
   "cell_type": "markdown",
   "metadata": {},
   "source": [
    "                                                          2nd Machine Learning Project - start2impact - Davide Miglietta"
   ]
  },
  {
   "cell_type": "markdown",
   "metadata": {},
   "source": [
    "# California Housing: Max House Price Classification"
   ]
  },
  {
   "cell_type": "markdown",
   "metadata": {},
   "source": [
    "This is the third notebook of the analysis:\n",
    "* the goal is to create a model, able to individuate if a block presents a median house value equal to the maximum (500001 $).\n",
    "\n",
    "As explained in the EDA, 500001 $ seems to not to be a real value but a maximum.\n",
    "\n",
    "\n",
    "For this reason, in this notebook, a binary classification will be performed to individuate if the block is (1) or is not (0) a 'max'.\n",
    "The results will be combined with the results obtained on notebook 2."
   ]
  },
  {
   "cell_type": "markdown",
   "metadata": {},
   "source": [
    "### The original dataset features are:\n",
    "\n",
    "* **longitude:** block longitude (higher values: farther west)\n",
    "\n",
    "* **latitude:** block latitude (higher values: farther north)\n",
    "\n",
    "* **housing_median_agee:** median age of block houses (the higher the value, the older the houses)\n",
    "\n",
    "* **total_rooms:** total rooms in a block\n",
    "\n",
    "* **total_bedrooms:** total bedrooms in a block\n",
    "\n",
    "* **population:** block population\n",
    "\n",
    "* **households:** total households (a group of people living in a home unit, for example: a family)\n",
    "\n",
    "* **median_income:** household median income (10,000 US Dollars)\n",
    "\n",
    "* **ocean_proximity:** house location respect to the ocean (categorical)\n",
    "\n",
    "* **median_house_value:** median house value (US Dollars) --> **TARGET**\n",
    "\n",
    "To which have been added:\n",
    "\n",
    "* **avg_household_size:** average households size\n",
    "\n",
    "* **bedrooms_per_person:** average bedrooms per person\n",
    "\n",
    "* **avg_rooms_per_house:** average number of rooms per house\n",
    "    \n",
    "* **ratio_dayrooms_bedrooms:** average ratio dayrooms (living, kitchen...) / bedrooms"
   ]
  },
  {
   "cell_type": "markdown",
   "metadata": {},
   "source": [
    "## Table of contents:\n",
    "1. [Libraries](#Libraries)\n",
    "\n",
    "\n",
    "2. [Dataset_import](#Dataset_import)\n",
    "\n",
    "\n",
    "3. [Dataset_manipulation](#Dataset_manipulation)\n",
    "\n",
    "\n",
    "4. [Functions_Definition](#Functions_Definition)\n",
    "\n",
    "\n",
    "5. [ML_Classification](#ML_Classification)\n",
    "    - [Random_Forest](#Random_Forest)\n",
    "    - [K-NN_Classification](#K-NN_Classification)\n",
    "    - [SVM_Classification](#SVM_Classification)\n",
    "        \n",
    "    \n",
    "6. [Conclusions](#Conclusions)"
   ]
  },
  {
   "cell_type": "markdown",
   "metadata": {},
   "source": [
    "### Libraries"
   ]
  },
  {
   "cell_type": "code",
   "execution_count": 1,
   "metadata": {},
   "outputs": [],
   "source": [
    "import pandas as pd\n",
    "import numpy as np\n",
    "\n",
    "import seaborn as sns\n",
    "import matplotlib.pyplot as plt\n",
    "\n",
    "from sklearn.preprocessing import MinMaxScaler\n",
    "from sklearn.model_selection import train_test_split as split\n",
    "from sklearn.utils import resample\n",
    "from sklearn import metrics\n",
    "from sklearn.metrics import accuracy_score\n",
    "from sklearn.metrics import classification_report\n",
    "from sklearn.metrics import confusion_matrix\n",
    "\n",
    "from sklearn.model_selection import RandomizedSearchCV\n",
    "\n",
    "from scipy.stats import uniform\n",
    "from scipy.stats import loguniform\n",
    "from scipy.stats import randint"
   ]
  },
  {
   "cell_type": "markdown",
   "metadata": {},
   "source": [
    "### Dataset_import"
   ]
  },
  {
   "cell_type": "code",
   "execution_count": 2,
   "metadata": {},
   "outputs": [
    {
     "name": "stdout",
     "output_type": "stream",
     "text": [
      "(20525, 18)\n"
     ]
    },
    {
     "data": {
      "text/html": [
       "<div>\n",
       "<style scoped>\n",
       "    .dataframe tbody tr th:only-of-type {\n",
       "        vertical-align: middle;\n",
       "    }\n",
       "\n",
       "    .dataframe tbody tr th {\n",
       "        vertical-align: top;\n",
       "    }\n",
       "\n",
       "    .dataframe thead th {\n",
       "        text-align: right;\n",
       "    }\n",
       "</style>\n",
       "<table border=\"1\" class=\"dataframe\">\n",
       "  <thead>\n",
       "    <tr style=\"text-align: right;\">\n",
       "      <th></th>\n",
       "      <th>longitude</th>\n",
       "      <th>latitude</th>\n",
       "      <th>housing_median_age</th>\n",
       "      <th>total_rooms</th>\n",
       "      <th>total_bedrooms</th>\n",
       "      <th>population</th>\n",
       "      <th>households</th>\n",
       "      <th>median_income</th>\n",
       "      <th>avg_household_size</th>\n",
       "      <th>avg_rooms_per_house</th>\n",
       "      <th>ratio_dayrooms_bedrooms</th>\n",
       "      <th>bedrooms_per_person</th>\n",
       "      <th>oc_pr_&lt;1H OCEAN</th>\n",
       "      <th>oc_pr_INLAND</th>\n",
       "      <th>oc_pr_ISLAND</th>\n",
       "      <th>oc_pr_NEAR BAY</th>\n",
       "      <th>oc_pr_NEAR OCEAN</th>\n",
       "      <th>median_house_value</th>\n",
       "    </tr>\n",
       "  </thead>\n",
       "  <tbody>\n",
       "    <tr>\n",
       "      <th>0</th>\n",
       "      <td>-122.23</td>\n",
       "      <td>37.88</td>\n",
       "      <td>41.0</td>\n",
       "      <td>880.0</td>\n",
       "      <td>129.0</td>\n",
       "      <td>322.0</td>\n",
       "      <td>126.0</td>\n",
       "      <td>8.3252</td>\n",
       "      <td>2.555556</td>\n",
       "      <td>6.984127</td>\n",
       "      <td>5.821705</td>\n",
       "      <td>0.400621</td>\n",
       "      <td>0</td>\n",
       "      <td>0</td>\n",
       "      <td>0</td>\n",
       "      <td>1</td>\n",
       "      <td>0</td>\n",
       "      <td>0</td>\n",
       "    </tr>\n",
       "    <tr>\n",
       "      <th>1</th>\n",
       "      <td>-122.22</td>\n",
       "      <td>37.86</td>\n",
       "      <td>21.0</td>\n",
       "      <td>7099.0</td>\n",
       "      <td>1106.0</td>\n",
       "      <td>2401.0</td>\n",
       "      <td>1138.0</td>\n",
       "      <td>8.3014</td>\n",
       "      <td>2.109842</td>\n",
       "      <td>6.238137</td>\n",
       "      <td>5.418626</td>\n",
       "      <td>0.460641</td>\n",
       "      <td>0</td>\n",
       "      <td>0</td>\n",
       "      <td>0</td>\n",
       "      <td>1</td>\n",
       "      <td>0</td>\n",
       "      <td>0</td>\n",
       "    </tr>\n",
       "    <tr>\n",
       "      <th>2</th>\n",
       "      <td>-122.24</td>\n",
       "      <td>37.85</td>\n",
       "      <td>52.0</td>\n",
       "      <td>1467.0</td>\n",
       "      <td>190.0</td>\n",
       "      <td>496.0</td>\n",
       "      <td>177.0</td>\n",
       "      <td>7.2574</td>\n",
       "      <td>2.802260</td>\n",
       "      <td>8.288136</td>\n",
       "      <td>6.721053</td>\n",
       "      <td>0.383065</td>\n",
       "      <td>0</td>\n",
       "      <td>0</td>\n",
       "      <td>0</td>\n",
       "      <td>1</td>\n",
       "      <td>0</td>\n",
       "      <td>0</td>\n",
       "    </tr>\n",
       "    <tr>\n",
       "      <th>3</th>\n",
       "      <td>-122.25</td>\n",
       "      <td>37.85</td>\n",
       "      <td>52.0</td>\n",
       "      <td>1274.0</td>\n",
       "      <td>235.0</td>\n",
       "      <td>558.0</td>\n",
       "      <td>219.0</td>\n",
       "      <td>5.6431</td>\n",
       "      <td>2.547945</td>\n",
       "      <td>5.817352</td>\n",
       "      <td>4.421277</td>\n",
       "      <td>0.421147</td>\n",
       "      <td>0</td>\n",
       "      <td>0</td>\n",
       "      <td>0</td>\n",
       "      <td>1</td>\n",
       "      <td>0</td>\n",
       "      <td>0</td>\n",
       "    </tr>\n",
       "    <tr>\n",
       "      <th>4</th>\n",
       "      <td>-122.25</td>\n",
       "      <td>37.85</td>\n",
       "      <td>52.0</td>\n",
       "      <td>1627.0</td>\n",
       "      <td>280.0</td>\n",
       "      <td>565.0</td>\n",
       "      <td>259.0</td>\n",
       "      <td>3.8462</td>\n",
       "      <td>2.181467</td>\n",
       "      <td>6.281853</td>\n",
       "      <td>4.810714</td>\n",
       "      <td>0.495575</td>\n",
       "      <td>0</td>\n",
       "      <td>0</td>\n",
       "      <td>0</td>\n",
       "      <td>1</td>\n",
       "      <td>0</td>\n",
       "      <td>0</td>\n",
       "    </tr>\n",
       "  </tbody>\n",
       "</table>\n",
       "</div>"
      ],
      "text/plain": [
       "   longitude  latitude  housing_median_age  total_rooms  total_bedrooms  \\\n",
       "0    -122.23     37.88                41.0        880.0           129.0   \n",
       "1    -122.22     37.86                21.0       7099.0          1106.0   \n",
       "2    -122.24     37.85                52.0       1467.0           190.0   \n",
       "3    -122.25     37.85                52.0       1274.0           235.0   \n",
       "4    -122.25     37.85                52.0       1627.0           280.0   \n",
       "\n",
       "   population  households  median_income  avg_household_size  \\\n",
       "0       322.0       126.0         8.3252            2.555556   \n",
       "1      2401.0      1138.0         8.3014            2.109842   \n",
       "2       496.0       177.0         7.2574            2.802260   \n",
       "3       558.0       219.0         5.6431            2.547945   \n",
       "4       565.0       259.0         3.8462            2.181467   \n",
       "\n",
       "   avg_rooms_per_house  ratio_dayrooms_bedrooms  bedrooms_per_person  \\\n",
       "0             6.984127                 5.821705             0.400621   \n",
       "1             6.238137                 5.418626             0.460641   \n",
       "2             8.288136                 6.721053             0.383065   \n",
       "3             5.817352                 4.421277             0.421147   \n",
       "4             6.281853                 4.810714             0.495575   \n",
       "\n",
       "   oc_pr_<1H OCEAN  oc_pr_INLAND  oc_pr_ISLAND  oc_pr_NEAR BAY  \\\n",
       "0                0             0             0               1   \n",
       "1                0             0             0               1   \n",
       "2                0             0             0               1   \n",
       "3                0             0             0               1   \n",
       "4                0             0             0               1   \n",
       "\n",
       "   oc_pr_NEAR OCEAN  median_house_value  \n",
       "0                 0                   0  \n",
       "1                 0                   0  \n",
       "2                 0                   0  \n",
       "3                 0                   0  \n",
       "4                 0                   0  "
      ]
     },
     "execution_count": 2,
     "metadata": {},
     "output_type": "execute_result"
    }
   ],
   "source": [
    "#importing the modified dataset\n",
    "CH_df = pd.read_csv('CH_df.csv')\n",
    "print(CH_df.shape)\n",
    "\n",
    "\n",
    "#class attribution\n",
    "'''\n",
    "500001 $ --> 1 (max)\n",
    "other values --> 0 (not max)\n",
    "'''\n",
    "CH_df['median_house_value'] = CH_df['median_house_value'].apply(lambda x: 0 if x < 500001 else 1)\n",
    "\n",
    "CH_df.head()"
   ]
  },
  {
   "cell_type": "markdown",
   "metadata": {},
   "source": [
    "### Dataset_manipulation"
   ]
  },
  {
   "cell_type": "code",
   "execution_count": 3,
   "metadata": {},
   "outputs": [
    {
     "data": {
      "text/plain": [
       "['longitude',\n",
       " 'latitude',\n",
       " 'median_income',\n",
       " 'avg_household_size',\n",
       " 'avg_rooms_per_house',\n",
       " 'bedrooms_per_person',\n",
       " 'ratio_dayrooms_bedrooms',\n",
       " 'oc_pr_<1H OCEAN',\n",
       " 'oc_pr_INLAND',\n",
       " 'oc_pr_ISLAND',\n",
       " 'oc_pr_NEAR BAY',\n",
       " 'oc_pr_NEAR OCEAN']"
      ]
     },
     "execution_count": 3,
     "metadata": {},
     "output_type": "execute_result"
    }
   ],
   "source": [
    "#print(CH_df.columns.values.tolist(), '\\n')\n",
    "\n",
    "columns = []\n",
    "\n",
    "columns = [\n",
    "    \n",
    "            'longitude', 'latitude',\n",
    "            #'housing_median_age', \n",
    "            #'total_rooms', 'total_bedrooms', \n",
    "            #'population', 'households', \n",
    "            'median_income',\n",
    "            'avg_household_size', 'avg_rooms_per_house', 'bedrooms_per_person', \n",
    "            'ratio_dayrooms_bedrooms',  \n",
    "            'oc_pr_<1H OCEAN', 'oc_pr_INLAND', 'oc_pr_ISLAND', 'oc_pr_NEAR BAY', 'oc_pr_NEAR OCEAN', \n",
    "            #'median_house_value'\n",
    "            \n",
    "            ]\n",
    "\n",
    "columns"
   ]
  },
  {
   "cell_type": "markdown",
   "metadata": {},
   "source": [
    "#### Creating a X matrix of the features and a y array of the targets:"
   ]
  },
  {
   "cell_type": "code",
   "execution_count": 4,
   "metadata": {},
   "outputs": [],
   "source": [
    "X = CH_df[columns].copy()\n",
    "y = CH_df['median_house_value']"
   ]
  },
  {
   "cell_type": "markdown",
   "metadata": {},
   "source": [
    "#### Split in Train and Test Set:"
   ]
  },
  {
   "cell_type": "markdown",
   "metadata": {},
   "source": [
    "IMPORTANT: It is necessary that 'test_size' and 'random_state' are set with the same values of notebook 2. For replicability and to be able to compare/combine the predictions."
   ]
  },
  {
   "cell_type": "code",
   "execution_count": 5,
   "metadata": {},
   "outputs": [
    {
     "name": "stdout",
     "output_type": "stream",
     "text": [
      "(20525, 12)\n",
      "(16420, 12)\n",
      "(4105, 12)\n"
     ]
    }
   ],
   "source": [
    "X_train, X_test, y_train, y_test = split(X, y, test_size =.2, random_state=0) \n",
    "\n",
    "print(X.shape)\n",
    "print(X_train.shape)\n",
    "print(X_test.shape)"
   ]
  },
  {
   "cell_type": "markdown",
   "metadata": {},
   "source": [
    "#### Dataset scaling:\n",
    "\n",
    "- MinMaxScaler() has been used to mantain '0' and '1' in the 'dummies' columns.\n",
    "\n",
    "- First it has been performed 'fit_transorm' on the train set. With this, the values for transformation has been obtained an then applied on the test set.\n"
   ]
  },
  {
   "cell_type": "code",
   "execution_count": 6,
   "metadata": {},
   "outputs": [
    {
     "name": "stdout",
     "output_type": "stream",
     "text": [
      "[[0.24501992 0.50851064 0.12126729 ... 0.         0.         0.        ]\n",
      " [0.18924303 0.63404255 0.09959863 ... 0.         0.         0.        ]\n",
      " [0.63645418 0.13510638 0.22117626 ... 0.         0.         0.        ]\n",
      " ...\n",
      " [0.20717131 0.60957447 0.1490945  ... 0.         1.         0.        ]\n",
      " [0.64541833 0.12234043 0.30450614 ... 0.         0.         0.        ]\n",
      " [0.82669323 0.08297872 0.08477814 ... 0.         0.         0.        ]]\n",
      "[[0.19123506 0.55744681 0.22805892 ... 0.         1.         0.        ]\n",
      " [0.61952191 0.16276596 0.14977035 ... 0.         0.         0.        ]\n",
      " [0.5189243  0.20638298 0.5        ... 0.         0.         0.        ]\n",
      " ...\n",
      " [0.62350598 0.17340426 0.67095626 ... 0.         0.         0.        ]\n",
      " [0.51693227 0.1787234  0.15556337 ... 0.         0.         1.        ]\n",
      " [0.60956175 0.16808511 0.26132053 ... 0.         0.         0.        ]]\n"
     ]
    }
   ],
   "source": [
    "#dataset scaling\n",
    "scaler = MinMaxScaler()\n",
    "\n",
    "X_train = scaler.fit_transform(X_train)\n",
    "print(X_train)\n",
    "\n",
    "X_test = scaler.transform(X_test)\n",
    "print(X_test)\n"
   ]
  },
  {
   "cell_type": "markdown",
   "metadata": {},
   "source": [
    "### Functions_Definition"
   ]
  },
  {
   "cell_type": "markdown",
   "metadata": {},
   "source": [
    "For the following part, two functions have been created in order to be re-used for all the models:\n",
    "* **random_search():** applying randomized search to find the best hyperparameters\n",
    "* **see_randomsearch_results():** visualize the obtained results"
   ]
  },
  {
   "cell_type": "markdown",
   "metadata": {},
   "source": [
    "Some considerations:\n",
    "* model and parameters are the model and the set of hyperparameters to be tested\n",
    "* cv is the number of folds for cross-validation\n",
    "* scoring is the metric that discriminates the parameters\n",
    "* verbose is set to 50 to have a sense of the ongoing analysis\n",
    "* a 'model_dict' is created to have all information organized in the same way for all the models"
   ]
  },
  {
   "cell_type": "code",
   "execution_count": 7,
   "metadata": {},
   "outputs": [],
   "source": [
    "def random_search(model, parameters, k, scoring, N):\n",
    "       \n",
    "    rs = RandomizedSearchCV(model, parameters, cv = k, scoring = scoring, n_iter = N, verbose = 50, n_jobs = -1) \n",
    "    rs = rs.fit(X_train, y_train)\n",
    "    \n",
    "    #'model_dict' is a dictionary containing all results of RandomizedSearchCV() for an easier later consultation\n",
    "    model_dict = {}\n",
    "    model_dict['best_score'] = rs.best_score_\n",
    "    model_dict['best_params'] = rs.best_params_\n",
    "    \n",
    "    model_dict['params'] = rs.cv_results_['params']\n",
    "    model_dict['means'] = rs.cv_results_['mean_test_score']\n",
    "    model_dict['stds'] = rs.cv_results_['std_test_score']\n",
    "        \n",
    "    best_model = rs.best_estimator_\n",
    "    \n",
    "    return best_model, model_dict"
   ]
  },
  {
   "cell_type": "code",
   "execution_count": 8,
   "metadata": {},
   "outputs": [],
   "source": [
    "def see_randomsearch_results(x, model_dict, regr_model):\n",
    "    \n",
    "    print('Best Model:', regr_model)\n",
    "    print('\\nBest score ({}): {:.3f}'.format(scoring, model_dict['best_score']))\n",
    "    \n",
    "    #to organize in descending order the results of the RandomizedSearchCV()\n",
    "    #and organize consequently the corresponding standard deviations and list of parameters\n",
    "    zipped_lists = zip(list(model_dict['means']), list(model_dict['stds']), list(model_dict['params']))\n",
    "    sorted_lists = sorted(zipped_lists, reverse = True)\n",
    "    tuples = zip(*sorted_lists)\n",
    "    sorted_means, sorted_stds, sorted_params = [ list(tuple) for tuple in  tuples]\n",
    "    \n",
    "    plt.figure(figsize=(20, 4))\n",
    "    \n",
    "    #plot a point corresponding to the score and a bar corresponding to the std dev for each group of parameters\n",
    "    plt.errorbar(x, sorted_means, yerr=sorted_stds, fmt='o')\n",
    "    plt.xticks(x)\n",
    "    \n",
    "    plt.show()\n",
    "\n",
    "    print('Chart Legend:\\n')\n",
    "    \n",
    "    for i in x:\n",
    "        print('{} --> Hyperparameters: {}'.format(i, sorted_params[i]))"
   ]
  },
  {
   "cell_type": "code",
   "execution_count": 9,
   "metadata": {},
   "outputs": [],
   "source": [
    "k = 10 #k-folds for cross validation\n",
    "\n",
    "scoring = 'f1' #f1 is the chosen metric (combines precision and recall)\n",
    "#F1 = 2 * (precision * recall) / (precision + recall)\n",
    "\n",
    "N = 20 #number of iterations (combination of hyperparameters)\n",
    "x = list(np.arange(0,N)) #for plotting"
   ]
  },
  {
   "cell_type": "markdown",
   "metadata": {},
   "source": [
    "### ML_Classification"
   ]
  },
  {
   "cell_type": "markdown",
   "metadata": {},
   "source": [
    "**Before starting with the classification, some observations regarding the objective.**\n",
    "\n",
    "The goal is to find if a block corresponds to a maximum. Also, this is not the only prediction of the analysis: regression is also performed to find continuos values for the target.\n",
    "\n",
    "Ideally, the pipeline of our system should be:\n",
    "- analyze sample --> is it a max?\n",
    "    * yes: assign max\n",
    "    * no: calculate the value with regression\n",
    "\n",
    "\n",
    "#### Best metric\n",
    "In this context, the **most important metric for classification is precision**. It is important that, if the classifier individuates a '1', this is actually correct. A **False Positve** means assigning a maximum value of houses when it is not supposed to be, and that's a problem.\n",
    "\n",
    "This is even worst if, as introduced, the analysis of a sample starts with the classification and stops if the result is 1. \n",
    "\n",
    "A non completely satisfactory precision could be mitigated if:\n",
    "on a sample are performed, in any case, both regression and classification. If classification individuates a max, than the average between the two predictions is performed (500001 and regr_predicion).\n",
    "\n",
    "\n",
    "#### Other metrics\n",
    "- Recall (sensibility) should be above a certain treshold: meaning that the classification is able to individuate a certain fraction of ones. Let's say it is 0.5: it means that the classifier is able to individuate half of the ones. This combined with a high precision, could be satisfactory. \n",
    "Of course, the higher the better; however, it is not so important to get a very high value (close to 1) because regression could \"fix\" the presence of **False Negatives**.\n",
    "\n",
    "\n",
    "- Accuracy combines \"all correct predictions\" / \"all values\". In this situation is not of interest beacuse of:\n",
    "    * the reasons explained above: a False Positive is worst than a False Negative.\n",
    "    * the disproprtion of zeros and ones. For example, considering that (more or less) zeros are 96 % and ones are 4 % of the dataset: a model that predict all zeros would have an accuracy of 96 %, but completely miss the point of the classification"
   ]
  },
  {
   "cell_type": "markdown",
   "metadata": {},
   "source": [
    "#### Classes disproportion\n",
    "\n",
    "There is a big disproprtion between zeros and ones. This could make more difficult the individuation of ones.\n",
    "\n",
    "To overcome this problem, it is set: **class_weight='balanced' for random forest and support vector machine**"
   ]
  },
  {
   "cell_type": "markdown",
   "metadata": {},
   "source": [
    "#### Random_Forest"
   ]
  },
  {
   "cell_type": "code",
   "execution_count": 10,
   "metadata": {},
   "outputs": [
    {
     "name": "stdout",
     "output_type": "stream",
     "text": [
      "Fitting 10 folds for each of 20 candidates, totalling 200 fits\n",
      "[Parallel(n_jobs=-1)]: Using backend LokyBackend with 4 concurrent workers.\n",
      "[Parallel(n_jobs=-1)]: Done   1 tasks      | elapsed:   17.7s\n",
      "[Parallel(n_jobs=-1)]: Done   2 tasks      | elapsed:   17.7s\n",
      "[Parallel(n_jobs=-1)]: Done   3 tasks      | elapsed:   18.0s\n",
      "[Parallel(n_jobs=-1)]: Done   4 tasks      | elapsed:   18.5s\n",
      "[Parallel(n_jobs=-1)]: Done   5 tasks      | elapsed:   34.5s\n",
      "[Parallel(n_jobs=-1)]: Done   6 tasks      | elapsed:   34.7s\n",
      "[Parallel(n_jobs=-1)]: Done   7 tasks      | elapsed:   35.0s\n",
      "[Parallel(n_jobs=-1)]: Done   8 tasks      | elapsed:   35.7s\n",
      "[Parallel(n_jobs=-1)]: Done   9 tasks      | elapsed:   51.8s\n",
      "[Parallel(n_jobs=-1)]: Done  10 tasks      | elapsed:   51.8s\n",
      "[Parallel(n_jobs=-1)]: Done  11 tasks      | elapsed:   55.1s\n",
      "[Parallel(n_jobs=-1)]: Done  12 tasks      | elapsed:   55.4s\n",
      "[Parallel(n_jobs=-1)]: Done  13 tasks      | elapsed:  1.2min\n",
      "[Parallel(n_jobs=-1)]: Done  14 tasks      | elapsed:  1.2min\n",
      "[Parallel(n_jobs=-1)]: Done  15 tasks      | elapsed:  1.2min\n",
      "[Parallel(n_jobs=-1)]: Done  16 tasks      | elapsed:  1.3min\n",
      "[Parallel(n_jobs=-1)]: Done  17 tasks      | elapsed:  1.5min\n",
      "[Parallel(n_jobs=-1)]: Done  18 tasks      | elapsed:  1.5min\n",
      "[Parallel(n_jobs=-1)]: Done  19 tasks      | elapsed:  1.6min\n",
      "[Parallel(n_jobs=-1)]: Done  20 tasks      | elapsed:  1.6min\n",
      "[Parallel(n_jobs=-1)]: Done  21 tasks      | elapsed:  1.7min\n",
      "[Parallel(n_jobs=-1)]: Done  22 tasks      | elapsed:  1.7min\n",
      "[Parallel(n_jobs=-1)]: Done  23 tasks      | elapsed:  1.7min\n",
      "[Parallel(n_jobs=-1)]: Done  24 tasks      | elapsed:  1.7min\n",
      "[Parallel(n_jobs=-1)]: Done  25 tasks      | elapsed:  1.7min\n",
      "[Parallel(n_jobs=-1)]: Done  26 tasks      | elapsed:  1.7min\n",
      "[Parallel(n_jobs=-1)]: Done  27 tasks      | elapsed:  1.8min\n",
      "[Parallel(n_jobs=-1)]: Done  28 tasks      | elapsed:  1.8min\n",
      "[Parallel(n_jobs=-1)]: Done  29 tasks      | elapsed:  1.9min\n",
      "[Parallel(n_jobs=-1)]: Done  30 tasks      | elapsed:  1.9min\n",
      "[Parallel(n_jobs=-1)]: Done  31 tasks      | elapsed:  1.9min\n",
      "[Parallel(n_jobs=-1)]: Done  32 tasks      | elapsed:  1.9min\n",
      "[Parallel(n_jobs=-1)]: Done  33 tasks      | elapsed:  1.9min\n",
      "[Parallel(n_jobs=-1)]: Done  34 tasks      | elapsed:  1.9min\n",
      "[Parallel(n_jobs=-1)]: Done  35 tasks      | elapsed:  2.0min\n",
      "[Parallel(n_jobs=-1)]: Done  36 tasks      | elapsed:  2.0min\n",
      "[Parallel(n_jobs=-1)]: Done  37 tasks      | elapsed:  2.0min\n",
      "[Parallel(n_jobs=-1)]: Done  38 tasks      | elapsed:  2.0min\n",
      "[Parallel(n_jobs=-1)]: Done  39 tasks      | elapsed:  2.1min\n",
      "[Parallel(n_jobs=-1)]: Done  40 tasks      | elapsed:  2.1min\n",
      "[Parallel(n_jobs=-1)]: Done  41 tasks      | elapsed:  2.1min\n",
      "[Parallel(n_jobs=-1)]: Done  42 tasks      | elapsed:  2.1min\n",
      "[Parallel(n_jobs=-1)]: Done  43 tasks      | elapsed:  2.2min\n",
      "[Parallel(n_jobs=-1)]: Done  44 tasks      | elapsed:  2.2min\n",
      "[Parallel(n_jobs=-1)]: Done  45 tasks      | elapsed:  2.3min\n",
      "[Parallel(n_jobs=-1)]: Done  46 tasks      | elapsed:  2.3min\n",
      "[Parallel(n_jobs=-1)]: Done  47 tasks      | elapsed:  2.3min\n",
      "[Parallel(n_jobs=-1)]: Done  48 tasks      | elapsed:  2.3min\n",
      "[Parallel(n_jobs=-1)]: Done  49 tasks      | elapsed:  2.4min\n",
      "[Parallel(n_jobs=-1)]: Done  50 tasks      | elapsed:  2.4min\n",
      "[Parallel(n_jobs=-1)]: Done  51 tasks      | elapsed:  2.4min\n",
      "[Parallel(n_jobs=-1)]: Done  52 tasks      | elapsed:  2.4min\n",
      "[Parallel(n_jobs=-1)]: Done  53 tasks      | elapsed:  2.4min\n",
      "[Parallel(n_jobs=-1)]: Done  54 tasks      | elapsed:  2.4min\n",
      "[Parallel(n_jobs=-1)]: Done  55 tasks      | elapsed:  2.5min\n",
      "[Parallel(n_jobs=-1)]: Done  56 tasks      | elapsed:  2.5min\n",
      "[Parallel(n_jobs=-1)]: Done  57 tasks      | elapsed:  2.5min\n",
      "[Parallel(n_jobs=-1)]: Done  58 tasks      | elapsed:  2.5min\n",
      "[Parallel(n_jobs=-1)]: Done  59 tasks      | elapsed:  2.5min\n",
      "[Parallel(n_jobs=-1)]: Done  60 tasks      | elapsed:  2.5min\n",
      "[Parallel(n_jobs=-1)]: Done  61 tasks      | elapsed:  2.6min\n",
      "[Parallel(n_jobs=-1)]: Done  62 tasks      | elapsed:  2.6min\n",
      "[Parallel(n_jobs=-1)]: Done  63 tasks      | elapsed:  2.6min\n",
      "[Parallel(n_jobs=-1)]: Done  64 tasks      | elapsed:  2.6min\n",
      "[Parallel(n_jobs=-1)]: Done  65 tasks      | elapsed:  2.7min\n",
      "[Parallel(n_jobs=-1)]: Done  66 tasks      | elapsed:  2.7min\n",
      "[Parallel(n_jobs=-1)]: Done  67 tasks      | elapsed:  2.7min\n",
      "[Parallel(n_jobs=-1)]: Done  68 tasks      | elapsed:  2.7min\n",
      "[Parallel(n_jobs=-1)]: Done  69 tasks      | elapsed:  2.8min\n",
      "[Parallel(n_jobs=-1)]: Done  70 tasks      | elapsed:  2.8min\n",
      "[Parallel(n_jobs=-1)]: Done  71 tasks      | elapsed:  3.0min\n",
      "[Parallel(n_jobs=-1)]: Done  72 tasks      | elapsed:  3.0min\n",
      "[Parallel(n_jobs=-1)]: Done  73 tasks      | elapsed:  3.1min\n",
      "[Parallel(n_jobs=-1)]: Done  74 tasks      | elapsed:  3.1min\n",
      "[Parallel(n_jobs=-1)]: Done  75 tasks      | elapsed:  3.3min\n",
      "[Parallel(n_jobs=-1)]: Done  76 tasks      | elapsed:  3.3min\n",
      "[Parallel(n_jobs=-1)]: Done  77 tasks      | elapsed:  3.4min\n",
      "[Parallel(n_jobs=-1)]: Done  78 tasks      | elapsed:  3.4min\n",
      "[Parallel(n_jobs=-1)]: Done  79 tasks      | elapsed:  3.6min\n",
      "[Parallel(n_jobs=-1)]: Done  80 tasks      | elapsed:  3.6min\n",
      "[Parallel(n_jobs=-1)]: Done  81 tasks      | elapsed:  3.6min\n",
      "[Parallel(n_jobs=-1)]: Done  82 tasks      | elapsed:  3.6min\n",
      "[Parallel(n_jobs=-1)]: Done  83 tasks      | elapsed:  3.8min\n",
      "[Parallel(n_jobs=-1)]: Done  84 tasks      | elapsed:  3.8min\n",
      "[Parallel(n_jobs=-1)]: Done  85 tasks      | elapsed:  3.8min\n",
      "[Parallel(n_jobs=-1)]: Done  86 tasks      | elapsed:  3.8min\n",
      "[Parallel(n_jobs=-1)]: Done  87 tasks      | elapsed:  4.0min\n",
      "[Parallel(n_jobs=-1)]: Done  88 tasks      | elapsed:  4.0min\n",
      "[Parallel(n_jobs=-1)]: Done  89 tasks      | elapsed:  4.0min\n",
      "[Parallel(n_jobs=-1)]: Done  90 tasks      | elapsed:  4.0min\n",
      "[Parallel(n_jobs=-1)]: Done  91 tasks      | elapsed:  4.1min\n",
      "[Parallel(n_jobs=-1)]: Done  92 tasks      | elapsed:  4.1min\n",
      "[Parallel(n_jobs=-1)]: Done  93 tasks      | elapsed:  4.1min\n",
      "[Parallel(n_jobs=-1)]: Done  94 tasks      | elapsed:  4.1min\n",
      "[Parallel(n_jobs=-1)]: Done  95 tasks      | elapsed:  4.2min\n",
      "[Parallel(n_jobs=-1)]: Done  96 tasks      | elapsed:  4.2min\n",
      "[Parallel(n_jobs=-1)]: Done  97 tasks      | elapsed:  4.2min\n",
      "[Parallel(n_jobs=-1)]: Done  98 tasks      | elapsed:  4.2min\n",
      "[Parallel(n_jobs=-1)]: Done  99 tasks      | elapsed:  4.3min\n",
      "[Parallel(n_jobs=-1)]: Done 100 tasks      | elapsed:  4.3min\n",
      "[Parallel(n_jobs=-1)]: Done 101 tasks      | elapsed:  4.4min\n",
      "[Parallel(n_jobs=-1)]: Done 102 tasks      | elapsed:  4.4min\n",
      "[Parallel(n_jobs=-1)]: Done 103 tasks      | elapsed:  4.5min\n",
      "[Parallel(n_jobs=-1)]: Done 104 tasks      | elapsed:  4.5min\n",
      "[Parallel(n_jobs=-1)]: Done 105 tasks      | elapsed:  4.6min\n",
      "[Parallel(n_jobs=-1)]: Done 106 tasks      | elapsed:  4.6min\n",
      "[Parallel(n_jobs=-1)]: Done 107 tasks      | elapsed:  4.7min\n",
      "[Parallel(n_jobs=-1)]: Done 108 tasks      | elapsed:  4.7min\n",
      "[Parallel(n_jobs=-1)]: Done 109 tasks      | elapsed:  4.8min\n",
      "[Parallel(n_jobs=-1)]: Done 110 tasks      | elapsed:  4.8min\n",
      "[Parallel(n_jobs=-1)]: Done 111 tasks      | elapsed:  4.8min\n",
      "[Parallel(n_jobs=-1)]: Done 112 tasks      | elapsed:  4.8min\n",
      "[Parallel(n_jobs=-1)]: Done 113 tasks      | elapsed:  4.9min\n",
      "[Parallel(n_jobs=-1)]: Done 114 tasks      | elapsed:  4.9min\n",
      "[Parallel(n_jobs=-1)]: Done 115 tasks      | elapsed:  4.9min\n",
      "[Parallel(n_jobs=-1)]: Done 116 tasks      | elapsed:  4.9min\n",
      "[Parallel(n_jobs=-1)]: Done 117 tasks      | elapsed:  5.0min\n",
      "[Parallel(n_jobs=-1)]: Done 118 tasks      | elapsed:  5.0min\n",
      "[Parallel(n_jobs=-1)]: Done 119 tasks      | elapsed:  5.0min\n",
      "[Parallel(n_jobs=-1)]: Done 120 tasks      | elapsed:  5.0min\n",
      "[Parallel(n_jobs=-1)]: Done 121 tasks      | elapsed:  5.2min\n",
      "[Parallel(n_jobs=-1)]: Done 122 tasks      | elapsed:  5.2min\n",
      "[Parallel(n_jobs=-1)]: Done 123 tasks      | elapsed:  5.3min\n",
      "[Parallel(n_jobs=-1)]: Done 124 tasks      | elapsed:  5.3min\n",
      "[Parallel(n_jobs=-1)]: Done 125 tasks      | elapsed:  5.5min\n",
      "[Parallel(n_jobs=-1)]: Done 126 tasks      | elapsed:  5.5min\n",
      "[Parallel(n_jobs=-1)]: Done 127 tasks      | elapsed:  5.5min\n",
      "[Parallel(n_jobs=-1)]: Done 128 tasks      | elapsed:  5.5min\n",
      "[Parallel(n_jobs=-1)]: Done 129 tasks      | elapsed:  5.7min\n",
      "[Parallel(n_jobs=-1)]: Done 130 tasks      | elapsed:  5.7min\n"
     ]
    },
    {
     "name": "stdout",
     "output_type": "stream",
     "text": [
      "[Parallel(n_jobs=-1)]: Done 131 tasks      | elapsed:  5.8min\n",
      "[Parallel(n_jobs=-1)]: Done 132 tasks      | elapsed:  5.8min\n",
      "[Parallel(n_jobs=-1)]: Done 133 tasks      | elapsed:  5.8min\n",
      "[Parallel(n_jobs=-1)]: Done 134 tasks      | elapsed:  5.8min\n",
      "[Parallel(n_jobs=-1)]: Done 135 tasks      | elapsed:  5.9min\n",
      "[Parallel(n_jobs=-1)]: Done 136 tasks      | elapsed:  5.9min\n",
      "[Parallel(n_jobs=-1)]: Done 137 tasks      | elapsed:  5.9min\n",
      "[Parallel(n_jobs=-1)]: Done 138 tasks      | elapsed:  5.9min\n",
      "[Parallel(n_jobs=-1)]: Done 139 tasks      | elapsed:  6.0min\n",
      "[Parallel(n_jobs=-1)]: Done 140 tasks      | elapsed:  6.0min\n",
      "[Parallel(n_jobs=-1)]: Done 141 tasks      | elapsed:  6.1min\n",
      "[Parallel(n_jobs=-1)]: Done 142 tasks      | elapsed:  6.1min\n",
      "[Parallel(n_jobs=-1)]: Done 143 tasks      | elapsed:  6.2min\n",
      "[Parallel(n_jobs=-1)]: Done 144 tasks      | elapsed:  6.2min\n",
      "[Parallel(n_jobs=-1)]: Done 145 tasks      | elapsed:  6.2min\n",
      "[Parallel(n_jobs=-1)]: Done 146 tasks      | elapsed:  6.2min\n",
      "[Parallel(n_jobs=-1)]: Done 147 tasks      | elapsed:  6.3min\n",
      "[Parallel(n_jobs=-1)]: Done 148 tasks      | elapsed:  6.3min\n",
      "[Parallel(n_jobs=-1)]: Done 149 tasks      | elapsed:  6.3min\n",
      "[Parallel(n_jobs=-1)]: Done 150 tasks      | elapsed:  6.3min\n",
      "[Parallel(n_jobs=-1)]: Done 151 tasks      | elapsed:  6.5min\n",
      "[Parallel(n_jobs=-1)]: Done 152 tasks      | elapsed:  6.5min\n",
      "[Parallel(n_jobs=-1)]: Done 153 tasks      | elapsed:  6.5min\n",
      "[Parallel(n_jobs=-1)]: Done 154 tasks      | elapsed:  6.5min\n",
      "[Parallel(n_jobs=-1)]: Done 155 tasks      | elapsed:  6.7min\n",
      "[Parallel(n_jobs=-1)]: Done 156 tasks      | elapsed:  6.7min\n",
      "[Parallel(n_jobs=-1)]: Done 157 tasks      | elapsed:  6.7min\n",
      "[Parallel(n_jobs=-1)]: Done 158 tasks      | elapsed:  6.7min\n",
      "[Parallel(n_jobs=-1)]: Done 159 tasks      | elapsed:  6.9min\n",
      "[Parallel(n_jobs=-1)]: Done 160 tasks      | elapsed:  6.9min\n",
      "[Parallel(n_jobs=-1)]: Done 161 tasks      | elapsed:  7.0min\n",
      "[Parallel(n_jobs=-1)]: Done 162 tasks      | elapsed:  7.0min\n",
      "[Parallel(n_jobs=-1)]: Done 163 tasks      | elapsed:  7.2min\n",
      "[Parallel(n_jobs=-1)]: Done 164 tasks      | elapsed:  7.2min\n",
      "[Parallel(n_jobs=-1)]: Done 165 tasks      | elapsed:  7.4min\n",
      "[Parallel(n_jobs=-1)]: Done 166 tasks      | elapsed:  7.4min\n",
      "[Parallel(n_jobs=-1)]: Done 167 tasks      | elapsed:  7.6min\n",
      "[Parallel(n_jobs=-1)]: Done 168 tasks      | elapsed:  7.6min\n",
      "[Parallel(n_jobs=-1)]: Done 169 tasks      | elapsed:  7.7min\n",
      "[Parallel(n_jobs=-1)]: Done 170 tasks      | elapsed:  7.7min\n",
      "[Parallel(n_jobs=-1)]: Done 171 tasks      | elapsed:  7.7min\n",
      "[Parallel(n_jobs=-1)]: Done 172 tasks      | elapsed:  7.8min\n",
      "[Parallel(n_jobs=-1)]: Done 173 tasks      | elapsed:  7.9min\n",
      "[Parallel(n_jobs=-1)]: Done 174 tasks      | elapsed:  7.9min\n",
      "[Parallel(n_jobs=-1)]: Done 175 tasks      | elapsed:  7.9min\n",
      "[Parallel(n_jobs=-1)]: Done 176 tasks      | elapsed:  8.0min\n",
      "[Parallel(n_jobs=-1)]: Done 177 tasks      | elapsed:  8.1min\n",
      "[Parallel(n_jobs=-1)]: Done 178 tasks      | elapsed:  8.1min\n",
      "[Parallel(n_jobs=-1)]: Done 179 tasks      | elapsed:  8.1min\n",
      "[Parallel(n_jobs=-1)]: Done 180 tasks      | elapsed:  8.1min\n",
      "[Parallel(n_jobs=-1)]: Done 181 tasks      | elapsed:  8.2min\n",
      "[Parallel(n_jobs=-1)]: Done 182 tasks      | elapsed:  8.2min\n",
      "[Parallel(n_jobs=-1)]: Done 183 tasks      | elapsed:  8.2min\n",
      "[Parallel(n_jobs=-1)]: Done 184 tasks      | elapsed:  8.2min\n",
      "[Parallel(n_jobs=-1)]: Done 185 tasks      | elapsed:  8.3min\n",
      "[Parallel(n_jobs=-1)]: Done 186 tasks      | elapsed:  8.3min\n",
      "[Parallel(n_jobs=-1)]: Done 187 tasks      | elapsed:  8.3min\n",
      "[Parallel(n_jobs=-1)]: Done 188 tasks      | elapsed:  8.3min\n",
      "[Parallel(n_jobs=-1)]: Done 189 tasks      | elapsed:  8.4min\n",
      "[Parallel(n_jobs=-1)]: Done 190 tasks      | elapsed:  8.4min\n",
      "[Parallel(n_jobs=-1)]: Done 191 tasks      | elapsed:  8.4min\n",
      "[Parallel(n_jobs=-1)]: Done 192 tasks      | elapsed:  8.4min\n",
      "[Parallel(n_jobs=-1)]: Done 193 tasks      | elapsed:  8.5min\n",
      "[Parallel(n_jobs=-1)]: Done 198 out of 200 | elapsed:  8.6min remaining:    5.1s\n",
      "[Parallel(n_jobs=-1)]: Done 200 out of 200 | elapsed:  8.6min finished\n",
      "\n",
      "Done!\n"
     ]
    }
   ],
   "source": [
    "from sklearn.ensemble import RandomForestClassifier\n",
    "\n",
    "classifier = RandomForestClassifier(class_weight='balanced')\n",
    "\n",
    "parameters = {'n_estimators': [200, 300],\n",
    "              'max_features': uniform(0.07, 0.5),\n",
    "             #'min_samples_split': loguniform(0.0001,0.01),\n",
    "              'min_samples_leaf':loguniform(0.0001,0.01)\n",
    "             }\n",
    "\n",
    "\n",
    "RF_classifier, RF_dict = random_search(classifier, parameters, k, scoring, N)\n",
    "\n",
    "RF_predictions = RF_classifier.predict(X_test)\n",
    "\n",
    "print('\\nDone!')"
   ]
  },
  {
   "cell_type": "code",
   "execution_count": 11,
   "metadata": {},
   "outputs": [
    {
     "name": "stdout",
     "output_type": "stream",
     "text": [
      "Best Model: RandomForestClassifier(class_weight='balanced',\n",
      "                       max_features=0.19808145687433382,\n",
      "                       min_samples_leaf=0.00019739008068922373,\n",
      "                       n_estimators=200)\n",
      "\n",
      "Best score (f1): 0.691\n"
     ]
    },
    {
     "data": {
      "image/png": "[encoded data removed]",
      "text/plain": [
       "<Figure size 1440x288 with 1 Axes>"
      ]
     },
     "metadata": {
      "needs_background": "light"
     },
     "output_type": "display_data"
    },
    {
     "name": "stdout",
     "output_type": "stream",
     "text": [
      "Chart Legend:\n",
      "\n",
      "0 --> Hyperparameters: {'max_features': 0.19808145687433382, 'min_samples_leaf': 0.00019739008068922373, 'n_estimators': 200}\n",
      "1 --> Hyperparameters: {'max_features': 0.2821252848599311, 'min_samples_leaf': 0.0001654328910187992, 'n_estimators': 300}\n",
      "2 --> Hyperparameters: {'max_features': 0.25728123868233344, 'min_samples_leaf': 0.0001118693149121655, 'n_estimators': 300}\n",
      "3 --> Hyperparameters: {'max_features': 0.5281703319116621, 'min_samples_leaf': 0.0001384868184657441, 'n_estimators': 300}\n",
      "4 --> Hyperparameters: {'max_features': 0.5299715920110402, 'min_samples_leaf': 0.00027385952668467585, 'n_estimators': 200}\n",
      "5 --> Hyperparameters: {'max_features': 0.44292108339886266, 'min_samples_leaf': 0.00030355471480725623, 'n_estimators': 200}\n",
      "6 --> Hyperparameters: {'max_features': 0.4770184415941134, 'min_samples_leaf': 0.0003769708883237453, 'n_estimators': 200}\n",
      "7 --> Hyperparameters: {'max_features': 0.2322954068295624, 'min_samples_leaf': 0.000400621831433725, 'n_estimators': 200}\n",
      "8 --> Hyperparameters: {'max_features': 0.4445720463310236, 'min_samples_leaf': 0.0004418703211673062, 'n_estimators': 200}\n",
      "9 --> Hyperparameters: {'max_features': 0.22798379962042836, 'min_samples_leaf': 0.0004526106333899786, 'n_estimators': 200}\n",
      "10 --> Hyperparameters: {'max_features': 0.1793605884130537, 'min_samples_leaf': 0.0005274526606819344, 'n_estimators': 300}\n",
      "11 --> Hyperparameters: {'max_features': 0.13517912281311045, 'min_samples_leaf': 0.0009224718460726525, 'n_estimators': 200}\n",
      "12 --> Hyperparameters: {'max_features': 0.12687682378915455, 'min_samples_leaf': 0.0009627785872843533, 'n_estimators': 300}\n",
      "13 --> Hyperparameters: {'max_features': 0.23160040233209583, 'min_samples_leaf': 0.0011181696253788785, 'n_estimators': 200}\n",
      "14 --> Hyperparameters: {'max_features': 0.4665248096883445, 'min_samples_leaf': 0.0018031646419100612, 'n_estimators': 300}\n",
      "15 --> Hyperparameters: {'max_features': 0.11656685208555434, 'min_samples_leaf': 0.0020314135457371574, 'n_estimators': 300}\n",
      "16 --> Hyperparameters: {'max_features': 0.3403181796591812, 'min_samples_leaf': 0.0035433198557271797, 'n_estimators': 200}\n",
      "17 --> Hyperparameters: {'max_features': 0.21551329168704703, 'min_samples_leaf': 0.0031838996698315227, 'n_estimators': 200}\n",
      "18 --> Hyperparameters: {'max_features': 0.4616543985194103, 'min_samples_leaf': 0.004457796807342578, 'n_estimators': 300}\n",
      "19 --> Hyperparameters: {'max_features': 0.3080542767431981, 'min_samples_leaf': 0.004095802835163493, 'n_estimators': 200}\n"
     ]
    }
   ],
   "source": [
    "see_randomsearch_results(x, RF_dict, RF_classifier)"
   ]
  },
  {
   "cell_type": "code",
   "execution_count": 12,
   "metadata": {},
   "outputs": [
    {
     "name": "stdout",
     "output_type": "stream",
     "text": [
      "              precision    recall  f1-score   support\n",
      "\n",
      "           0       0.99      0.98      0.98      3919\n",
      "           1       0.61      0.70      0.65       186\n",
      "\n",
      "    accuracy                           0.97      4105\n",
      "   macro avg       0.80      0.84      0.82      4105\n",
      "weighted avg       0.97      0.97      0.97      4105\n",
      "\n"
     ]
    },
    {
     "data": {
      "text/plain": [
       "Text(33.0, 0.5, 'Actual Values')"
      ]
     },
     "execution_count": 12,
     "metadata": {},
     "output_type": "execute_result"
    },
    {
     "data": {
      "image/png": "[encoded data removed]",
      "text/plain": [
       "<Figure size 432x288 with 2 Axes>"
      ]
     },
     "metadata": {
      "needs_background": "light"
     },
     "output_type": "display_data"
    }
   ],
   "source": [
    "#printing classification report\n",
    "print(classification_report(y_test, RF_predictions))\n",
    "\n",
    "# plot confusion matrix with predictions on test set\n",
    "sns.heatmap(confusion_matrix(y_test, RF_predictions), annot=True, cmap=\"Greens\")\n",
    "\n",
    "plt.title('Confusion Matrix')\n",
    "plt.xlabel('Predicted Values')\n",
    "plt.ylabel('Actual Values')"
   ]
  },
  {
   "cell_type": "markdown",
   "metadata": {},
   "source": [
    "As said before, the two metrics to evaluate are precision and recall (both referred to '1'):\n",
    "\n",
    "* precision = 0.61 is too low\n",
    "* recall = 0.70 could be accetable\n",
    "\n",
    "In general, due to poor precision, this model is not satisfactory."
   ]
  },
  {
   "cell_type": "markdown",
   "metadata": {},
   "source": [
    "#### K-NN_Classification"
   ]
  },
  {
   "cell_type": "code",
   "execution_count": 13,
   "metadata": {},
   "outputs": [
    {
     "name": "stdout",
     "output_type": "stream",
     "text": [
      "Fitting 10 folds for each of 20 candidates, totalling 200 fits\n",
      "[Parallel(n_jobs=-1)]: Using backend LokyBackend with 4 concurrent workers.\n",
      "[Parallel(n_jobs=-1)]: Done   1 tasks      | elapsed:    0.6s\n",
      "[Parallel(n_jobs=-1)]: Done   2 tasks      | elapsed:    0.6s\n",
      "[Parallel(n_jobs=-1)]: Done   3 tasks      | elapsed:    0.6s\n",
      "[Parallel(n_jobs=-1)]: Done   4 tasks      | elapsed:    0.6s\n",
      "[Parallel(n_jobs=-1)]: Done   5 tasks      | elapsed:    1.3s\n",
      "[Parallel(n_jobs=-1)]: Done   6 tasks      | elapsed:    1.3s\n",
      "[Parallel(n_jobs=-1)]: Done   7 tasks      | elapsed:    1.3s\n",
      "[Parallel(n_jobs=-1)]: Done   8 tasks      | elapsed:    1.3s\n",
      "[Parallel(n_jobs=-1)]: Done   9 tasks      | elapsed:    1.9s\n",
      "[Parallel(n_jobs=-1)]: Done  10 tasks      | elapsed:    1.9s\n",
      "[Parallel(n_jobs=-1)]: Done  11 tasks      | elapsed:    2.0s\n",
      "[Parallel(n_jobs=-1)]: Done  12 tasks      | elapsed:    2.0s\n",
      "[Parallel(n_jobs=-1)]: Done  13 tasks      | elapsed:    2.6s\n",
      "[Parallel(n_jobs=-1)]: Done  14 tasks      | elapsed:    2.6s\n",
      "[Parallel(n_jobs=-1)]: Done  15 tasks      | elapsed:    2.6s\n",
      "[Parallel(n_jobs=-1)]: Done  16 tasks      | elapsed:    2.6s\n",
      "[Parallel(n_jobs=-1)]: Done  17 tasks      | elapsed:    3.2s\n",
      "[Parallel(n_jobs=-1)]: Done  18 tasks      | elapsed:    3.2s\n",
      "[Parallel(n_jobs=-1)]: Done  19 tasks      | elapsed:    3.2s\n",
      "[Parallel(n_jobs=-1)]: Done  20 tasks      | elapsed:    3.2s\n",
      "[Parallel(n_jobs=-1)]: Done  21 tasks      | elapsed:    3.8s\n",
      "[Parallel(n_jobs=-1)]: Done  22 tasks      | elapsed:    3.8s\n",
      "[Parallel(n_jobs=-1)]: Done  23 tasks      | elapsed:    3.8s\n",
      "[Parallel(n_jobs=-1)]: Done  24 tasks      | elapsed:    3.8s\n",
      "[Parallel(n_jobs=-1)]: Done  25 tasks      | elapsed:    4.3s\n",
      "[Parallel(n_jobs=-1)]: Done  26 tasks      | elapsed:    4.3s\n",
      "[Parallel(n_jobs=-1)]: Done  27 tasks      | elapsed:    4.4s\n",
      "[Parallel(n_jobs=-1)]: Done  28 tasks      | elapsed:    4.4s\n",
      "[Parallel(n_jobs=-1)]: Done  29 tasks      | elapsed:    4.9s\n",
      "[Parallel(n_jobs=-1)]: Done  30 tasks      | elapsed:    4.9s\n",
      "[Parallel(n_jobs=-1)]: Done  31 tasks      | elapsed:    5.1s\n",
      "[Parallel(n_jobs=-1)]: Done  32 tasks      | elapsed:    5.2s\n",
      "[Parallel(n_jobs=-1)]: Done  33 tasks      | elapsed:    5.7s\n",
      "[Parallel(n_jobs=-1)]: Done  34 tasks      | elapsed:    5.7s\n",
      "[Parallel(n_jobs=-1)]: Done  35 tasks      | elapsed:    5.9s\n",
      "[Parallel(n_jobs=-1)]: Done  36 tasks      | elapsed:    6.0s\n",
      "[Parallel(n_jobs=-1)]: Done  37 tasks      | elapsed:    6.5s\n",
      "[Parallel(n_jobs=-1)]: Done  38 tasks      | elapsed:    6.5s\n",
      "[Parallel(n_jobs=-1)]: Done  39 tasks      | elapsed:    6.7s\n",
      "[Parallel(n_jobs=-1)]: Done  40 tasks      | elapsed:    6.8s\n",
      "[Parallel(n_jobs=-1)]: Done  41 tasks      | elapsed:    7.4s\n",
      "[Parallel(n_jobs=-1)]: Done  42 tasks      | elapsed:    7.4s\n",
      "[Parallel(n_jobs=-1)]: Done  43 tasks      | elapsed:    7.6s\n",
      "[Parallel(n_jobs=-1)]: Done  44 tasks      | elapsed:    7.6s\n",
      "[Parallel(n_jobs=-1)]: Done  45 tasks      | elapsed:    8.2s\n",
      "[Parallel(n_jobs=-1)]: Done  46 tasks      | elapsed:    8.2s\n",
      "[Parallel(n_jobs=-1)]: Done  47 tasks      | elapsed:    8.4s\n",
      "[Parallel(n_jobs=-1)]: Done  48 tasks      | elapsed:    8.5s\n",
      "[Parallel(n_jobs=-1)]: Done  49 tasks      | elapsed:    9.1s\n",
      "[Parallel(n_jobs=-1)]: Done  50 tasks      | elapsed:    9.1s\n",
      "[Parallel(n_jobs=-1)]: Done  51 tasks      | elapsed:    9.1s\n",
      "[Parallel(n_jobs=-1)]: Done  52 tasks      | elapsed:    9.1s\n",
      "[Parallel(n_jobs=-1)]: Done  53 tasks      | elapsed:    9.7s\n",
      "[Parallel(n_jobs=-1)]: Done  54 tasks      | elapsed:    9.7s\n",
      "[Parallel(n_jobs=-1)]: Done  55 tasks      | elapsed:    9.7s\n",
      "[Parallel(n_jobs=-1)]: Done  56 tasks      | elapsed:    9.7s\n",
      "[Parallel(n_jobs=-1)]: Done  57 tasks      | elapsed:   10.3s\n",
      "[Parallel(n_jobs=-1)]: Done  58 tasks      | elapsed:   10.3s\n",
      "[Parallel(n_jobs=-1)]: Done  59 tasks      | elapsed:   10.3s\n",
      "[Parallel(n_jobs=-1)]: Done  60 tasks      | elapsed:   10.4s\n",
      "[Parallel(n_jobs=-1)]: Done  61 tasks      | elapsed:   11.2s\n",
      "[Parallel(n_jobs=-1)]: Done  62 tasks      | elapsed:   11.3s\n",
      "[Parallel(n_jobs=-1)]: Done  63 tasks      | elapsed:   11.3s\n",
      "[Parallel(n_jobs=-1)]: Done  64 tasks      | elapsed:   11.4s\n",
      "[Parallel(n_jobs=-1)]: Done  65 tasks      | elapsed:   12.1s\n",
      "[Parallel(n_jobs=-1)]: Done  66 tasks      | elapsed:   12.1s\n",
      "[Parallel(n_jobs=-1)]: Done  67 tasks      | elapsed:   12.1s\n",
      "[Parallel(n_jobs=-1)]: Done  68 tasks      | elapsed:   12.2s\n",
      "[Parallel(n_jobs=-1)]: Done  69 tasks      | elapsed:   12.9s\n",
      "[Parallel(n_jobs=-1)]: Done  70 tasks      | elapsed:   12.9s\n",
      "[Parallel(n_jobs=-1)]: Done  71 tasks      | elapsed:   13.0s\n",
      "[Parallel(n_jobs=-1)]: Done  72 tasks      | elapsed:   13.0s\n",
      "[Parallel(n_jobs=-1)]: Done  73 tasks      | elapsed:   13.6s\n",
      "[Parallel(n_jobs=-1)]: Done  74 tasks      | elapsed:   13.7s\n",
      "[Parallel(n_jobs=-1)]: Done  75 tasks      | elapsed:   13.7s\n",
      "[Parallel(n_jobs=-1)]: Done  76 tasks      | elapsed:   13.7s\n",
      "[Parallel(n_jobs=-1)]: Done  77 tasks      | elapsed:   14.4s\n",
      "[Parallel(n_jobs=-1)]: Done  78 tasks      | elapsed:   14.5s\n",
      "[Parallel(n_jobs=-1)]: Done  79 tasks      | elapsed:   14.5s\n",
      "[Parallel(n_jobs=-1)]: Done  80 tasks      | elapsed:   14.5s\n",
      "[Parallel(n_jobs=-1)]: Done  81 tasks      | elapsed:   15.1s\n",
      "[Parallel(n_jobs=-1)]: Done  82 tasks      | elapsed:   15.2s\n",
      "[Parallel(n_jobs=-1)]: Done  83 tasks      | elapsed:   15.2s\n",
      "[Parallel(n_jobs=-1)]: Done  84 tasks      | elapsed:   15.2s\n",
      "[Parallel(n_jobs=-1)]: Done  85 tasks      | elapsed:   15.6s\n",
      "[Parallel(n_jobs=-1)]: Done  86 tasks      | elapsed:   15.8s\n",
      "[Parallel(n_jobs=-1)]: Done  87 tasks      | elapsed:   15.8s\n",
      "[Parallel(n_jobs=-1)]: Done  88 tasks      | elapsed:   15.8s\n",
      "[Parallel(n_jobs=-1)]: Done  89 tasks      | elapsed:   16.2s\n",
      "[Parallel(n_jobs=-1)]: Done  90 tasks      | elapsed:   16.4s\n",
      "[Parallel(n_jobs=-1)]: Done  91 tasks      | elapsed:   16.5s\n",
      "[Parallel(n_jobs=-1)]: Done  92 tasks      | elapsed:   16.5s\n",
      "[Parallel(n_jobs=-1)]: Done  93 tasks      | elapsed:   16.7s\n",
      "[Parallel(n_jobs=-1)]: Done  94 tasks      | elapsed:   17.1s\n",
      "[Parallel(n_jobs=-1)]: Done  95 tasks      | elapsed:   17.1s\n",
      "[Parallel(n_jobs=-1)]: Done  96 tasks      | elapsed:   17.1s\n",
      "[Parallel(n_jobs=-1)]: Done  97 tasks      | elapsed:   17.3s\n",
      "[Parallel(n_jobs=-1)]: Done  98 tasks      | elapsed:   17.7s\n",
      "[Parallel(n_jobs=-1)]: Done  99 tasks      | elapsed:   17.7s\n",
      "[Parallel(n_jobs=-1)]: Done 100 tasks      | elapsed:   17.7s\n",
      "[Parallel(n_jobs=-1)]: Done 101 tasks      | elapsed:   18.3s\n",
      "[Parallel(n_jobs=-1)]: Done 102 tasks      | elapsed:   18.7s\n",
      "[Parallel(n_jobs=-1)]: Done 103 tasks      | elapsed:   18.7s\n",
      "[Parallel(n_jobs=-1)]: Done 104 tasks      | elapsed:   18.7s\n",
      "[Parallel(n_jobs=-1)]: Done 105 tasks      | elapsed:   19.2s\n",
      "[Parallel(n_jobs=-1)]: Done 106 tasks      | elapsed:   19.6s\n",
      "[Parallel(n_jobs=-1)]: Done 107 tasks      | elapsed:   19.6s\n",
      "[Parallel(n_jobs=-1)]: Done 108 tasks      | elapsed:   19.7s\n",
      "[Parallel(n_jobs=-1)]: Done 109 tasks      | elapsed:   20.1s\n",
      "[Parallel(n_jobs=-1)]: Done 110 tasks      | elapsed:   20.3s\n",
      "[Parallel(n_jobs=-1)]: Done 111 tasks      | elapsed:   20.4s\n",
      "[Parallel(n_jobs=-1)]: Done 112 tasks      | elapsed:   20.6s\n",
      "[Parallel(n_jobs=-1)]: Done 113 tasks      | elapsed:   20.7s\n",
      "[Parallel(n_jobs=-1)]: Done 114 tasks      | elapsed:   21.0s\n",
      "[Parallel(n_jobs=-1)]: Done 115 tasks      | elapsed:   21.0s\n",
      "[Parallel(n_jobs=-1)]: Done 116 tasks      | elapsed:   21.2s\n",
      "[Parallel(n_jobs=-1)]: Done 117 tasks      | elapsed:   21.4s\n",
      "[Parallel(n_jobs=-1)]: Done 118 tasks      | elapsed:   21.6s\n",
      "[Parallel(n_jobs=-1)]: Done 119 tasks      | elapsed:   21.6s\n",
      "[Parallel(n_jobs=-1)]: Done 120 tasks      | elapsed:   21.9s\n",
      "[Parallel(n_jobs=-1)]: Done 121 tasks      | elapsed:   22.0s\n",
      "[Parallel(n_jobs=-1)]: Done 122 tasks      | elapsed:   22.2s\n",
      "[Parallel(n_jobs=-1)]: Done 123 tasks      | elapsed:   22.2s\n",
      "[Parallel(n_jobs=-1)]: Done 124 tasks      | elapsed:   22.5s\n",
      "[Parallel(n_jobs=-1)]: Done 125 tasks      | elapsed:   22.5s\n",
      "[Parallel(n_jobs=-1)]: Done 126 tasks      | elapsed:   22.8s\n",
      "[Parallel(n_jobs=-1)]: Done 127 tasks      | elapsed:   22.8s\n",
      "[Parallel(n_jobs=-1)]: Done 128 tasks      | elapsed:   23.1s\n",
      "[Parallel(n_jobs=-1)]: Done 129 tasks      | elapsed:   23.2s\n",
      "[Parallel(n_jobs=-1)]: Done 130 tasks      | elapsed:   23.4s\n"
     ]
    },
    {
     "name": "stdout",
     "output_type": "stream",
     "text": [
      "[Parallel(n_jobs=-1)]: Done 131 tasks      | elapsed:   23.8s\n",
      "[Parallel(n_jobs=-1)]: Done 132 tasks      | elapsed:   24.1s\n",
      "[Parallel(n_jobs=-1)]: Done 133 tasks      | elapsed:   24.1s\n",
      "[Parallel(n_jobs=-1)]: Done 134 tasks      | elapsed:   24.3s\n",
      "[Parallel(n_jobs=-1)]: Done 135 tasks      | elapsed:   24.7s\n",
      "[Parallel(n_jobs=-1)]: Done 136 tasks      | elapsed:   25.0s\n",
      "[Parallel(n_jobs=-1)]: Done 137 tasks      | elapsed:   25.0s\n",
      "[Parallel(n_jobs=-1)]: Done 138 tasks      | elapsed:   25.3s\n",
      "[Parallel(n_jobs=-1)]: Done 139 tasks      | elapsed:   25.7s\n",
      "[Parallel(n_jobs=-1)]: Done 140 tasks      | elapsed:   25.9s\n",
      "[Parallel(n_jobs=-1)]: Done 141 tasks      | elapsed:   26.0s\n",
      "[Parallel(n_jobs=-1)]: Done 142 tasks      | elapsed:   26.1s\n",
      "[Parallel(n_jobs=-1)]: Done 143 tasks      | elapsed:   26.5s\n",
      "[Parallel(n_jobs=-1)]: Done 144 tasks      | elapsed:   26.8s\n",
      "[Parallel(n_jobs=-1)]: Done 145 tasks      | elapsed:   26.9s\n",
      "[Parallel(n_jobs=-1)]: Done 146 tasks      | elapsed:   27.1s\n",
      "[Parallel(n_jobs=-1)]: Done 147 tasks      | elapsed:   27.5s\n",
      "[Parallel(n_jobs=-1)]: Done 148 tasks      | elapsed:   27.8s\n",
      "[Parallel(n_jobs=-1)]: Done 149 tasks      | elapsed:   27.9s\n",
      "[Parallel(n_jobs=-1)]: Done 150 tasks      | elapsed:   28.1s\n",
      "[Parallel(n_jobs=-1)]: Done 151 tasks      | elapsed:   28.6s\n",
      "[Parallel(n_jobs=-1)]: Done 152 tasks      | elapsed:   28.8s\n",
      "[Parallel(n_jobs=-1)]: Done 153 tasks      | elapsed:   28.9s\n",
      "[Parallel(n_jobs=-1)]: Done 154 tasks      | elapsed:   29.1s\n",
      "[Parallel(n_jobs=-1)]: Done 155 tasks      | elapsed:   29.4s\n",
      "[Parallel(n_jobs=-1)]: Done 156 tasks      | elapsed:   29.7s\n",
      "[Parallel(n_jobs=-1)]: Done 157 tasks      | elapsed:   29.8s\n",
      "[Parallel(n_jobs=-1)]: Done 158 tasks      | elapsed:   29.9s\n",
      "[Parallel(n_jobs=-1)]: Done 159 tasks      | elapsed:   30.3s\n",
      "[Parallel(n_jobs=-1)]: Done 160 tasks      | elapsed:   30.6s\n",
      "[Parallel(n_jobs=-1)]: Done 161 tasks      | elapsed:   30.6s\n",
      "[Parallel(n_jobs=-1)]: Done 162 tasks      | elapsed:   30.7s\n",
      "[Parallel(n_jobs=-1)]: Done 163 tasks      | elapsed:   31.0s\n",
      "[Parallel(n_jobs=-1)]: Done 164 tasks      | elapsed:   31.3s\n",
      "[Parallel(n_jobs=-1)]: Done 165 tasks      | elapsed:   31.4s\n",
      "[Parallel(n_jobs=-1)]: Done 166 tasks      | elapsed:   31.5s\n",
      "[Parallel(n_jobs=-1)]: Done 167 tasks      | elapsed:   31.7s\n",
      "[Parallel(n_jobs=-1)]: Done 168 tasks      | elapsed:   32.1s\n",
      "[Parallel(n_jobs=-1)]: Done 169 tasks      | elapsed:   32.2s\n",
      "[Parallel(n_jobs=-1)]: Done 170 tasks      | elapsed:   32.2s\n",
      "[Parallel(n_jobs=-1)]: Done 171 tasks      | elapsed:   32.9s\n",
      "[Parallel(n_jobs=-1)]: Done 172 tasks      | elapsed:   33.2s\n",
      "[Parallel(n_jobs=-1)]: Done 173 tasks      | elapsed:   33.3s\n",
      "[Parallel(n_jobs=-1)]: Done 174 tasks      | elapsed:   33.4s\n",
      "[Parallel(n_jobs=-1)]: Done 175 tasks      | elapsed:   34.1s\n",
      "[Parallel(n_jobs=-1)]: Done 176 tasks      | elapsed:   34.5s\n",
      "[Parallel(n_jobs=-1)]: Done 177 tasks      | elapsed:   34.5s\n",
      "[Parallel(n_jobs=-1)]: Done 178 tasks      | elapsed:   34.6s\n",
      "[Parallel(n_jobs=-1)]: Done 179 tasks      | elapsed:   35.1s\n",
      "[Parallel(n_jobs=-1)]: Done 180 tasks      | elapsed:   35.6s\n",
      "[Parallel(n_jobs=-1)]: Done 181 tasks      | elapsed:   35.7s\n",
      "[Parallel(n_jobs=-1)]: Done 182 tasks      | elapsed:   35.7s\n",
      "[Parallel(n_jobs=-1)]: Done 183 tasks      | elapsed:   36.2s\n",
      "[Parallel(n_jobs=-1)]: Done 184 tasks      | elapsed:   36.8s\n",
      "[Parallel(n_jobs=-1)]: Done 185 tasks      | elapsed:   36.9s\n",
      "[Parallel(n_jobs=-1)]: Done 186 tasks      | elapsed:   36.9s\n",
      "[Parallel(n_jobs=-1)]: Done 187 tasks      | elapsed:   37.3s\n",
      "[Parallel(n_jobs=-1)]: Done 188 tasks      | elapsed:   38.0s\n",
      "[Parallel(n_jobs=-1)]: Done 189 tasks      | elapsed:   38.0s\n",
      "[Parallel(n_jobs=-1)]: Done 190 tasks      | elapsed:   38.1s\n",
      "[Parallel(n_jobs=-1)]: Done 191 tasks      | elapsed:   38.2s\n",
      "[Parallel(n_jobs=-1)]: Done 192 tasks      | elapsed:   38.7s\n",
      "[Parallel(n_jobs=-1)]: Done 193 tasks      | elapsed:   38.8s\n",
      "[Parallel(n_jobs=-1)]: Done 198 out of 200 | elapsed:   39.6s remaining:    0.3s\n",
      "[Parallel(n_jobs=-1)]: Done 200 out of 200 | elapsed:   39.9s finished\n",
      "\n",
      "Done!\n"
     ]
    }
   ],
   "source": [
    "from sklearn.neighbors import KNeighborsClassifier\n",
    "\n",
    "classifier = KNeighborsClassifier()\n",
    "\n",
    "K_min = round(CH_df.shape[0] * 0.0005)\n",
    "K_max = round(CH_df.shape[0] * 0.01)\n",
    "\n",
    "parameters = {'n_neighbors': randint(K_min, K_max)}\n",
    "\n",
    "KNN_classifier, KNN_dict = random_search(classifier, parameters, k, scoring, N)\n",
    "\n",
    "KNN_predictions = KNN_classifier.predict(X_test)\n",
    "\n",
    "print('\\nDone!')"
   ]
  },
  {
   "cell_type": "code",
   "execution_count": 14,
   "metadata": {},
   "outputs": [
    {
     "name": "stdout",
     "output_type": "stream",
     "text": [
      "Best Model: KNeighborsClassifier(n_neighbors=19)\n",
      "\n",
      "Best score (f1): 0.563\n"
     ]
    },
    {
     "data": {
      "image/png": "[encoded data removed]",
      "text/plain": [
       "<Figure size 1440x288 with 1 Axes>"
      ]
     },
     "metadata": {
      "needs_background": "light"
     },
     "output_type": "display_data"
    },
    {
     "name": "stdout",
     "output_type": "stream",
     "text": [
      "Chart Legend:\n",
      "\n",
      "0 --> Hyperparameters: {'n_neighbors': 19}\n",
      "1 --> Hyperparameters: {'n_neighbors': 26}\n",
      "2 --> Hyperparameters: {'n_neighbors': 33}\n",
      "3 --> Hyperparameters: {'n_neighbors': 31}\n",
      "4 --> Hyperparameters: {'n_neighbors': 30}\n",
      "5 --> Hyperparameters: {'n_neighbors': 34}\n",
      "6 --> Hyperparameters: {'n_neighbors': 41}\n",
      "7 --> Hyperparameters: {'n_neighbors': 47}\n",
      "8 --> Hyperparameters: {'n_neighbors': 46}\n",
      "9 --> Hyperparameters: {'n_neighbors': 64}\n",
      "10 --> Hyperparameters: {'n_neighbors': 66}\n",
      "11 --> Hyperparameters: {'n_neighbors': 87}\n",
      "12 --> Hyperparameters: {'n_neighbors': 90}\n",
      "13 --> Hyperparameters: {'n_neighbors': 104}\n",
      "14 --> Hyperparameters: {'n_neighbors': 111}\n",
      "15 --> Hyperparameters: {'n_neighbors': 120}\n",
      "16 --> Hyperparameters: {'n_neighbors': 161}\n",
      "17 --> Hyperparameters: {'n_neighbors': 161}\n",
      "18 --> Hyperparameters: {'n_neighbors': 193}\n",
      "19 --> Hyperparameters: {'n_neighbors': 195}\n"
     ]
    }
   ],
   "source": [
    "see_randomsearch_results(x, KNN_dict, KNN_classifier)"
   ]
  },
  {
   "cell_type": "code",
   "execution_count": 15,
   "metadata": {},
   "outputs": [
    {
     "name": "stdout",
     "output_type": "stream",
     "text": [
      "              precision    recall  f1-score   support\n",
      "\n",
      "           0       0.97      0.99      0.98      3919\n",
      "           1       0.80      0.45      0.58       186\n",
      "\n",
      "    accuracy                           0.97      4105\n",
      "   macro avg       0.89      0.72      0.78      4105\n",
      "weighted avg       0.97      0.97      0.97      4105\n",
      "\n"
     ]
    },
    {
     "data": {
      "text/plain": [
       "Text(33.0, 0.5, 'Actual Values')"
      ]
     },
     "execution_count": 15,
     "metadata": {},
     "output_type": "execute_result"
    },
    {
     "data": {
      "image/png": "[encoded data removed]",
      "text/plain": [
       "<Figure size 432x288 with 2 Axes>"
      ]
     },
     "metadata": {
      "needs_background": "light"
     },
     "output_type": "display_data"
    }
   ],
   "source": [
    "\n",
    "#printing classification report\n",
    "print(classification_report(y_test, KNN_predictions))\n",
    "\n",
    "# plot confusion matrix with predictions on test set\n",
    "sns.heatmap(confusion_matrix(y_test, KNN_predictions), annot=True, cmap=\"Greens\")\n",
    "\n",
    "plt.title('Confusion Matrix')\n",
    "plt.xlabel('Predicted Values')\n",
    "plt.ylabel('Actual Values')"
   ]
  },
  {
   "cell_type": "markdown",
   "metadata": {},
   "source": [
    "Compared to Random Forest: there was a slight improvement in precision but a decrease in sensitivity.\n",
    "Still the model is not satisfactory."
   ]
  },
  {
   "cell_type": "markdown",
   "metadata": {},
   "source": [
    "#### SVM_Classification"
   ]
  },
  {
   "cell_type": "code",
   "execution_count": 16,
   "metadata": {},
   "outputs": [
    {
     "name": "stdout",
     "output_type": "stream",
     "text": [
      "Fitting 10 folds for each of 20 candidates, totalling 200 fits\n",
      "[Parallel(n_jobs=-1)]: Using backend LokyBackend with 4 concurrent workers.\n",
      "[Parallel(n_jobs=-1)]: Done   1 tasks      | elapsed:    2.4s\n",
      "[Parallel(n_jobs=-1)]: Done   2 tasks      | elapsed:    2.5s\n",
      "[Parallel(n_jobs=-1)]: Done   3 tasks      | elapsed:    2.5s\n",
      "[Parallel(n_jobs=-1)]: Done   4 tasks      | elapsed:    2.5s\n",
      "[Parallel(n_jobs=-1)]: Done   5 tasks      | elapsed:    5.0s\n",
      "[Parallel(n_jobs=-1)]: Done   6 tasks      | elapsed:    5.0s\n",
      "[Parallel(n_jobs=-1)]: Done   7 tasks      | elapsed:    5.0s\n",
      "[Parallel(n_jobs=-1)]: Done   8 tasks      | elapsed:    5.1s\n",
      "[Parallel(n_jobs=-1)]: Done   9 tasks      | elapsed:    6.3s\n",
      "[Parallel(n_jobs=-1)]: Done  10 tasks      | elapsed:    6.3s\n",
      "[Parallel(n_jobs=-1)]: Done  11 tasks      | elapsed:    7.6s\n",
      "[Parallel(n_jobs=-1)]: Done  12 tasks      | elapsed:    7.6s\n",
      "[Parallel(n_jobs=-1)]: Done  13 tasks      | elapsed:    7.7s\n",
      "[Parallel(n_jobs=-1)]: Done  14 tasks      | elapsed:    7.7s\n",
      "[Parallel(n_jobs=-1)]: Done  15 tasks      | elapsed:    8.8s\n",
      "[Parallel(n_jobs=-1)]: Done  16 tasks      | elapsed:    8.9s\n",
      "[Parallel(n_jobs=-1)]: Done  17 tasks      | elapsed:    9.0s\n",
      "[Parallel(n_jobs=-1)]: Done  18 tasks      | elapsed:    9.0s\n",
      "[Parallel(n_jobs=-1)]: Done  19 tasks      | elapsed:   10.1s\n",
      "[Parallel(n_jobs=-1)]: Done  20 tasks      | elapsed:   10.2s\n",
      "[Parallel(n_jobs=-1)]: Done  21 tasks      | elapsed:  1.1min\n",
      "[Parallel(n_jobs=-1)]: Done  22 tasks      | elapsed:  1.1min\n",
      "[Parallel(n_jobs=-1)]: Done  23 tasks      | elapsed:  1.1min\n",
      "[Parallel(n_jobs=-1)]: Done  24 tasks      | elapsed:  1.1min\n",
      "[Parallel(n_jobs=-1)]: Done  25 tasks      | elapsed:  2.0min\n",
      "[Parallel(n_jobs=-1)]: Done  26 tasks      | elapsed:  2.0min\n",
      "[Parallel(n_jobs=-1)]: Done  27 tasks      | elapsed:  2.0min\n",
      "[Parallel(n_jobs=-1)]: Done  28 tasks      | elapsed:  2.0min\n",
      "[Parallel(n_jobs=-1)]: Done  29 tasks      | elapsed:  2.1min\n",
      "[Parallel(n_jobs=-1)]: Done  30 tasks      | elapsed:  2.1min\n",
      "[Parallel(n_jobs=-1)]: Done  31 tasks      | elapsed:  2.1min\n",
      "[Parallel(n_jobs=-1)]: Done  32 tasks      | elapsed:  2.1min\n",
      "[Parallel(n_jobs=-1)]: Done  33 tasks      | elapsed:  2.1min\n",
      "[Parallel(n_jobs=-1)]: Done  34 tasks      | elapsed:  2.1min\n",
      "[Parallel(n_jobs=-1)]: Done  35 tasks      | elapsed:  2.2min\n",
      "[Parallel(n_jobs=-1)]: Done  36 tasks      | elapsed:  2.2min\n",
      "[Parallel(n_jobs=-1)]: Done  37 tasks      | elapsed:  2.2min\n",
      "[Parallel(n_jobs=-1)]: Done  38 tasks      | elapsed:  2.2min\n",
      "[Parallel(n_jobs=-1)]: Done  39 tasks      | elapsed:  2.2min\n",
      "[Parallel(n_jobs=-1)]: Done  40 tasks      | elapsed:  2.2min\n",
      "[Parallel(n_jobs=-1)]: Done  41 tasks      | elapsed:  2.2min\n",
      "[Parallel(n_jobs=-1)]: Done  42 tasks      | elapsed:  2.2min\n",
      "[Parallel(n_jobs=-1)]: Done  43 tasks      | elapsed:  2.2min\n",
      "[Parallel(n_jobs=-1)]: Done  44 tasks      | elapsed:  2.2min\n",
      "[Parallel(n_jobs=-1)]: Done  45 tasks      | elapsed:  2.2min\n",
      "[Parallel(n_jobs=-1)]: Done  46 tasks      | elapsed:  2.2min\n",
      "[Parallel(n_jobs=-1)]: Done  47 tasks      | elapsed:  2.3min\n",
      "[Parallel(n_jobs=-1)]: Done  48 tasks      | elapsed:  2.3min\n",
      "[Parallel(n_jobs=-1)]: Done  49 tasks      | elapsed:  2.6min\n",
      "[Parallel(n_jobs=-1)]: Done  50 tasks      | elapsed:  2.6min\n",
      "[Parallel(n_jobs=-1)]: Done  51 tasks      | elapsed:  2.8min\n",
      "[Parallel(n_jobs=-1)]: Done  52 tasks      | elapsed:  2.9min\n",
      "[Parallel(n_jobs=-1)]: Done  53 tasks      | elapsed:  2.9min\n",
      "[Parallel(n_jobs=-1)]: Done  54 tasks      | elapsed:  3.0min\n",
      "[Parallel(n_jobs=-1)]: Done  55 tasks      | elapsed:  3.2min\n",
      "[Parallel(n_jobs=-1)]: Done  56 tasks      | elapsed:  3.2min\n",
      "[Parallel(n_jobs=-1)]: Done  57 tasks      | elapsed:  3.2min\n",
      "[Parallel(n_jobs=-1)]: Done  58 tasks      | elapsed:  3.2min\n",
      "[Parallel(n_jobs=-1)]: Done  59 tasks      | elapsed:  3.3min\n",
      "[Parallel(n_jobs=-1)]: Done  60 tasks      | elapsed:  3.3min\n",
      "[Parallel(n_jobs=-1)]: Done  61 tasks      | elapsed:  3.3min\n",
      "[Parallel(n_jobs=-1)]: Done  62 tasks      | elapsed:  3.3min\n",
      "[Parallel(n_jobs=-1)]: Done  63 tasks      | elapsed:  3.4min\n",
      "[Parallel(n_jobs=-1)]: Done  64 tasks      | elapsed:  3.4min\n",
      "[Parallel(n_jobs=-1)]: Done  65 tasks      | elapsed:  3.4min\n",
      "[Parallel(n_jobs=-1)]: Done  66 tasks      | elapsed:  3.4min\n",
      "[Parallel(n_jobs=-1)]: Done  67 tasks      | elapsed:  3.4min\n",
      "[Parallel(n_jobs=-1)]: Done  68 tasks      | elapsed:  3.4min\n",
      "[Parallel(n_jobs=-1)]: Done  69 tasks      | elapsed:  3.5min\n",
      "[Parallel(n_jobs=-1)]: Done  70 tasks      | elapsed:  3.5min\n",
      "[Parallel(n_jobs=-1)]: Done  71 tasks      | elapsed:  3.5min\n",
      "[Parallel(n_jobs=-1)]: Done  72 tasks      | elapsed:  3.5min\n",
      "[Parallel(n_jobs=-1)]: Done  73 tasks      | elapsed:  3.5min\n",
      "[Parallel(n_jobs=-1)]: Done  74 tasks      | elapsed:  3.5min\n",
      "[Parallel(n_jobs=-1)]: Done  75 tasks      | elapsed:  3.5min\n",
      "[Parallel(n_jobs=-1)]: Done  76 tasks      | elapsed:  3.6min\n",
      "[Parallel(n_jobs=-1)]: Done  77 tasks      | elapsed:  3.6min\n",
      "[Parallel(n_jobs=-1)]: Done  78 tasks      | elapsed:  3.6min\n",
      "[Parallel(n_jobs=-1)]: Done  79 tasks      | elapsed:  3.6min\n",
      "[Parallel(n_jobs=-1)]: Done  80 tasks      | elapsed:  3.6min\n",
      "[Parallel(n_jobs=-1)]: Done  81 tasks      | elapsed:  3.6min\n",
      "[Parallel(n_jobs=-1)]: Done  82 tasks      | elapsed:  3.6min\n",
      "[Parallel(n_jobs=-1)]: Done  83 tasks      | elapsed:  3.6min\n",
      "[Parallel(n_jobs=-1)]: Done  84 tasks      | elapsed:  3.6min\n",
      "[Parallel(n_jobs=-1)]: Done  85 tasks      | elapsed:  3.6min\n",
      "[Parallel(n_jobs=-1)]: Done  86 tasks      | elapsed:  3.6min\n",
      "[Parallel(n_jobs=-1)]: Done  87 tasks      | elapsed:  3.6min\n",
      "[Parallel(n_jobs=-1)]: Done  88 tasks      | elapsed:  3.6min\n",
      "[Parallel(n_jobs=-1)]: Done  89 tasks      | elapsed:  3.6min\n",
      "[Parallel(n_jobs=-1)]: Done  90 tasks      | elapsed:  3.6min\n",
      "[Parallel(n_jobs=-1)]: Done  91 tasks      | elapsed:  3.6min\n",
      "[Parallel(n_jobs=-1)]: Done  92 tasks      | elapsed:  3.6min\n",
      "[Parallel(n_jobs=-1)]: Done  93 tasks      | elapsed:  3.7min\n",
      "[Parallel(n_jobs=-1)]: Done  94 tasks      | elapsed:  3.7min\n",
      "[Parallel(n_jobs=-1)]: Done  95 tasks      | elapsed:  3.7min\n",
      "[Parallel(n_jobs=-1)]: Done  96 tasks      | elapsed:  3.7min\n",
      "[Parallel(n_jobs=-1)]: Done  97 tasks      | elapsed:  3.7min\n",
      "[Parallel(n_jobs=-1)]: Done  98 tasks      | elapsed:  3.7min\n",
      "[Parallel(n_jobs=-1)]: Done  99 tasks      | elapsed:  3.7min\n",
      "[Parallel(n_jobs=-1)]: Done 100 tasks      | elapsed:  3.7min\n",
      "[Parallel(n_jobs=-1)]: Done 101 tasks      | elapsed:  3.8min\n",
      "[Parallel(n_jobs=-1)]: Done 102 tasks      | elapsed:  3.8min\n",
      "[Parallel(n_jobs=-1)]: Done 103 tasks      | elapsed:  3.8min\n",
      "[Parallel(n_jobs=-1)]: Done 104 tasks      | elapsed:  3.8min\n",
      "[Parallel(n_jobs=-1)]: Done 105 tasks      | elapsed:  3.9min\n",
      "[Parallel(n_jobs=-1)]: Done 106 tasks      | elapsed:  3.9min\n",
      "[Parallel(n_jobs=-1)]: Done 107 tasks      | elapsed:  3.9min\n",
      "[Parallel(n_jobs=-1)]: Done 108 tasks      | elapsed:  3.9min\n",
      "[Parallel(n_jobs=-1)]: Done 109 tasks      | elapsed:  4.0min\n",
      "[Parallel(n_jobs=-1)]: Done 110 tasks      | elapsed:  4.0min\n",
      "[Parallel(n_jobs=-1)]: Done 111 tasks      | elapsed:  4.1min\n",
      "[Parallel(n_jobs=-1)]: Done 112 tasks      | elapsed:  4.2min\n",
      "[Parallel(n_jobs=-1)]: Done 113 tasks      | elapsed:  4.2min\n",
      "[Parallel(n_jobs=-1)]: Done 114 tasks      | elapsed:  4.2min\n",
      "[Parallel(n_jobs=-1)]: Done 115 tasks      | elapsed:  4.2min\n",
      "[Parallel(n_jobs=-1)]: Done 116 tasks      | elapsed:  4.3min\n",
      "[Parallel(n_jobs=-1)]: Done 117 tasks      | elapsed:  4.4min\n",
      "[Parallel(n_jobs=-1)]: Done 118 tasks      | elapsed:  4.4min\n",
      "[Parallel(n_jobs=-1)]: Done 119 tasks      | elapsed:  4.4min\n",
      "[Parallel(n_jobs=-1)]: Done 120 tasks      | elapsed:  4.4min\n",
      "[Parallel(n_jobs=-1)]: Done 121 tasks      | elapsed:  4.4min\n",
      "[Parallel(n_jobs=-1)]: Done 122 tasks      | elapsed:  4.4min\n",
      "[Parallel(n_jobs=-1)]: Done 123 tasks      | elapsed:  4.4min\n",
      "[Parallel(n_jobs=-1)]: Done 124 tasks      | elapsed:  4.5min\n",
      "[Parallel(n_jobs=-1)]: Done 125 tasks      | elapsed:  4.5min\n",
      "[Parallel(n_jobs=-1)]: Done 126 tasks      | elapsed:  4.5min\n",
      "[Parallel(n_jobs=-1)]: Done 127 tasks      | elapsed:  4.5min\n",
      "[Parallel(n_jobs=-1)]: Done 128 tasks      | elapsed:  4.5min\n",
      "[Parallel(n_jobs=-1)]: Done 129 tasks      | elapsed:  4.5min\n",
      "[Parallel(n_jobs=-1)]: Done 130 tasks      | elapsed:  4.5min\n"
     ]
    },
    {
     "name": "stdout",
     "output_type": "stream",
     "text": [
      "[Parallel(n_jobs=-1)]: Done 131 tasks      | elapsed:  4.5min\n",
      "[Parallel(n_jobs=-1)]: Done 132 tasks      | elapsed:  4.5min\n",
      "[Parallel(n_jobs=-1)]: Done 133 tasks      | elapsed:  4.5min\n",
      "[Parallel(n_jobs=-1)]: Done 134 tasks      | elapsed:  4.6min\n",
      "[Parallel(n_jobs=-1)]: Done 135 tasks      | elapsed:  4.6min\n",
      "[Parallel(n_jobs=-1)]: Done 136 tasks      | elapsed:  4.6min\n",
      "[Parallel(n_jobs=-1)]: Done 137 tasks      | elapsed:  4.6min\n",
      "[Parallel(n_jobs=-1)]: Done 138 tasks      | elapsed:  4.6min\n",
      "[Parallel(n_jobs=-1)]: Done 139 tasks      | elapsed:  4.6min\n",
      "[Parallel(n_jobs=-1)]: Done 140 tasks      | elapsed:  4.6min\n",
      "[Parallel(n_jobs=-1)]: Done 141 tasks      | elapsed:  4.6min\n",
      "[Parallel(n_jobs=-1)]: Done 142 tasks      | elapsed:  4.7min\n",
      "[Parallel(n_jobs=-1)]: Done 143 tasks      | elapsed:  4.7min\n",
      "[Parallel(n_jobs=-1)]: Done 144 tasks      | elapsed:  4.7min\n",
      "[Parallel(n_jobs=-1)]: Done 145 tasks      | elapsed:  4.7min\n",
      "[Parallel(n_jobs=-1)]: Done 146 tasks      | elapsed:  4.7min\n",
      "[Parallel(n_jobs=-1)]: Done 147 tasks      | elapsed:  4.7min\n",
      "[Parallel(n_jobs=-1)]: Done 148 tasks      | elapsed:  4.7min\n",
      "[Parallel(n_jobs=-1)]: Done 149 tasks      | elapsed:  4.7min\n",
      "[Parallel(n_jobs=-1)]: Done 150 tasks      | elapsed:  4.7min\n",
      "[Parallel(n_jobs=-1)]: Done 151 tasks      | elapsed:  4.7min\n",
      "[Parallel(n_jobs=-1)]: Done 152 tasks      | elapsed:  4.7min\n",
      "[Parallel(n_jobs=-1)]: Done 153 tasks      | elapsed:  4.7min\n",
      "[Parallel(n_jobs=-1)]: Done 154 tasks      | elapsed:  4.7min\n",
      "[Parallel(n_jobs=-1)]: Done 155 tasks      | elapsed:  4.8min\n",
      "[Parallel(n_jobs=-1)]: Done 156 tasks      | elapsed:  4.8min\n",
      "[Parallel(n_jobs=-1)]: Done 157 tasks      | elapsed:  4.8min\n",
      "[Parallel(n_jobs=-1)]: Done 158 tasks      | elapsed:  4.8min\n",
      "[Parallel(n_jobs=-1)]: Done 159 tasks      | elapsed:  4.8min\n",
      "[Parallel(n_jobs=-1)]: Done 160 tasks      | elapsed:  4.8min\n",
      "[Parallel(n_jobs=-1)]: Done 161 tasks      | elapsed:  4.8min\n",
      "[Parallel(n_jobs=-1)]: Done 162 tasks      | elapsed:  4.8min\n",
      "[Parallel(n_jobs=-1)]: Done 163 tasks      | elapsed:  4.8min\n",
      "[Parallel(n_jobs=-1)]: Done 164 tasks      | elapsed:  4.8min\n",
      "[Parallel(n_jobs=-1)]: Done 165 tasks      | elapsed:  4.8min\n",
      "[Parallel(n_jobs=-1)]: Done 166 tasks      | elapsed:  4.8min\n",
      "[Parallel(n_jobs=-1)]: Done 167 tasks      | elapsed:  4.8min\n",
      "[Parallel(n_jobs=-1)]: Done 168 tasks      | elapsed:  4.8min\n",
      "[Parallel(n_jobs=-1)]: Done 169 tasks      | elapsed:  4.8min\n",
      "[Parallel(n_jobs=-1)]: Done 170 tasks      | elapsed:  4.8min\n",
      "[Parallel(n_jobs=-1)]: Done 171 tasks      | elapsed:  4.9min\n",
      "[Parallel(n_jobs=-1)]: Done 172 tasks      | elapsed:  4.9min\n",
      "[Parallel(n_jobs=-1)]: Done 173 tasks      | elapsed:  4.9min\n",
      "[Parallel(n_jobs=-1)]: Done 174 tasks      | elapsed:  4.9min\n",
      "[Parallel(n_jobs=-1)]: Done 175 tasks      | elapsed:  4.9min\n",
      "[Parallel(n_jobs=-1)]: Done 176 tasks      | elapsed:  4.9min\n",
      "[Parallel(n_jobs=-1)]: Done 177 tasks      | elapsed:  4.9min\n",
      "[Parallel(n_jobs=-1)]: Done 178 tasks      | elapsed:  4.9min\n",
      "[Parallel(n_jobs=-1)]: Done 179 tasks      | elapsed:  4.9min\n",
      "[Parallel(n_jobs=-1)]: Done 180 tasks      | elapsed:  4.9min\n",
      "[Parallel(n_jobs=-1)]: Done 181 tasks      | elapsed:  4.9min\n",
      "[Parallel(n_jobs=-1)]: Done 182 tasks      | elapsed:  4.9min\n",
      "[Parallel(n_jobs=-1)]: Done 183 tasks      | elapsed:  4.9min\n",
      "[Parallel(n_jobs=-1)]: Done 184 tasks      | elapsed:  4.9min\n",
      "[Parallel(n_jobs=-1)]: Done 185 tasks      | elapsed:  4.9min\n",
      "[Parallel(n_jobs=-1)]: Done 186 tasks      | elapsed:  4.9min\n",
      "[Parallel(n_jobs=-1)]: Done 187 tasks      | elapsed:  5.0min\n",
      "[Parallel(n_jobs=-1)]: Done 188 tasks      | elapsed:  5.0min\n",
      "[Parallel(n_jobs=-1)]: Done 189 tasks      | elapsed:  5.0min\n",
      "[Parallel(n_jobs=-1)]: Done 190 tasks      | elapsed:  5.0min\n",
      "[Parallel(n_jobs=-1)]: Done 191 tasks      | elapsed:  5.0min\n",
      "[Parallel(n_jobs=-1)]: Done 192 tasks      | elapsed:  5.0min\n",
      "[Parallel(n_jobs=-1)]: Done 193 tasks      | elapsed:  5.0min\n",
      "[Parallel(n_jobs=-1)]: Done 198 out of 200 | elapsed:  5.0min remaining:    2.9s\n",
      "[Parallel(n_jobs=-1)]: Done 200 out of 200 | elapsed:  5.0min finished\n",
      "\n",
      "Done!\n"
     ]
    }
   ],
   "source": [
    "from sklearn.svm import SVC\n",
    "\n",
    "classifier = SVC()\n",
    "\n",
    "C_range = loguniform(1e-3, 1e3)\n",
    "gamma_range = loguniform(1e-3, 1e3)\n",
    "degree_range = np.arange(2,5)\n",
    "\n",
    "parameters = [\n",
    "                {'kernel' : ['linear'], 'C' : C_range},\n",
    "                {'kernel' : ['rbf'], 'C' : C_range, 'gamma' : gamma_range},\n",
    "                {'kernel' : ['poly'], 'C' : C_range, 'degree' : degree_range}\n",
    "                \n",
    "             ]\n",
    "\n",
    "\n",
    "SVC_classifier, SVC_dict = random_search(classifier, parameters, k, scoring, N)\n",
    "\n",
    "SVC_predictions = SVC_classifier.predict(X_test)\n",
    "\n",
    "print('\\nDone!')"
   ]
  },
  {
   "cell_type": "code",
   "execution_count": 17,
   "metadata": {},
   "outputs": [],
   "source": [
    "#see_randomsearch_results(x, SVC_dict, SVC_classifier)"
   ]
  },
  {
   "cell_type": "code",
   "execution_count": 18,
   "metadata": {},
   "outputs": [
    {
     "name": "stdout",
     "output_type": "stream",
     "text": [
      "              precision    recall  f1-score   support\n",
      "\n",
      "           0       0.97      1.00      0.98      3919\n",
      "           1       0.82      0.44      0.57       186\n",
      "\n",
      "    accuracy                           0.97      4105\n",
      "   macro avg       0.90      0.72      0.78      4105\n",
      "weighted avg       0.97      0.97      0.97      4105\n",
      "\n"
     ]
    },
    {
     "data": {
      "text/plain": [
       "Text(33.0, 0.5, 'Actual Values')"
      ]
     },
     "execution_count": 18,
     "metadata": {},
     "output_type": "execute_result"
    },
    {
     "data": {
      "image/png": "[encoded data removed]",
      "text/plain": [
       "<Figure size 432x288 with 2 Axes>"
      ]
     },
     "metadata": {
      "needs_background": "light"
     },
     "output_type": "display_data"
    }
   ],
   "source": [
    "#printing classification report\n",
    "print(classification_report(y_test, SVC_predictions))\n",
    "\n",
    "# plot confusion matrix with predictions on test set\n",
    "sns.heatmap(confusion_matrix(y_test, SVC_predictions), annot=True, cmap=\"Greens\")\n",
    "\n",
    "plt.title('Confusion Matrix')\n",
    "plt.xlabel('Predicted Values')\n",
    "plt.ylabel('Actual Values')"
   ]
  },
  {
   "cell_type": "markdown",
   "metadata": {},
   "source": [
    "In this case:\n",
    "* precision has the highest value of the three (0.82)\n",
    "* recall is poor (0.44)\n",
    "\n",
    "Due to the considerations done before abot the importance of precision: this could be considered as the best of three models. However, performance is not really satisfactory."
   ]
  },
  {
   "cell_type": "markdown",
   "metadata": {},
   "source": [
    "### Conclusions"
   ]
  },
  {
   "cell_type": "markdown",
   "metadata": {},
   "source": [
    "Predictions from the SVC model are saved in a csv file and used back in notebook 2."
   ]
  },
  {
   "cell_type": "code",
   "execution_count": 19,
   "metadata": {},
   "outputs": [],
   "source": [
    "np.savetxt('y_test_classification.csv', SVC_predictions, delimiter = ',')"
   ]
  }
 ],
 "metadata": {
  "kernelspec": {
   "display_name": "Python 3",
   "language": "python",
   "name": "python3"
  },
  "language_info": {
   "codemirror_mode": {
    "name": "ipython",
    "version": 3
   },
   "file_extension": ".py",
   "mimetype": "text/x-python",
   "name": "python",
   "nbconvert_exporter": "python",
   "pygments_lexer": "ipython3",
   "version": "3.8.3"
  }
 },
 "nbformat": 4,
 "nbformat_minor": 4
}
