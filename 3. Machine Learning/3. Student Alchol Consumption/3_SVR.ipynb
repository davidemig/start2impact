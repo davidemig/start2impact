{
 "cells": [
  {
   "cell_type": "code",
   "execution_count": 1,
   "metadata": {},
   "outputs": [],
   "source": [
    "#import libraries\n",
    "\n",
    "import pandas as pd\n",
    "import numpy as np\n",
    "\n",
    "import seaborn as sns\n",
    "import matplotlib.pyplot as plt\n",
    "import matplotlib.colors as mcolors\n",
    "\n",
    "#for feature scaling\n",
    "from sklearn.preprocessing import MinMaxScaler\n",
    "from sklearn.preprocessing import LabelEncoder\n",
    "#split in train-test set\n",
    "from sklearn.model_selection import train_test_split as split\n",
    "\n",
    "#model evalutaion metrics\n",
    "from sklearn import metrics\n",
    "\n",
    "#for hyperparameters tuning\n",
    "from sklearn.model_selection import RandomizedSearchCV\n",
    "\n",
    "#for constructing distributions:\n",
    "from scipy.stats import uniform\n",
    "from scipy.stats import loguniform\n",
    "\n",
    "import math"
   ]
  },
  {
   "cell_type": "markdown",
   "metadata": {},
   "source": [
    "                                                             3rd Machine Learning Project - start2impact - Davide Miglietta"
   ]
  },
  {
   "cell_type": "markdown",
   "metadata": {},
   "source": [
    "                                                                                                        NOTEBOOK 3: SVR                                                           "
   ]
  },
  {
   "cell_type": "markdown",
   "metadata": {},
   "source": [
    "# Student Alcohol Consumption"
   ]
  },
  {
   "cell_type": "markdown",
   "metadata": {},
   "source": [
    "### SVR:\n",
    "\n",
    "In this notebook the prediction is done using a Support Vector Regressor (SVR). Treating different ML algorithms in different notebooks, let perform a more detailed analysis and optimization. Each model usually reach best performances in different conditions: for instance, Random Forest generally deal good with high number of features and doesn't need features scaling or transformations. For this reason, Random Forest and Support Vector Regression have been studied in different notebooks and after that, compared."
   ]
  },
  {
   "cell_type": "markdown",
   "metadata": {},
   "source": [
    "## Table of contents:\n",
    "1. [Data Manipulation](#1)\n",
    "    - [Features and Target](#1.1)\n",
    "    - [Train/Test Set Split](#1.2)\n",
    "\n",
    "\n",
    "2. [Functions Definition for ML Analysis](#2)\n",
    "\n",
    "\n",
    "3. [Random Forest](#3)\n",
    "\n",
    "\n",
    "4. [Features Importance Evaluation](#4)\n",
    "    - [Random Forest with Features Subset](#4.1)\n",
    "\n",
    "\n",
    "5. [Models Comparation](#5)\n",
    "    - [Results Scatterplot](#5.1)\n",
    "    - [Residuals Distributions](#5.2)\n",
    "    - [Metrics Comparation](#5.3)\n",
    "\n"
   ]
  },
  {
   "cell_type": "markdown",
   "metadata": {},
   "source": [
    "## 1"
   ]
  },
  {
   "cell_type": "markdown",
   "metadata": {},
   "source": [
    "## Data Manipulation"
   ]
  },
  {
   "cell_type": "code",
   "execution_count": 2,
   "metadata": {},
   "outputs": [
    {
     "name": "stdout",
     "output_type": "stream",
     "text": [
      "(649, 33)\n"
     ]
    },
    {
     "data": {
      "text/html": [
       "<div>\n",
       "<style scoped>\n",
       "    .dataframe tbody tr th:only-of-type {\n",
       "        vertical-align: middle;\n",
       "    }\n",
       "\n",
       "    .dataframe tbody tr th {\n",
       "        vertical-align: top;\n",
       "    }\n",
       "\n",
       "    .dataframe thead th {\n",
       "        text-align: right;\n",
       "    }\n",
       "</style>\n",
       "<table border=\"1\" class=\"dataframe\">\n",
       "  <thead>\n",
       "    <tr style=\"text-align: right;\">\n",
       "      <th></th>\n",
       "      <th>school</th>\n",
       "      <th>sex</th>\n",
       "      <th>age</th>\n",
       "      <th>address</th>\n",
       "      <th>famsize</th>\n",
       "      <th>Pstatus</th>\n",
       "      <th>Medu</th>\n",
       "      <th>Fedu</th>\n",
       "      <th>Mjob</th>\n",
       "      <th>Fjob</th>\n",
       "      <th>...</th>\n",
       "      <th>famrel</th>\n",
       "      <th>freetime</th>\n",
       "      <th>goout</th>\n",
       "      <th>Dalc</th>\n",
       "      <th>Walc</th>\n",
       "      <th>health</th>\n",
       "      <th>absences</th>\n",
       "      <th>G1</th>\n",
       "      <th>G2</th>\n",
       "      <th>G3</th>\n",
       "    </tr>\n",
       "  </thead>\n",
       "  <tbody>\n",
       "    <tr>\n",
       "      <th>0</th>\n",
       "      <td>GP</td>\n",
       "      <td>F</td>\n",
       "      <td>18</td>\n",
       "      <td>U</td>\n",
       "      <td>GT3</td>\n",
       "      <td>A</td>\n",
       "      <td>4</td>\n",
       "      <td>4</td>\n",
       "      <td>at_home</td>\n",
       "      <td>teacher</td>\n",
       "      <td>...</td>\n",
       "      <td>4</td>\n",
       "      <td>3</td>\n",
       "      <td>4</td>\n",
       "      <td>1</td>\n",
       "      <td>1</td>\n",
       "      <td>3</td>\n",
       "      <td>4</td>\n",
       "      <td>0</td>\n",
       "      <td>11</td>\n",
       "      <td>11</td>\n",
       "    </tr>\n",
       "    <tr>\n",
       "      <th>1</th>\n",
       "      <td>GP</td>\n",
       "      <td>F</td>\n",
       "      <td>17</td>\n",
       "      <td>U</td>\n",
       "      <td>GT3</td>\n",
       "      <td>T</td>\n",
       "      <td>1</td>\n",
       "      <td>1</td>\n",
       "      <td>at_home</td>\n",
       "      <td>other</td>\n",
       "      <td>...</td>\n",
       "      <td>5</td>\n",
       "      <td>3</td>\n",
       "      <td>3</td>\n",
       "      <td>1</td>\n",
       "      <td>1</td>\n",
       "      <td>3</td>\n",
       "      <td>2</td>\n",
       "      <td>9</td>\n",
       "      <td>11</td>\n",
       "      <td>11</td>\n",
       "    </tr>\n",
       "  </tbody>\n",
       "</table>\n",
       "<p>2 rows × 33 columns</p>\n",
       "</div>"
      ],
      "text/plain": [
       "  school sex  age address famsize Pstatus  Medu  Fedu     Mjob     Fjob  ...  \\\n",
       "0     GP   F   18       U     GT3       A     4     4  at_home  teacher  ...   \n",
       "1     GP   F   17       U     GT3       T     1     1  at_home    other  ...   \n",
       "\n",
       "  famrel freetime  goout  Dalc  Walc health absences G1  G2  G3  \n",
       "0      4        3      4     1     1      3        4  0  11  11  \n",
       "1      5        3      3     1     1      3        2  9  11  11  \n",
       "\n",
       "[2 rows x 33 columns]"
      ]
     },
     "execution_count": 2,
     "metadata": {},
     "output_type": "execute_result"
    }
   ],
   "source": [
    "#portuguese dataset import\n",
    "df = pd.read_csv('student-por.csv')\n",
    "print(df.shape)\n",
    "df.head(2)"
   ]
  },
  {
   "cell_type": "code",
   "execution_count": 3,
   "metadata": {},
   "outputs": [
    {
     "name": "stdout",
     "output_type": "stream",
     "text": [
      "['school', 'sex', 'address', 'famsize', 'Pstatus', 'Mjob', 'Fjob', 'reason', 'guardian', 'schoolsup', 'famsup', 'paid', 'activities', 'nursery', 'higher', 'internet', 'romantic']\n"
     ]
    },
    {
     "data": {
      "text/html": [
       "<div>\n",
       "<style scoped>\n",
       "    .dataframe tbody tr th:only-of-type {\n",
       "        vertical-align: middle;\n",
       "    }\n",
       "\n",
       "    .dataframe tbody tr th {\n",
       "        vertical-align: top;\n",
       "    }\n",
       "\n",
       "    .dataframe thead th {\n",
       "        text-align: right;\n",
       "    }\n",
       "</style>\n",
       "<table border=\"1\" class=\"dataframe\">\n",
       "  <thead>\n",
       "    <tr style=\"text-align: right;\">\n",
       "      <th></th>\n",
       "      <th>school_GP</th>\n",
       "      <th>school_MS</th>\n",
       "      <th>sex_F</th>\n",
       "      <th>sex_M</th>\n",
       "      <th>address_R</th>\n",
       "      <th>address_U</th>\n",
       "      <th>famsize_GT3</th>\n",
       "      <th>famsize_LE3</th>\n",
       "      <th>Pstatus_A</th>\n",
       "      <th>Pstatus_T</th>\n",
       "      <th>...</th>\n",
       "      <th>activities_no</th>\n",
       "      <th>activities_yes</th>\n",
       "      <th>nursery_no</th>\n",
       "      <th>nursery_yes</th>\n",
       "      <th>higher_no</th>\n",
       "      <th>higher_yes</th>\n",
       "      <th>internet_no</th>\n",
       "      <th>internet_yes</th>\n",
       "      <th>romantic_no</th>\n",
       "      <th>romantic_yes</th>\n",
       "    </tr>\n",
       "  </thead>\n",
       "  <tbody>\n",
       "    <tr>\n",
       "      <th>0</th>\n",
       "      <td>1</td>\n",
       "      <td>0</td>\n",
       "      <td>1</td>\n",
       "      <td>0</td>\n",
       "      <td>0</td>\n",
       "      <td>1</td>\n",
       "      <td>1</td>\n",
       "      <td>0</td>\n",
       "      <td>1</td>\n",
       "      <td>0</td>\n",
       "      <td>...</td>\n",
       "      <td>1</td>\n",
       "      <td>0</td>\n",
       "      <td>0</td>\n",
       "      <td>1</td>\n",
       "      <td>0</td>\n",
       "      <td>1</td>\n",
       "      <td>1</td>\n",
       "      <td>0</td>\n",
       "      <td>1</td>\n",
       "      <td>0</td>\n",
       "    </tr>\n",
       "    <tr>\n",
       "      <th>1</th>\n",
       "      <td>1</td>\n",
       "      <td>0</td>\n",
       "      <td>1</td>\n",
       "      <td>0</td>\n",
       "      <td>0</td>\n",
       "      <td>1</td>\n",
       "      <td>1</td>\n",
       "      <td>0</td>\n",
       "      <td>0</td>\n",
       "      <td>1</td>\n",
       "      <td>...</td>\n",
       "      <td>1</td>\n",
       "      <td>0</td>\n",
       "      <td>1</td>\n",
       "      <td>0</td>\n",
       "      <td>0</td>\n",
       "      <td>1</td>\n",
       "      <td>0</td>\n",
       "      <td>1</td>\n",
       "      <td>1</td>\n",
       "      <td>0</td>\n",
       "    </tr>\n",
       "  </tbody>\n",
       "</table>\n",
       "<p>2 rows × 43 columns</p>\n",
       "</div>"
      ],
      "text/plain": [
       "   school_GP  school_MS  sex_F  sex_M  address_R  address_U  famsize_GT3  \\\n",
       "0          1          0      1      0          0          1            1   \n",
       "1          1          0      1      0          0          1            1   \n",
       "\n",
       "   famsize_LE3  Pstatus_A  Pstatus_T  ...  activities_no  activities_yes  \\\n",
       "0            0          1          0  ...              1               0   \n",
       "1            0          0          1  ...              1               0   \n",
       "\n",
       "   nursery_no  nursery_yes  higher_no  higher_yes  internet_no  internet_yes  \\\n",
       "0           0            1          0           1            1             0   \n",
       "1           1            0          0           1            0             1   \n",
       "\n",
       "   romantic_no  romantic_yes  \n",
       "0            1             0  \n",
       "1            1             0  \n",
       "\n",
       "[2 rows x 43 columns]"
      ]
     },
     "execution_count": 3,
     "metadata": {},
     "output_type": "execute_result"
    }
   ],
   "source": [
    "#splitting categorical variables to transform in numbers\n",
    "categorical = df.select_dtypes(include=['object'])\n",
    "cat_columns = categorical.columns.tolist()\n",
    "print(cat_columns)\n",
    "\n",
    "#one-hot encoding\n",
    "categorical = pd.get_dummies(categorical)\n",
    "categorical.head(2)"
   ]
  },
  {
   "cell_type": "code",
   "execution_count": 4,
   "metadata": {},
   "outputs": [
    {
     "name": "stdout",
     "output_type": "stream",
     "text": [
      "(649, 59)\n",
      "(649, 57)\n"
     ]
    },
    {
     "data": {
      "text/html": [
       "<div>\n",
       "<style scoped>\n",
       "    .dataframe tbody tr th:only-of-type {\n",
       "        vertical-align: middle;\n",
       "    }\n",
       "\n",
       "    .dataframe tbody tr th {\n",
       "        vertical-align: top;\n",
       "    }\n",
       "\n",
       "    .dataframe thead th {\n",
       "        text-align: right;\n",
       "    }\n",
       "</style>\n",
       "<table border=\"1\" class=\"dataframe\">\n",
       "  <thead>\n",
       "    <tr style=\"text-align: right;\">\n",
       "      <th></th>\n",
       "      <th>age</th>\n",
       "      <th>Medu</th>\n",
       "      <th>Fedu</th>\n",
       "      <th>traveltime</th>\n",
       "      <th>studytime</th>\n",
       "      <th>failures</th>\n",
       "      <th>famrel</th>\n",
       "      <th>freetime</th>\n",
       "      <th>goout</th>\n",
       "      <th>Dalc</th>\n",
       "      <th>...</th>\n",
       "      <th>activities_no</th>\n",
       "      <th>activities_yes</th>\n",
       "      <th>nursery_no</th>\n",
       "      <th>nursery_yes</th>\n",
       "      <th>higher_no</th>\n",
       "      <th>higher_yes</th>\n",
       "      <th>internet_no</th>\n",
       "      <th>internet_yes</th>\n",
       "      <th>romantic_no</th>\n",
       "      <th>romantic_yes</th>\n",
       "    </tr>\n",
       "  </thead>\n",
       "  <tbody>\n",
       "    <tr>\n",
       "      <th>0</th>\n",
       "      <td>18</td>\n",
       "      <td>4</td>\n",
       "      <td>4</td>\n",
       "      <td>2</td>\n",
       "      <td>2</td>\n",
       "      <td>0</td>\n",
       "      <td>4</td>\n",
       "      <td>3</td>\n",
       "      <td>4</td>\n",
       "      <td>1</td>\n",
       "      <td>...</td>\n",
       "      <td>1</td>\n",
       "      <td>0</td>\n",
       "      <td>0</td>\n",
       "      <td>1</td>\n",
       "      <td>0</td>\n",
       "      <td>1</td>\n",
       "      <td>1</td>\n",
       "      <td>0</td>\n",
       "      <td>1</td>\n",
       "      <td>0</td>\n",
       "    </tr>\n",
       "    <tr>\n",
       "      <th>1</th>\n",
       "      <td>17</td>\n",
       "      <td>1</td>\n",
       "      <td>1</td>\n",
       "      <td>1</td>\n",
       "      <td>2</td>\n",
       "      <td>0</td>\n",
       "      <td>5</td>\n",
       "      <td>3</td>\n",
       "      <td>3</td>\n",
       "      <td>1</td>\n",
       "      <td>...</td>\n",
       "      <td>1</td>\n",
       "      <td>0</td>\n",
       "      <td>1</td>\n",
       "      <td>0</td>\n",
       "      <td>0</td>\n",
       "      <td>1</td>\n",
       "      <td>0</td>\n",
       "      <td>1</td>\n",
       "      <td>1</td>\n",
       "      <td>0</td>\n",
       "    </tr>\n",
       "  </tbody>\n",
       "</table>\n",
       "<p>2 rows × 57 columns</p>\n",
       "</div>"
      ],
      "text/plain": [
       "   age  Medu  Fedu  traveltime  studytime  failures  famrel  freetime  goout  \\\n",
       "0   18     4     4           2          2         0       4         3      4   \n",
       "1   17     1     1           1          2         0       5         3      3   \n",
       "\n",
       "   Dalc  ...  activities_no  activities_yes  nursery_no  nursery_yes  \\\n",
       "0     1  ...              1               0           0            1   \n",
       "1     1  ...              1               0           1            0   \n",
       "\n",
       "   higher_no  higher_yes  internet_no  internet_yes  romantic_no  romantic_yes  \n",
       "0          0           1            1             0            1             0  \n",
       "1          0           1            0             1            1             0  \n",
       "\n",
       "[2 rows x 57 columns]"
      ]
     },
     "execution_count": 4,
     "metadata": {},
     "output_type": "execute_result"
    }
   ],
   "source": [
    "#from df drop the categorcal columns\n",
    "df=df.drop(cat_columns, axis=1)\n",
    "#and substitute with the one-hot encoded dataframe\n",
    "df = pd.concat([df, categorical], axis = 1)\n",
    "print(df.shape)\n",
    "\n",
    "'''Finally, grades G1 and G2 have been removed from the dataset.\n",
    "That's beacuse they are strictly correlated with the final grade G3 that we want to predict:\n",
    "Basically, G3 is a \"consequence\" of G1 and G2. \n",
    "\n",
    "We suppose that in a real case, either or we don't have G1 and G2,\n",
    "or if we have, we can simply use those two grades for a very simple linear regression.'''\n",
    "\n",
    "df=df.drop(['G1', 'G2'], axis=1)\n",
    "print(df.shape)\n",
    "\n",
    "df.head(2)"
   ]
  },
  {
   "cell_type": "markdown",
   "metadata": {},
   "source": [
    "### 1.1"
   ]
  },
  {
   "cell_type": "markdown",
   "metadata": {},
   "source": [
    "### Features and Target"
   ]
  },
  {
   "cell_type": "code",
   "execution_count": 5,
   "metadata": {},
   "outputs": [
    {
     "name": "stdout",
     "output_type": "stream",
     "text": [
      "0      11\n",
      "1      11\n",
      "2      12\n",
      "3      14\n",
      "4      13\n",
      "       ..\n",
      "644    10\n",
      "645    16\n",
      "646     9\n",
      "647    10\n",
      "648    11\n",
      "Name: G3, Length: 649, dtype: int64\n"
     ]
    },
    {
     "data": {
      "text/html": [
       "<div>\n",
       "<style scoped>\n",
       "    .dataframe tbody tr th:only-of-type {\n",
       "        vertical-align: middle;\n",
       "    }\n",
       "\n",
       "    .dataframe tbody tr th {\n",
       "        vertical-align: top;\n",
       "    }\n",
       "\n",
       "    .dataframe thead th {\n",
       "        text-align: right;\n",
       "    }\n",
       "</style>\n",
       "<table border=\"1\" class=\"dataframe\">\n",
       "  <thead>\n",
       "    <tr style=\"text-align: right;\">\n",
       "      <th></th>\n",
       "      <th>age</th>\n",
       "      <th>Medu</th>\n",
       "      <th>Fedu</th>\n",
       "      <th>traveltime</th>\n",
       "      <th>studytime</th>\n",
       "      <th>failures</th>\n",
       "      <th>famrel</th>\n",
       "      <th>freetime</th>\n",
       "      <th>goout</th>\n",
       "      <th>Dalc</th>\n",
       "      <th>...</th>\n",
       "      <th>activities_no</th>\n",
       "      <th>activities_yes</th>\n",
       "      <th>nursery_no</th>\n",
       "      <th>nursery_yes</th>\n",
       "      <th>higher_no</th>\n",
       "      <th>higher_yes</th>\n",
       "      <th>internet_no</th>\n",
       "      <th>internet_yes</th>\n",
       "      <th>romantic_no</th>\n",
       "      <th>romantic_yes</th>\n",
       "    </tr>\n",
       "  </thead>\n",
       "  <tbody>\n",
       "    <tr>\n",
       "      <th>0</th>\n",
       "      <td>18</td>\n",
       "      <td>4</td>\n",
       "      <td>4</td>\n",
       "      <td>2</td>\n",
       "      <td>2</td>\n",
       "      <td>0</td>\n",
       "      <td>4</td>\n",
       "      <td>3</td>\n",
       "      <td>4</td>\n",
       "      <td>1</td>\n",
       "      <td>...</td>\n",
       "      <td>1</td>\n",
       "      <td>0</td>\n",
       "      <td>0</td>\n",
       "      <td>1</td>\n",
       "      <td>0</td>\n",
       "      <td>1</td>\n",
       "      <td>1</td>\n",
       "      <td>0</td>\n",
       "      <td>1</td>\n",
       "      <td>0</td>\n",
       "    </tr>\n",
       "    <tr>\n",
       "      <th>1</th>\n",
       "      <td>17</td>\n",
       "      <td>1</td>\n",
       "      <td>1</td>\n",
       "      <td>1</td>\n",
       "      <td>2</td>\n",
       "      <td>0</td>\n",
       "      <td>5</td>\n",
       "      <td>3</td>\n",
       "      <td>3</td>\n",
       "      <td>1</td>\n",
       "      <td>...</td>\n",
       "      <td>1</td>\n",
       "      <td>0</td>\n",
       "      <td>1</td>\n",
       "      <td>0</td>\n",
       "      <td>0</td>\n",
       "      <td>1</td>\n",
       "      <td>0</td>\n",
       "      <td>1</td>\n",
       "      <td>1</td>\n",
       "      <td>0</td>\n",
       "    </tr>\n",
       "  </tbody>\n",
       "</table>\n",
       "<p>2 rows × 56 columns</p>\n",
       "</div>"
      ],
      "text/plain": [
       "   age  Medu  Fedu  traveltime  studytime  failures  famrel  freetime  goout  \\\n",
       "0   18     4     4           2          2         0       4         3      4   \n",
       "1   17     1     1           1          2         0       5         3      3   \n",
       "\n",
       "   Dalc  ...  activities_no  activities_yes  nursery_no  nursery_yes  \\\n",
       "0     1  ...              1               0           0            1   \n",
       "1     1  ...              1               0           1            0   \n",
       "\n",
       "   higher_no  higher_yes  internet_no  internet_yes  romantic_no  romantic_yes  \n",
       "0          0           1            1             0            1             0  \n",
       "1          0           1            0             1            1             0  \n",
       "\n",
       "[2 rows x 56 columns]"
      ]
     },
     "execution_count": 5,
     "metadata": {},
     "output_type": "execute_result"
    }
   ],
   "source": [
    "#as said, the target y is the fianl grade G3\n",
    "y = df.pop('G3')\n",
    "\n",
    "print(y)\n",
    "\n",
    "#a subset of features is copied\n",
    "X = df.copy()\n",
    "X.head(2)"
   ]
  },
  {
   "cell_type": "markdown",
   "metadata": {},
   "source": [
    "### 1.2"
   ]
  },
  {
   "cell_type": "markdown",
   "metadata": {},
   "source": [
    "### Train/Test Set Split"
   ]
  },
  {
   "cell_type": "code",
   "execution_count": 6,
   "metadata": {},
   "outputs": [
    {
     "name": "stdout",
     "output_type": "stream",
     "text": [
      "(649, 56)\n",
      "(519, 56)\n",
      "(130, 56)\n",
      "****************\n",
      "(649,)\n",
      "(519,)\n",
      "(130,)\n"
     ]
    }
   ],
   "source": [
    "#setting same conditions for replicabilty: test_size =.2, random_state=0\n",
    "\n",
    "X_train, X_test, y_train, y_test = split(X, y, test_size =.2, random_state=0) \n",
    "\n",
    "print(X.shape)\n",
    "print(X_train.shape)\n",
    "print(X_test.shape)\n",
    "print('****************')\n",
    "print(y.shape)\n",
    "print(y_train.shape)\n",
    "print(y_test.shape)"
   ]
  },
  {
   "cell_type": "code",
   "execution_count": 7,
   "metadata": {},
   "outputs": [
    {
     "data": {
      "text/html": [
       "<div>\n",
       "<style scoped>\n",
       "    .dataframe tbody tr th:only-of-type {\n",
       "        vertical-align: middle;\n",
       "    }\n",
       "\n",
       "    .dataframe tbody tr th {\n",
       "        vertical-align: top;\n",
       "    }\n",
       "\n",
       "    .dataframe thead th {\n",
       "        text-align: right;\n",
       "    }\n",
       "</style>\n",
       "<table border=\"1\" class=\"dataframe\">\n",
       "  <thead>\n",
       "    <tr style=\"text-align: right;\">\n",
       "      <th></th>\n",
       "      <th>age</th>\n",
       "      <th>Medu</th>\n",
       "      <th>Fedu</th>\n",
       "      <th>traveltime</th>\n",
       "      <th>studytime</th>\n",
       "      <th>failures</th>\n",
       "      <th>famrel</th>\n",
       "      <th>freetime</th>\n",
       "      <th>goout</th>\n",
       "      <th>Dalc</th>\n",
       "      <th>...</th>\n",
       "      <th>activities_no</th>\n",
       "      <th>activities_yes</th>\n",
       "      <th>nursery_no</th>\n",
       "      <th>nursery_yes</th>\n",
       "      <th>higher_no</th>\n",
       "      <th>higher_yes</th>\n",
       "      <th>internet_no</th>\n",
       "      <th>internet_yes</th>\n",
       "      <th>romantic_no</th>\n",
       "      <th>romantic_yes</th>\n",
       "    </tr>\n",
       "  </thead>\n",
       "  <tbody>\n",
       "    <tr>\n",
       "      <th>0</th>\n",
       "      <td>0.142857</td>\n",
       "      <td>0.5</td>\n",
       "      <td>0.25</td>\n",
       "      <td>0.333333</td>\n",
       "      <td>0.333333</td>\n",
       "      <td>0.0</td>\n",
       "      <td>0.75</td>\n",
       "      <td>0.25</td>\n",
       "      <td>0.25</td>\n",
       "      <td>0.00</td>\n",
       "      <td>...</td>\n",
       "      <td>1.0</td>\n",
       "      <td>0.0</td>\n",
       "      <td>1.0</td>\n",
       "      <td>0.0</td>\n",
       "      <td>0.0</td>\n",
       "      <td>1.0</td>\n",
       "      <td>0.0</td>\n",
       "      <td>1.0</td>\n",
       "      <td>0.0</td>\n",
       "      <td>1.0</td>\n",
       "    </tr>\n",
       "    <tr>\n",
       "      <th>1</th>\n",
       "      <td>0.285714</td>\n",
       "      <td>0.0</td>\n",
       "      <td>0.50</td>\n",
       "      <td>0.333333</td>\n",
       "      <td>0.666667</td>\n",
       "      <td>0.0</td>\n",
       "      <td>0.50</td>\n",
       "      <td>0.50</td>\n",
       "      <td>0.50</td>\n",
       "      <td>0.25</td>\n",
       "      <td>...</td>\n",
       "      <td>1.0</td>\n",
       "      <td>0.0</td>\n",
       "      <td>0.0</td>\n",
       "      <td>1.0</td>\n",
       "      <td>0.0</td>\n",
       "      <td>1.0</td>\n",
       "      <td>0.0</td>\n",
       "      <td>1.0</td>\n",
       "      <td>1.0</td>\n",
       "      <td>0.0</td>\n",
       "    </tr>\n",
       "  </tbody>\n",
       "</table>\n",
       "<p>2 rows × 56 columns</p>\n",
       "</div>"
      ],
      "text/plain": [
       "        age  Medu  Fedu  traveltime  studytime  failures  famrel  freetime  \\\n",
       "0  0.142857   0.5  0.25    0.333333   0.333333       0.0    0.75      0.25   \n",
       "1  0.285714   0.0  0.50    0.333333   0.666667       0.0    0.50      0.50   \n",
       "\n",
       "   goout  Dalc  ...  activities_no  activities_yes  nursery_no  nursery_yes  \\\n",
       "0   0.25  0.00  ...            1.0             0.0         1.0          0.0   \n",
       "1   0.50  0.25  ...            1.0             0.0         0.0          1.0   \n",
       "\n",
       "   higher_no  higher_yes  internet_no  internet_yes  romantic_no  romantic_yes  \n",
       "0        0.0         1.0          0.0           1.0          0.0           1.0  \n",
       "1        0.0         1.0          0.0           1.0          1.0           0.0  \n",
       "\n",
       "[2 rows x 56 columns]"
      ]
     },
     "execution_count": 7,
     "metadata": {},
     "output_type": "execute_result"
    }
   ],
   "source": [
    "#dataset scaling\n",
    "scaler = MinMaxScaler()\n",
    "\n",
    "#calculating mean and variance of every feature on the train set, then scaling it\n",
    "X_train = pd.DataFrame(scaler.fit_transform(X_train))\n",
    "X_train.columns=X.columns\n",
    "\n",
    "#the calculated parameters are used to transform the test set\n",
    "X_test = pd.DataFrame(scaler.transform(X_test))\n",
    "X_test.columns=X.columns\n",
    "X_test.head(2)"
   ]
  },
  {
   "cell_type": "code",
   "execution_count": 8,
   "metadata": {},
   "outputs": [
    {
     "data": {
      "text/html": [
       "<div>\n",
       "<style scoped>\n",
       "    .dataframe tbody tr th:only-of-type {\n",
       "        vertical-align: middle;\n",
       "    }\n",
       "\n",
       "    .dataframe tbody tr th {\n",
       "        vertical-align: top;\n",
       "    }\n",
       "\n",
       "    .dataframe thead th {\n",
       "        text-align: right;\n",
       "    }\n",
       "</style>\n",
       "<table border=\"1\" class=\"dataframe\">\n",
       "  <thead>\n",
       "    <tr style=\"text-align: right;\">\n",
       "      <th></th>\n",
       "      <th>age</th>\n",
       "      <th>Medu</th>\n",
       "      <th>Fedu</th>\n",
       "      <th>traveltime</th>\n",
       "      <th>studytime</th>\n",
       "      <th>failures</th>\n",
       "      <th>famrel</th>\n",
       "      <th>freetime</th>\n",
       "      <th>goout</th>\n",
       "      <th>Dalc</th>\n",
       "      <th>...</th>\n",
       "      <th>activities_no</th>\n",
       "      <th>activities_yes</th>\n",
       "      <th>nursery_no</th>\n",
       "      <th>nursery_yes</th>\n",
       "      <th>higher_no</th>\n",
       "      <th>higher_yes</th>\n",
       "      <th>internet_no</th>\n",
       "      <th>internet_yes</th>\n",
       "      <th>romantic_no</th>\n",
       "      <th>romantic_yes</th>\n",
       "    </tr>\n",
       "  </thead>\n",
       "  <tbody>\n",
       "    <tr>\n",
       "      <th>0</th>\n",
       "      <td>0.142857</td>\n",
       "      <td>0.75</td>\n",
       "      <td>0.50</td>\n",
       "      <td>0.0</td>\n",
       "      <td>0.0</td>\n",
       "      <td>0.000000</td>\n",
       "      <td>1.0</td>\n",
       "      <td>0.75</td>\n",
       "      <td>0.50</td>\n",
       "      <td>0.00</td>\n",
       "      <td>...</td>\n",
       "      <td>1.0</td>\n",
       "      <td>0.0</td>\n",
       "      <td>1.0</td>\n",
       "      <td>0.0</td>\n",
       "      <td>0.0</td>\n",
       "      <td>1.0</td>\n",
       "      <td>0.0</td>\n",
       "      <td>1.0</td>\n",
       "      <td>1.0</td>\n",
       "      <td>0.0</td>\n",
       "    </tr>\n",
       "    <tr>\n",
       "      <th>1</th>\n",
       "      <td>0.285714</td>\n",
       "      <td>0.25</td>\n",
       "      <td>0.25</td>\n",
       "      <td>0.0</td>\n",
       "      <td>0.0</td>\n",
       "      <td>0.333333</td>\n",
       "      <td>1.0</td>\n",
       "      <td>0.75</td>\n",
       "      <td>0.75</td>\n",
       "      <td>0.25</td>\n",
       "      <td>...</td>\n",
       "      <td>1.0</td>\n",
       "      <td>0.0</td>\n",
       "      <td>1.0</td>\n",
       "      <td>0.0</td>\n",
       "      <td>1.0</td>\n",
       "      <td>0.0</td>\n",
       "      <td>0.0</td>\n",
       "      <td>1.0</td>\n",
       "      <td>1.0</td>\n",
       "      <td>0.0</td>\n",
       "    </tr>\n",
       "  </tbody>\n",
       "</table>\n",
       "<p>2 rows × 56 columns</p>\n",
       "</div>"
      ],
      "text/plain": [
       "        age  Medu  Fedu  traveltime  studytime  failures  famrel  freetime  \\\n",
       "0  0.142857  0.75  0.50         0.0        0.0  0.000000     1.0      0.75   \n",
       "1  0.285714  0.25  0.25         0.0        0.0  0.333333     1.0      0.75   \n",
       "\n",
       "   goout  Dalc  ...  activities_no  activities_yes  nursery_no  nursery_yes  \\\n",
       "0   0.50  0.00  ...            1.0             0.0         1.0          0.0   \n",
       "1   0.75  0.25  ...            1.0             0.0         1.0          0.0   \n",
       "\n",
       "   higher_no  higher_yes  internet_no  internet_yes  romantic_no  romantic_yes  \n",
       "0        0.0         1.0          0.0           1.0          1.0           0.0  \n",
       "1        1.0         0.0          0.0           1.0          1.0           0.0  \n",
       "\n",
       "[2 rows x 56 columns]"
      ]
     },
     "execution_count": 8,
     "metadata": {},
     "output_type": "execute_result"
    }
   ],
   "source": [
    "X_train.head(2)"
   ]
  },
  {
   "cell_type": "markdown",
   "metadata": {},
   "source": [
    "## 2"
   ]
  },
  {
   "cell_type": "markdown",
   "metadata": {},
   "source": [
    "## Functions Definition for ML Analysis"
   ]
  },
  {
   "cell_type": "markdown",
   "metadata": {},
   "source": [
    "Functions of notebook 2 are re-used."
   ]
  },
  {
   "cell_type": "code",
   "execution_count": 9,
   "metadata": {},
   "outputs": [],
   "source": [
    "def random_search(model, parameters, k, scoring, N):\n",
    "       \n",
    "    rs = RandomizedSearchCV(model, parameters, cv = k, scoring = scoring, n_iter = N, verbose = 50, n_jobs = -1) \n",
    "    rs = rs.fit(X_train,y_train)\n",
    "    \n",
    "    #'model_dict' is a dictionary containing all results of RandomizedSearchCV() for an easier later consultation\n",
    "    model_dict = {}\n",
    "    model_dict['best_score'] = rs.best_score_\n",
    "    model_dict['best_params'] = rs.best_params_\n",
    "    \n",
    "    model_dict['params'] = rs.cv_results_['params']\n",
    "    model_dict['means'] = rs.cv_results_['mean_test_score']\n",
    "    model_dict['stds'] = rs.cv_results_['std_test_score']\n",
    "        \n",
    "    model_dict['MAE_train'] = metrics.mean_absolute_error(y_train, rs.predict(X_train))\n",
    "    model_dict['MSE_train'] = metrics.mean_squared_error(y_train, rs.predict(X_train))\n",
    "    model_dict['RMSE_train'] = np.sqrt(metrics.mean_squared_error(y_train, rs.predict(X_train)))\n",
    "    model_dict['r2_train'] = np.sqrt(metrics.r2_score(y_train, rs.predict(X_train)))\n",
    "    \n",
    "    model_dict['MAE_test'] = metrics.mean_absolute_error(y_test, rs.predict(X_test))\n",
    "    model_dict['MSE_test'] = metrics.mean_squared_error(y_test, rs.predict(X_test))\n",
    "    model_dict['RMSE_test'] = np.sqrt(metrics.mean_squared_error(y_test, rs.predict(X_test)))\n",
    "    model_dict['r2_test'] = np.sqrt(metrics.r2_score(y_test, rs.predict(X_test)))\n",
    "        \n",
    "    best_model = rs.best_estimator_\n",
    "    \n",
    "    return best_model, model_dict"
   ]
  },
  {
   "cell_type": "code",
   "execution_count": 10,
   "metadata": {},
   "outputs": [],
   "source": [
    "def see_randomsearch_results(x, model_dict, regr_model):\n",
    "    \n",
    "    print('Best Model:', regr_model)\n",
    "    print('\\nBest score ({}): {:.2f}'.format(scoring, model_dict['best_score']))\n",
    "    \n",
    "    #to organize in descending order the results of the RandomizedSearchCV()\n",
    "    #and organize consequently the corresponding standard deviations and list of parameters\n",
    "    \n",
    "    means = list(model_dict['means'])\n",
    "    stds = list(model_dict['stds'])\n",
    "    params = list(model_dict['params'])\n",
    "     \n",
    "    sorted_lists = sorted(zip(means, stds, params), reverse = True, key = lambda l:l[0])\n",
    "    tuples = zip(*sorted_lists)\n",
    "    sorted_means, sorted_stds, sorted_params = [ list(tuple) for tuple in  tuples]\n",
    "    \n",
    "    plt.figure(figsize=(20, 4))\n",
    "    \n",
    "    #plot a point corresponding to the score and a bar corresponding to the std dev for each group of parameters\n",
    "    plt.errorbar(np.arange(x), sorted_means[:x], yerr=sorted_stds[:x], fmt='o', ms=15,\n",
    "                 ecolor='green', capsize=15, capthick=3)\n",
    "    plt.xticks(np.arange(x))\n",
    "    \n",
    "    plt.show()\n",
    "\n",
    "    print('Chart Legend:\\n')\n",
    "    \n",
    "    for i in np.arange(x):\n",
    "        print('{} --> Hyperparameters: {}'.format(i, sorted_params[i]))"
   ]
  },
  {
   "cell_type": "markdown",
   "metadata": {},
   "source": [
    "### Functions parameters"
   ]
  },
  {
   "cell_type": "code",
   "execution_count": 11,
   "metadata": {},
   "outputs": [
    {
     "name": "stdout",
     "output_type": "stream",
     "text": [
      "dict_keys(['explained_variance', 'r2', 'max_error', 'neg_median_absolute_error', 'neg_mean_absolute_error', 'neg_mean_squared_error', 'neg_mean_squared_log_error', 'neg_root_mean_squared_error', 'neg_mean_poisson_deviance', 'neg_mean_gamma_deviance', 'accuracy', 'roc_auc', 'roc_auc_ovr', 'roc_auc_ovo', 'roc_auc_ovr_weighted', 'roc_auc_ovo_weighted', 'balanced_accuracy', 'average_precision', 'neg_log_loss', 'neg_brier_score', 'adjusted_rand_score', 'homogeneity_score', 'completeness_score', 'v_measure_score', 'mutual_info_score', 'adjusted_mutual_info_score', 'normalized_mutual_info_score', 'fowlkes_mallows_score', 'precision', 'precision_macro', 'precision_micro', 'precision_samples', 'precision_weighted', 'recall', 'recall_macro', 'recall_micro', 'recall_samples', 'recall_weighted', 'f1', 'f1_macro', 'f1_micro', 'f1_samples', 'f1_weighted', 'jaccard', 'jaccard_macro', 'jaccard_micro', 'jaccard_samples', 'jaccard_weighted'])\n"
     ]
    }
   ],
   "source": [
    "print(metrics.SCORERS.keys())"
   ]
  },
  {
   "cell_type": "code",
   "execution_count": 12,
   "metadata": {},
   "outputs": [],
   "source": [
    "k = 5 #k-folds for cross validation\n",
    "\n",
    "'''As discriminating metric it has ben chosed the mean squared error, since it has been noticed that,\n",
    "the model has worst performances for high grades. In this way we try to minimize big errors.'''\n",
    "\n",
    "scoring = 'neg_mean_squared_error'\n",
    "\n",
    "N = 200 #number of iterations (combination of hyperparameters)\n"
   ]
  },
  {
   "cell_type": "markdown",
   "metadata": {},
   "source": [
    "## 3"
   ]
  },
  {
   "cell_type": "markdown",
   "metadata": {},
   "source": [
    "## SVR"
   ]
  },
  {
   "cell_type": "markdown",
   "metadata": {},
   "source": [
    "Hyperparameters meaning has been explained in notebook 2."
   ]
  },
  {
   "cell_type": "code",
   "execution_count": 13,
   "metadata": {},
   "outputs": [
    {
     "name": "stdout",
     "output_type": "stream",
     "text": [
      "Fitting 5 folds for each of 200 candidates, totalling 1000 fits\n",
      "[Parallel(n_jobs=-1)]: Using backend LokyBackend with 4 concurrent workers.\n",
      "[Parallel(n_jobs=-1)]: Done   1 tasks      | elapsed:    2.5s\n",
      "[Parallel(n_jobs=-1)]: Done   2 tasks      | elapsed:    2.5s\n",
      "[Parallel(n_jobs=-1)]: Done   3 tasks      | elapsed:    2.5s\n",
      "[Parallel(n_jobs=-1)]: Done   4 tasks      | elapsed:    2.5s\n",
      "[Parallel(n_jobs=-1)]: Done   5 tasks      | elapsed:    2.5s\n",
      "[Parallel(n_jobs=-1)]: Done   6 tasks      | elapsed:    2.5s\n",
      "[Parallel(n_jobs=-1)]: Done   7 tasks      | elapsed:    2.6s\n",
      "[Parallel(n_jobs=-1)]: Done   8 tasks      | elapsed:    2.6s\n",
      "[Parallel(n_jobs=-1)]: Done   9 tasks      | elapsed:    2.6s\n",
      "[Parallel(n_jobs=-1)]: Done  10 tasks      | elapsed:    2.6s\n",
      "[Parallel(n_jobs=-1)]: Done  11 tasks      | elapsed:    2.6s\n",
      "[Parallel(n_jobs=-1)]: Done  12 tasks      | elapsed:    2.6s\n",
      "[Parallel(n_jobs=-1)]: Done  13 tasks      | elapsed:    2.6s\n",
      "[Parallel(n_jobs=-1)]: Done  14 tasks      | elapsed:    2.6s\n",
      "[Parallel(n_jobs=-1)]: Done  15 tasks      | elapsed:    2.6s\n",
      "[Parallel(n_jobs=-1)]: Done  16 tasks      | elapsed:    2.6s\n",
      "[Parallel(n_jobs=-1)]: Done  17 tasks      | elapsed:    2.6s\n",
      "[Parallel(n_jobs=-1)]: Done  18 tasks      | elapsed:    2.6s\n",
      "[Parallel(n_jobs=-1)]: Done  19 tasks      | elapsed:    2.6s\n",
      "[Parallel(n_jobs=-1)]: Done  20 tasks      | elapsed:    2.6s\n",
      "[Parallel(n_jobs=-1)]: Done  21 tasks      | elapsed:    2.7s\n",
      "[Parallel(n_jobs=-1)]: Batch computation too fast (0.1902s.) Setting batch_size=2.\n",
      "[Parallel(n_jobs=-1)]: Done  22 tasks      | elapsed:    2.7s\n",
      "[Parallel(n_jobs=-1)]: Done  23 tasks      | elapsed:    2.7s\n",
      "[Parallel(n_jobs=-1)]: Done  24 tasks      | elapsed:    2.7s\n",
      "[Parallel(n_jobs=-1)]: Done  25 tasks      | elapsed:    2.7s\n",
      "[Parallel(n_jobs=-1)]: Done  26 tasks      | elapsed:    2.7s\n",
      "[Parallel(n_jobs=-1)]: Done  27 tasks      | elapsed:    2.7s\n",
      "[Parallel(n_jobs=-1)]: Done  29 tasks      | elapsed:    2.8s\n",
      "[Parallel(n_jobs=-1)]: Batch computation too fast (0.1017s.) Setting batch_size=4.\n",
      "[Parallel(n_jobs=-1)]: Done  31 tasks      | elapsed:    2.8s\n",
      "[Parallel(n_jobs=-1)]: Done  32 tasks      | elapsed:    2.8s\n",
      "[Parallel(n_jobs=-1)]: Done  34 tasks      | elapsed:    2.8s\n",
      "[Parallel(n_jobs=-1)]: Done  36 tasks      | elapsed:    2.8s\n",
      "[Parallel(n_jobs=-1)]: Done  38 tasks      | elapsed:    2.8s\n",
      "[Parallel(n_jobs=-1)]: Done  40 tasks      | elapsed:    2.8s\n",
      "[Parallel(n_jobs=-1)]: Done  42 tasks      | elapsed:    2.8s\n",
      "[Parallel(n_jobs=-1)]: Done  44 tasks      | elapsed:    2.8s\n",
      "[Parallel(n_jobs=-1)]: Done  48 tasks      | elapsed:    2.9s\n",
      "[Parallel(n_jobs=-1)]: Batch computation too fast (0.1027s.) Setting batch_size=8.\n",
      "[Parallel(n_jobs=-1)]: Done  52 tasks      | elapsed:    2.9s\n",
      "[Parallel(n_jobs=-1)]: Done  56 tasks      | elapsed:    3.0s\n",
      "[Parallel(n_jobs=-1)]: Done  60 tasks      | elapsed:    3.0s\n",
      "[Parallel(n_jobs=-1)]: Done  64 tasks      | elapsed:    3.1s\n",
      "[Parallel(n_jobs=-1)]: Done  68 tasks      | elapsed:    3.1s\n",
      "[Parallel(n_jobs=-1)]: Done  72 tasks      | elapsed:    3.2s\n",
      "[Parallel(n_jobs=-1)]: Done  76 tasks      | elapsed:    3.2s\n",
      "[Parallel(n_jobs=-1)]: Done  84 tasks      | elapsed:    3.5s\n",
      "[Parallel(n_jobs=-1)]: Done  92 tasks      | elapsed:    3.6s\n",
      "[Parallel(n_jobs=-1)]: Done 100 tasks      | elapsed:    3.6s\n",
      "[Parallel(n_jobs=-1)]: Done 108 tasks      | elapsed:    3.8s\n",
      "[Parallel(n_jobs=-1)]: Done 116 tasks      | elapsed:    3.8s\n",
      "[Parallel(n_jobs=-1)]: Done 124 tasks      | elapsed:    3.9s\n",
      "[Parallel(n_jobs=-1)]: Done 132 tasks      | elapsed:    4.0s\n",
      "[Parallel(n_jobs=-1)]: Done 140 tasks      | elapsed:    4.1s\n",
      "[Parallel(n_jobs=-1)]: Done 148 tasks      | elapsed:    4.1s\n",
      "[Parallel(n_jobs=-1)]: Done 156 tasks      | elapsed:    4.3s\n",
      "[Parallel(n_jobs=-1)]: Done 164 tasks      | elapsed:    4.4s\n",
      "[Parallel(n_jobs=-1)]: Done 172 tasks      | elapsed:    4.6s\n",
      "[Parallel(n_jobs=-1)]: Done 180 tasks      | elapsed:    4.7s\n",
      "[Parallel(n_jobs=-1)]: Done 188 tasks      | elapsed:    4.8s\n",
      "[Parallel(n_jobs=-1)]: Done 196 tasks      | elapsed:    4.8s\n",
      "[Parallel(n_jobs=-1)]: Done 204 tasks      | elapsed:    4.9s\n",
      "[Parallel(n_jobs=-1)]: Done 212 tasks      | elapsed:    5.1s\n",
      "[Parallel(n_jobs=-1)]: Done 220 tasks      | elapsed:    5.1s\n",
      "[Parallel(n_jobs=-1)]: Done 228 tasks      | elapsed:    5.2s\n",
      "[Parallel(n_jobs=-1)]: Done 236 tasks      | elapsed:    5.7s\n",
      "[Parallel(n_jobs=-1)]: Done 244 tasks      | elapsed:    5.8s\n",
      "[Parallel(n_jobs=-1)]: Done 252 tasks      | elapsed:    5.8s\n",
      "[Parallel(n_jobs=-1)]: Done 260 tasks      | elapsed:    6.3s\n",
      "[Parallel(n_jobs=-1)]: Done 268 tasks      | elapsed:    6.6s\n",
      "[Parallel(n_jobs=-1)]: Done 276 tasks      | elapsed:    6.7s\n",
      "[Parallel(n_jobs=-1)]: Done 284 tasks      | elapsed:    7.0s\n",
      "[Parallel(n_jobs=-1)]: Done 292 tasks      | elapsed:    7.7s\n",
      "[Parallel(n_jobs=-1)]: Done 300 tasks      | elapsed:    7.8s\n",
      "[Parallel(n_jobs=-1)]: Done 308 tasks      | elapsed:    7.8s\n",
      "[Parallel(n_jobs=-1)]: Done 316 tasks      | elapsed:    8.0s\n",
      "[Parallel(n_jobs=-1)]: Done 324 tasks      | elapsed:    8.3s\n",
      "[Parallel(n_jobs=-1)]: Done 332 tasks      | elapsed:    8.6s\n",
      "[Parallel(n_jobs=-1)]: Done 340 tasks      | elapsed:    8.7s\n",
      "[Parallel(n_jobs=-1)]: Done 348 tasks      | elapsed:    8.8s\n",
      "[Parallel(n_jobs=-1)]: Done 356 tasks      | elapsed:    8.9s\n",
      "[Parallel(n_jobs=-1)]: Done 364 tasks      | elapsed:    9.1s\n",
      "[Parallel(n_jobs=-1)]: Done 372 tasks      | elapsed:    9.4s\n",
      "[Parallel(n_jobs=-1)]: Done 380 tasks      | elapsed:    9.5s\n",
      "[Parallel(n_jobs=-1)]: Done 388 tasks      | elapsed:    9.7s\n",
      "[Parallel(n_jobs=-1)]: Done 396 tasks      | elapsed:    9.8s\n",
      "[Parallel(n_jobs=-1)]: Done 404 tasks      | elapsed:   10.2s\n",
      "[Parallel(n_jobs=-1)]: Done 412 tasks      | elapsed:   11.1s\n",
      "[Parallel(n_jobs=-1)]: Done 420 tasks      | elapsed:   11.3s\n",
      "[Parallel(n_jobs=-1)]: Done 428 tasks      | elapsed:   11.5s\n",
      "[Parallel(n_jobs=-1)]: Batch computation too slow (2.3434s.) Setting batch_size=1.\n",
      "[Parallel(n_jobs=-1)]: Done 436 tasks      | elapsed:   12.1s\n",
      "[Parallel(n_jobs=-1)]: Done 444 tasks      | elapsed:   12.3s\n",
      "[Parallel(n_jobs=-1)]: Done 452 tasks      | elapsed:   12.5s\n",
      "[Parallel(n_jobs=-1)]: Done 460 tasks      | elapsed:   13.3s\n",
      "[Parallel(n_jobs=-1)]: Done 468 tasks      | elapsed:   13.5s\n",
      "[Parallel(n_jobs=-1)]: Done 469 tasks      | elapsed:   13.6s\n",
      "[Parallel(n_jobs=-1)]: Done 470 tasks      | elapsed:   13.6s\n",
      "[Parallel(n_jobs=-1)]: Done 471 tasks      | elapsed:   13.6s\n",
      "[Parallel(n_jobs=-1)]: Done 472 tasks      | elapsed:   16.7s\n",
      "[Parallel(n_jobs=-1)]: Done 480 tasks      | elapsed:   17.3s\n",
      "[Parallel(n_jobs=-1)]: Done 488 tasks      | elapsed:   17.7s\n",
      "[Parallel(n_jobs=-1)]: Done 489 tasks      | elapsed:   23.3s\n",
      "[Parallel(n_jobs=-1)]: Done 490 tasks      | elapsed:   23.8s\n",
      "[Parallel(n_jobs=-1)]: Done 491 tasks      | elapsed:   23.9s\n",
      "[Parallel(n_jobs=-1)]: Done 492 tasks      | elapsed:   24.0s\n",
      "[Parallel(n_jobs=-1)]: Done 493 tasks      | elapsed:   24.1s\n",
      "[Parallel(n_jobs=-1)]: Done 494 tasks      | elapsed:   24.2s\n",
      "[Parallel(n_jobs=-1)]: Done 495 tasks      | elapsed:   24.3s\n",
      "[Parallel(n_jobs=-1)]: Done 496 tasks      | elapsed:   24.3s\n",
      "[Parallel(n_jobs=-1)]: Done 497 tasks      | elapsed:   24.4s\n",
      "[Parallel(n_jobs=-1)]: Done 498 tasks      | elapsed:   24.4s\n",
      "[Parallel(n_jobs=-1)]: Done 499 tasks      | elapsed:   24.4s\n",
      "[Parallel(n_jobs=-1)]: Done 500 tasks      | elapsed:   24.4s\n",
      "[Parallel(n_jobs=-1)]: Done 501 tasks      | elapsed:   24.5s\n",
      "[Parallel(n_jobs=-1)]: Done 502 tasks      | elapsed:   24.6s\n",
      "[Parallel(n_jobs=-1)]: Done 503 tasks      | elapsed:   24.7s\n",
      "[Parallel(n_jobs=-1)]: Done 504 tasks      | elapsed:   24.8s\n",
      "[Parallel(n_jobs=-1)]: Done 505 tasks      | elapsed:   24.9s\n",
      "[Parallel(n_jobs=-1)]: Done 506 tasks      | elapsed:   25.0s\n",
      "[Parallel(n_jobs=-1)]: Done 507 tasks      | elapsed:   25.1s\n",
      "[Parallel(n_jobs=-1)]: Done 508 tasks      | elapsed:   25.1s\n",
      "[Parallel(n_jobs=-1)]: Done 509 tasks      | elapsed:   25.2s\n",
      "[Parallel(n_jobs=-1)]: Done 510 tasks      | elapsed:   25.2s\n",
      "[Parallel(n_jobs=-1)]: Done 511 tasks      | elapsed:   25.2s\n",
      "[Parallel(n_jobs=-1)]: Done 512 tasks      | elapsed:   25.2s\n",
      "[Parallel(n_jobs=-1)]: Done 513 tasks      | elapsed:   25.2s\n",
      "[Parallel(n_jobs=-1)]: Done 514 tasks      | elapsed:   25.2s\n",
      "[Parallel(n_jobs=-1)]: Done 515 tasks      | elapsed:   25.2s\n",
      "[Parallel(n_jobs=-1)]: Done 516 tasks      | elapsed:   25.2s\n"
     ]
    },
    {
     "name": "stdout",
     "output_type": "stream",
     "text": [
      "[Parallel(n_jobs=-1)]: Done 517 tasks      | elapsed:   26.2s\n",
      "[Parallel(n_jobs=-1)]: Done 518 tasks      | elapsed:   26.8s\n",
      "[Parallel(n_jobs=-1)]: Done 519 tasks      | elapsed:   27.3s\n",
      "[Parallel(n_jobs=-1)]: Done 520 tasks      | elapsed:   27.4s\n",
      "[Parallel(n_jobs=-1)]: Done 521 tasks      | elapsed:   27.4s\n",
      "[Parallel(n_jobs=-1)]: Done 522 tasks      | elapsed:   27.5s\n",
      "[Parallel(n_jobs=-1)]: Done 523 tasks      | elapsed:   27.5s\n",
      "[Parallel(n_jobs=-1)]: Done 524 tasks      | elapsed:   27.6s\n",
      "[Parallel(n_jobs=-1)]: Done 525 tasks      | elapsed:   27.6s\n",
      "[Parallel(n_jobs=-1)]: Done 526 tasks      | elapsed:   27.7s\n",
      "[Parallel(n_jobs=-1)]: Done 527 tasks      | elapsed:   27.7s\n",
      "[Parallel(n_jobs=-1)]: Done 528 tasks      | elapsed:   27.7s\n",
      "[Parallel(n_jobs=-1)]: Done 529 tasks      | elapsed:   27.7s\n",
      "[Parallel(n_jobs=-1)]: Done 530 tasks      | elapsed:   27.7s\n",
      "[Parallel(n_jobs=-1)]: Done 531 tasks      | elapsed:   27.8s\n",
      "[Parallel(n_jobs=-1)]: Done 532 tasks      | elapsed:   27.8s\n",
      "[Parallel(n_jobs=-1)]: Done 533 tasks      | elapsed:   27.9s\n",
      "[Parallel(n_jobs=-1)]: Done 534 tasks      | elapsed:   27.9s\n",
      "[Parallel(n_jobs=-1)]: Done 535 tasks      | elapsed:   27.9s\n",
      "[Parallel(n_jobs=-1)]: Done 536 tasks      | elapsed:   28.0s\n",
      "[Parallel(n_jobs=-1)]: Done 537 tasks      | elapsed:   28.0s\n",
      "[Parallel(n_jobs=-1)]: Done 538 tasks      | elapsed:   28.0s\n",
      "[Parallel(n_jobs=-1)]: Done 539 tasks      | elapsed:   28.0s\n",
      "[Parallel(n_jobs=-1)]: Done 540 tasks      | elapsed:   28.0s\n",
      "[Parallel(n_jobs=-1)]: Done 541 tasks      | elapsed:   28.1s\n",
      "[Parallel(n_jobs=-1)]: Done 542 tasks      | elapsed:   28.1s\n",
      "[Parallel(n_jobs=-1)]: Done 543 tasks      | elapsed:   28.1s\n",
      "[Parallel(n_jobs=-1)]: Done 544 tasks      | elapsed:   28.1s\n",
      "[Parallel(n_jobs=-1)]: Done 545 tasks      | elapsed:   28.1s\n",
      "[Parallel(n_jobs=-1)]: Done 546 tasks      | elapsed:   28.1s\n",
      "[Parallel(n_jobs=-1)]: Done 547 tasks      | elapsed:   28.1s\n",
      "[Parallel(n_jobs=-1)]: Done 548 tasks      | elapsed:   28.2s\n",
      "[Parallel(n_jobs=-1)]: Done 549 tasks      | elapsed:   28.2s\n",
      "[Parallel(n_jobs=-1)]: Batch computation too fast (0.1807s.) Setting batch_size=2.\n",
      "[Parallel(n_jobs=-1)]: Done 550 tasks      | elapsed:   28.2s\n",
      "[Parallel(n_jobs=-1)]: Done 551 tasks      | elapsed:   28.2s\n",
      "[Parallel(n_jobs=-1)]: Done 552 tasks      | elapsed:   28.2s\n",
      "[Parallel(n_jobs=-1)]: Done 553 tasks      | elapsed:   28.2s\n",
      "[Parallel(n_jobs=-1)]: Done 554 tasks      | elapsed:   28.2s\n",
      "[Parallel(n_jobs=-1)]: Done 555 tasks      | elapsed:   28.2s\n",
      "[Parallel(n_jobs=-1)]: Done 556 tasks      | elapsed:   28.2s\n",
      "[Parallel(n_jobs=-1)]: Done 558 tasks      | elapsed:   28.4s\n",
      "[Parallel(n_jobs=-1)]: Done 560 tasks      | elapsed:   28.4s\n",
      "[Parallel(n_jobs=-1)]: Done 562 tasks      | elapsed:   28.5s\n",
      "[Parallel(n_jobs=-1)]: Done 564 tasks      | elapsed:   28.6s\n",
      "[Parallel(n_jobs=-1)]: Done 566 tasks      | elapsed:   28.7s\n",
      "[Parallel(n_jobs=-1)]: Done 568 tasks      | elapsed:   28.7s\n",
      "[Parallel(n_jobs=-1)]: Done 570 tasks      | elapsed:   28.8s\n",
      "[Parallel(n_jobs=-1)]: Done 572 tasks      | elapsed:   28.8s\n",
      "[Parallel(n_jobs=-1)]: Done 574 tasks      | elapsed:   28.8s\n",
      "[Parallel(n_jobs=-1)]: Done 576 tasks      | elapsed:   28.9s\n",
      "[Parallel(n_jobs=-1)]: Done 578 tasks      | elapsed:   29.0s\n",
      "[Parallel(n_jobs=-1)]: Done 580 tasks      | elapsed:   29.0s\n",
      "[Parallel(n_jobs=-1)]: Done 582 tasks      | elapsed:   29.0s\n",
      "[Parallel(n_jobs=-1)]: Done 584 tasks      | elapsed:   29.0s\n",
      "[Parallel(n_jobs=-1)]: Done 586 tasks      | elapsed:   29.1s\n",
      "[Parallel(n_jobs=-1)]: Done 588 tasks      | elapsed:   29.1s\n",
      "[Parallel(n_jobs=-1)]: Done 590 tasks      | elapsed:   29.1s\n",
      "[Parallel(n_jobs=-1)]: Done 592 tasks      | elapsed:   29.1s\n",
      "[Parallel(n_jobs=-1)]: Done 594 tasks      | elapsed:   29.2s\n",
      "[Parallel(n_jobs=-1)]: Done 596 tasks      | elapsed:   29.2s\n",
      "[Parallel(n_jobs=-1)]: Done 598 tasks      | elapsed:   29.5s\n",
      "[Parallel(n_jobs=-1)]: Done 600 tasks      | elapsed:   29.6s\n",
      "[Parallel(n_jobs=-1)]: Done 602 tasks      | elapsed:   29.6s\n",
      "[Parallel(n_jobs=-1)]: Done 604 tasks      | elapsed:   29.7s\n",
      "[Parallel(n_jobs=-1)]: Done 606 tasks      | elapsed:   29.8s\n",
      "[Parallel(n_jobs=-1)]: Done 608 tasks      | elapsed:   29.9s\n",
      "[Parallel(n_jobs=-1)]: Done 610 tasks      | elapsed:   29.9s\n",
      "[Parallel(n_jobs=-1)]: Done 612 tasks      | elapsed:   29.9s\n",
      "[Parallel(n_jobs=-1)]: Done 614 tasks      | elapsed:   30.0s\n",
      "[Parallel(n_jobs=-1)]: Done 616 tasks      | elapsed:   30.0s\n",
      "[Parallel(n_jobs=-1)]: Done 618 tasks      | elapsed:   30.0s\n",
      "[Parallel(n_jobs=-1)]: Done 620 tasks      | elapsed:   30.1s\n",
      "[Parallel(n_jobs=-1)]: Done 622 tasks      | elapsed:   30.1s\n",
      "[Parallel(n_jobs=-1)]: Done 624 tasks      | elapsed:   30.1s\n",
      "[Parallel(n_jobs=-1)]: Done 626 tasks      | elapsed:   30.1s\n",
      "[Parallel(n_jobs=-1)]: Done 628 tasks      | elapsed:   30.2s\n",
      "[Parallel(n_jobs=-1)]: Done 630 tasks      | elapsed:   30.2s\n",
      "[Parallel(n_jobs=-1)]: Done 632 tasks      | elapsed:   30.3s\n",
      "[Parallel(n_jobs=-1)]: Done 634 tasks      | elapsed:   30.3s\n",
      "[Parallel(n_jobs=-1)]: Done 636 tasks      | elapsed:   30.4s\n",
      "[Parallel(n_jobs=-1)]: Done 638 tasks      | elapsed:   30.4s\n",
      "[Parallel(n_jobs=-1)]: Done 640 tasks      | elapsed:   30.4s\n",
      "[Parallel(n_jobs=-1)]: Done 642 tasks      | elapsed:   30.5s\n",
      "[Parallel(n_jobs=-1)]: Done 644 tasks      | elapsed:   30.5s\n",
      "[Parallel(n_jobs=-1)]: Done 646 tasks      | elapsed:   30.5s\n",
      "[Parallel(n_jobs=-1)]: Done 648 tasks      | elapsed:   30.5s\n",
      "[Parallel(n_jobs=-1)]: Done 650 tasks      | elapsed:   30.6s\n",
      "[Parallel(n_jobs=-1)]: Done 652 tasks      | elapsed:   30.6s\n",
      "[Parallel(n_jobs=-1)]: Done 654 tasks      | elapsed:   30.9s\n",
      "[Parallel(n_jobs=-1)]: Done 656 tasks      | elapsed:   30.9s\n",
      "[Parallel(n_jobs=-1)]: Done 658 tasks      | elapsed:   30.9s\n",
      "[Parallel(n_jobs=-1)]: Done 660 tasks      | elapsed:   31.0s\n",
      "[Parallel(n_jobs=-1)]: Done 662 tasks      | elapsed:   31.1s\n",
      "[Parallel(n_jobs=-1)]: Done 664 tasks      | elapsed:   31.1s\n",
      "[Parallel(n_jobs=-1)]: Done 666 tasks      | elapsed:   31.1s\n",
      "[Parallel(n_jobs=-1)]: Done 668 tasks      | elapsed:   31.1s\n",
      "[Parallel(n_jobs=-1)]: Done 670 tasks      | elapsed:   31.2s\n",
      "[Parallel(n_jobs=-1)]: Done 672 tasks      | elapsed:   31.2s\n",
      "[Parallel(n_jobs=-1)]: Done 674 tasks      | elapsed:   31.2s\n",
      "[Parallel(n_jobs=-1)]: Done 676 tasks      | elapsed:   31.2s\n",
      "[Parallel(n_jobs=-1)]: Done 678 tasks      | elapsed:   31.2s\n",
      "[Parallel(n_jobs=-1)]: Done 680 tasks      | elapsed:   31.3s\n",
      "[Parallel(n_jobs=-1)]: Done 682 tasks      | elapsed:   31.3s\n",
      "[Parallel(n_jobs=-1)]: Done 684 tasks      | elapsed:   31.3s\n",
      "[Parallel(n_jobs=-1)]: Done 686 tasks      | elapsed:   31.3s\n",
      "[Parallel(n_jobs=-1)]: Batch computation too fast (0.1927s.) Setting batch_size=4.\n",
      "[Parallel(n_jobs=-1)]: Done 688 tasks      | elapsed:   31.3s\n",
      "[Parallel(n_jobs=-1)]: Done 690 tasks      | elapsed:   31.3s\n",
      "[Parallel(n_jobs=-1)]: Done 692 tasks      | elapsed:   31.3s\n",
      "[Parallel(n_jobs=-1)]: Done 694 tasks      | elapsed:   31.4s\n",
      "[Parallel(n_jobs=-1)]: Done 696 tasks      | elapsed:   31.4s\n",
      "[Parallel(n_jobs=-1)]: Done 698 tasks      | elapsed:   31.5s\n",
      "[Parallel(n_jobs=-1)]: Done 700 tasks      | elapsed:   31.6s\n",
      "[Parallel(n_jobs=-1)]: Done 704 tasks      | elapsed:   31.7s\n",
      "[Parallel(n_jobs=-1)]: Done 708 tasks      | elapsed:   31.7s\n",
      "[Parallel(n_jobs=-1)]: Done 712 tasks      | elapsed:   31.8s\n",
      "[Parallel(n_jobs=-1)]: Done 716 tasks      | elapsed:   31.8s\n",
      "[Parallel(n_jobs=-1)]: Done 720 tasks      | elapsed:   31.9s\n",
      "[Parallel(n_jobs=-1)]: Done 724 tasks      | elapsed:   32.0s\n",
      "[Parallel(n_jobs=-1)]: Done 728 tasks      | elapsed:   32.0s\n",
      "[Parallel(n_jobs=-1)]: Done 732 tasks      | elapsed:   32.1s\n",
      "[Parallel(n_jobs=-1)]: Done 736 tasks      | elapsed:   32.1s\n",
      "[Parallel(n_jobs=-1)]: Done 740 tasks      | elapsed:   32.2s\n",
      "[Parallel(n_jobs=-1)]: Done 744 tasks      | elapsed:   32.5s\n",
      "[Parallel(n_jobs=-1)]: Done 748 tasks      | elapsed:   32.6s\n",
      "[Parallel(n_jobs=-1)]: Done 752 tasks      | elapsed:   32.8s\n",
      "[Parallel(n_jobs=-1)]: Done 756 tasks      | elapsed:   33.0s\n",
      "[Parallel(n_jobs=-1)]: Done 760 tasks      | elapsed:   33.3s\n",
      "[Parallel(n_jobs=-1)]: Done 764 tasks      | elapsed:   33.6s\n",
      "[Parallel(n_jobs=-1)]: Done 768 tasks      | elapsed:   33.6s\n",
      "[Parallel(n_jobs=-1)]: Done 772 tasks      | elapsed:   33.6s\n",
      "[Parallel(n_jobs=-1)]: Done 776 tasks      | elapsed:   33.7s\n"
     ]
    },
    {
     "name": "stdout",
     "output_type": "stream",
     "text": [
      "[Parallel(n_jobs=-1)]: Done 780 tasks      | elapsed:   35.2s\n",
      "[Parallel(n_jobs=-1)]: Done 784 tasks      | elapsed:   44.9s\n",
      "[Parallel(n_jobs=-1)]: Batch computation too slow (3.0672s.) Setting batch_size=1.\n",
      "[Parallel(n_jobs=-1)]: Done 788 tasks      | elapsed:   45.4s\n",
      "[Parallel(n_jobs=-1)]: Done 792 tasks      | elapsed:   45.8s\n",
      "[Parallel(n_jobs=-1)]: Done 796 tasks      | elapsed:   46.1s\n",
      "[Parallel(n_jobs=-1)]: Done 800 tasks      | elapsed:   46.2s\n",
      "[Parallel(n_jobs=-1)]: Done 804 tasks      | elapsed:   46.3s\n",
      "[Parallel(n_jobs=-1)]: Done 805 tasks      | elapsed:   46.3s\n",
      "[Parallel(n_jobs=-1)]: Done 806 tasks      | elapsed:   46.3s\n",
      "[Parallel(n_jobs=-1)]: Done 807 tasks      | elapsed:   46.4s\n",
      "[Parallel(n_jobs=-1)]: Done 808 tasks      | elapsed:   46.4s\n",
      "[Parallel(n_jobs=-1)]: Done 809 tasks      | elapsed:   46.5s\n",
      "[Parallel(n_jobs=-1)]: Done 810 tasks      | elapsed:   46.5s\n",
      "[Parallel(n_jobs=-1)]: Done 811 tasks      | elapsed:   46.5s\n",
      "[Parallel(n_jobs=-1)]: Done 812 tasks      | elapsed:   46.6s\n",
      "[Parallel(n_jobs=-1)]: Done 813 tasks      | elapsed:   46.6s\n",
      "[Parallel(n_jobs=-1)]: Done 814 tasks      | elapsed:   46.7s\n",
      "[Parallel(n_jobs=-1)]: Done 815 tasks      | elapsed:   46.7s\n",
      "[Parallel(n_jobs=-1)]: Done 816 tasks      | elapsed:   46.7s\n",
      "[Parallel(n_jobs=-1)]: Done 817 tasks      | elapsed:   46.8s\n",
      "[Parallel(n_jobs=-1)]: Done 818 tasks      | elapsed:   46.8s\n",
      "[Parallel(n_jobs=-1)]: Done 819 tasks      | elapsed:   46.9s\n",
      "[Parallel(n_jobs=-1)]: Done 820 tasks      | elapsed:   47.0s\n",
      "[Parallel(n_jobs=-1)]: Done 828 tasks      | elapsed:   47.2s\n",
      "[Parallel(n_jobs=-1)]: Done 829 tasks      | elapsed:   47.2s\n",
      "[Parallel(n_jobs=-1)]: Done 830 tasks      | elapsed:   47.4s\n",
      "[Parallel(n_jobs=-1)]: Done 831 tasks      | elapsed:   47.4s\n",
      "[Parallel(n_jobs=-1)]: Done 832 tasks      | elapsed:   47.5s\n",
      "[Parallel(n_jobs=-1)]: Done 833 tasks      | elapsed:   47.5s\n",
      "[Parallel(n_jobs=-1)]: Done 834 tasks      | elapsed:   47.5s\n",
      "[Parallel(n_jobs=-1)]: Done 835 tasks      | elapsed:   47.6s\n",
      "[Parallel(n_jobs=-1)]: Done 836 tasks      | elapsed:   47.6s\n",
      "[Parallel(n_jobs=-1)]: Done 837 tasks      | elapsed:   47.6s\n",
      "[Parallel(n_jobs=-1)]: Done 841 tasks      | elapsed:   50.0s\n",
      "[Parallel(n_jobs=-1)]: Done 842 tasks      | elapsed:   59.7s\n",
      "[Parallel(n_jobs=-1)]: Done 846 tasks      | elapsed:  1.0min\n",
      "[Parallel(n_jobs=-1)]: Done 847 tasks      | elapsed:  1.0min\n",
      "[Parallel(n_jobs=-1)]: Done 848 tasks      | elapsed:  1.0min\n",
      "[Parallel(n_jobs=-1)]: Done 849 tasks      | elapsed:  1.0min\n",
      "[Parallel(n_jobs=-1)]: Done 850 tasks      | elapsed:  1.0min\n",
      "[Parallel(n_jobs=-1)]: Done 851 tasks      | elapsed:  1.0min\n",
      "[Parallel(n_jobs=-1)]: Done 852 tasks      | elapsed:  1.0min\n",
      "[Parallel(n_jobs=-1)]: Done 853 tasks      | elapsed:  1.0min\n",
      "[Parallel(n_jobs=-1)]: Done 854 tasks      | elapsed:  1.0min\n",
      "[Parallel(n_jobs=-1)]: Done 855 tasks      | elapsed:  1.0min\n",
      "[Parallel(n_jobs=-1)]: Done 856 tasks      | elapsed:  1.0min\n",
      "[Parallel(n_jobs=-1)]: Done 857 tasks      | elapsed:  1.0min\n",
      "[Parallel(n_jobs=-1)]: Done 858 tasks      | elapsed:  1.0min\n",
      "[Parallel(n_jobs=-1)]: Done 859 tasks      | elapsed:  1.1min\n",
      "[Parallel(n_jobs=-1)]: Done 860 tasks      | elapsed:  1.1min\n",
      "[Parallel(n_jobs=-1)]: Done 861 tasks      | elapsed:  1.1min\n",
      "[Parallel(n_jobs=-1)]: Done 862 tasks      | elapsed:  1.1min\n",
      "[Parallel(n_jobs=-1)]: Done 863 tasks      | elapsed:  1.1min\n",
      "[Parallel(n_jobs=-1)]: Done 864 tasks      | elapsed:  1.1min\n",
      "[Parallel(n_jobs=-1)]: Done 865 tasks      | elapsed:  1.1min\n",
      "[Parallel(n_jobs=-1)]: Done 866 tasks      | elapsed:  1.1min\n",
      "[Parallel(n_jobs=-1)]: Done 867 tasks      | elapsed:  1.1min\n",
      "[Parallel(n_jobs=-1)]: Done 868 tasks      | elapsed:  1.1min\n",
      "[Parallel(n_jobs=-1)]: Done 869 tasks      | elapsed:  1.1min\n",
      "[Parallel(n_jobs=-1)]: Done 870 tasks      | elapsed:  1.1min\n",
      "[Parallel(n_jobs=-1)]: Done 871 tasks      | elapsed:  1.1min\n",
      "[Parallel(n_jobs=-1)]: Done 872 tasks      | elapsed:  1.1min\n",
      "[Parallel(n_jobs=-1)]: Done 873 tasks      | elapsed:  1.1min\n",
      "[Parallel(n_jobs=-1)]: Done 874 tasks      | elapsed:  1.1min\n",
      "[Parallel(n_jobs=-1)]: Done 875 tasks      | elapsed:  1.1min\n",
      "[Parallel(n_jobs=-1)]: Done 876 tasks      | elapsed:  1.1min\n",
      "[Parallel(n_jobs=-1)]: Done 877 tasks      | elapsed:  1.1min\n",
      "[Parallel(n_jobs=-1)]: Done 878 tasks      | elapsed:  1.1min\n",
      "[Parallel(n_jobs=-1)]: Done 879 tasks      | elapsed:  1.1min\n",
      "[Parallel(n_jobs=-1)]: Done 880 tasks      | elapsed:  1.1min\n",
      "[Parallel(n_jobs=-1)]: Done 881 tasks      | elapsed:  1.1min\n",
      "[Parallel(n_jobs=-1)]: Done 882 tasks      | elapsed:  1.1min\n",
      "[Parallel(n_jobs=-1)]: Done 883 tasks      | elapsed:  1.1min\n",
      "[Parallel(n_jobs=-1)]: Done 884 tasks      | elapsed:  1.2min\n",
      "[Parallel(n_jobs=-1)]: Done 885 tasks      | elapsed:  1.2min\n",
      "[Parallel(n_jobs=-1)]: Done 886 tasks      | elapsed:  1.2min\n",
      "[Parallel(n_jobs=-1)]: Done 887 tasks      | elapsed:  1.2min\n",
      "[Parallel(n_jobs=-1)]: Done 888 tasks      | elapsed:  1.2min\n",
      "[Parallel(n_jobs=-1)]: Done 889 tasks      | elapsed:  1.2min\n",
      "[Parallel(n_jobs=-1)]: Done 890 tasks      | elapsed:  1.2min\n",
      "[Parallel(n_jobs=-1)]: Done 891 tasks      | elapsed:  1.2min\n",
      "[Parallel(n_jobs=-1)]: Done 892 tasks      | elapsed:  1.2min\n",
      "[Parallel(n_jobs=-1)]: Done 893 tasks      | elapsed:  1.2min\n",
      "[Parallel(n_jobs=-1)]: Done 894 tasks      | elapsed:  1.2min\n",
      "[Parallel(n_jobs=-1)]: Done 895 tasks      | elapsed:  1.2min\n",
      "[Parallel(n_jobs=-1)]: Done 896 tasks      | elapsed:  1.2min\n",
      "[Parallel(n_jobs=-1)]: Done 897 tasks      | elapsed:  1.2min\n",
      "[Parallel(n_jobs=-1)]: Done 898 tasks      | elapsed:  1.2min\n",
      "[Parallel(n_jobs=-1)]: Done 899 tasks      | elapsed:  1.2min\n",
      "[Parallel(n_jobs=-1)]: Done 900 tasks      | elapsed:  1.2min\n",
      "[Parallel(n_jobs=-1)]: Done 901 tasks      | elapsed:  1.2min\n",
      "[Parallel(n_jobs=-1)]: Done 902 tasks      | elapsed:  1.2min\n",
      "[Parallel(n_jobs=-1)]: Done 903 tasks      | elapsed:  1.2min\n",
      "[Parallel(n_jobs=-1)]: Done 904 tasks      | elapsed:  1.2min\n",
      "[Parallel(n_jobs=-1)]: Done 905 tasks      | elapsed:  1.2min\n",
      "[Parallel(n_jobs=-1)]: Done 906 tasks      | elapsed:  1.3min\n",
      "[Parallel(n_jobs=-1)]: Done 907 tasks      | elapsed:  1.3min\n",
      "[Parallel(n_jobs=-1)]: Done 908 tasks      | elapsed:  1.3min\n",
      "[Parallel(n_jobs=-1)]: Done 909 tasks      | elapsed:  1.3min\n",
      "[Parallel(n_jobs=-1)]: Done 910 tasks      | elapsed:  1.3min\n",
      "[Parallel(n_jobs=-1)]: Done 911 tasks      | elapsed:  1.3min\n",
      "[Parallel(n_jobs=-1)]: Done 912 tasks      | elapsed:  1.3min\n",
      "[Parallel(n_jobs=-1)]: Done 913 tasks      | elapsed:  1.3min\n",
      "[Parallel(n_jobs=-1)]: Done 914 tasks      | elapsed:  1.3min\n",
      "[Parallel(n_jobs=-1)]: Done 915 tasks      | elapsed:  1.3min\n",
      "[Parallel(n_jobs=-1)]: Done 916 tasks      | elapsed:  1.3min\n",
      "[Parallel(n_jobs=-1)]: Done 917 tasks      | elapsed:  1.3min\n",
      "[Parallel(n_jobs=-1)]: Done 918 tasks      | elapsed:  1.3min\n",
      "[Parallel(n_jobs=-1)]: Done 919 tasks      | elapsed:  1.3min\n",
      "[Parallel(n_jobs=-1)]: Done 920 tasks      | elapsed:  1.3min\n",
      "[Parallel(n_jobs=-1)]: Done 921 tasks      | elapsed:  1.3min\n",
      "[Parallel(n_jobs=-1)]: Done 922 tasks      | elapsed:  1.3min\n",
      "[Parallel(n_jobs=-1)]: Done 923 tasks      | elapsed:  1.3min\n",
      "[Parallel(n_jobs=-1)]: Done 924 tasks      | elapsed:  1.3min\n",
      "[Parallel(n_jobs=-1)]: Done 925 tasks      | elapsed:  1.3min\n",
      "[Parallel(n_jobs=-1)]: Done 926 tasks      | elapsed:  1.3min\n",
      "[Parallel(n_jobs=-1)]: Done 927 tasks      | elapsed:  1.3min\n",
      "[Parallel(n_jobs=-1)]: Batch computation too fast (0.1887s.) Setting batch_size=2.\n",
      "[Parallel(n_jobs=-1)]: Done 928 tasks      | elapsed:  1.3min\n",
      "[Parallel(n_jobs=-1)]: Done 929 tasks      | elapsed:  1.3min\n",
      "[Parallel(n_jobs=-1)]: Done 930 tasks      | elapsed:  1.3min\n",
      "[Parallel(n_jobs=-1)]: Done 931 tasks      | elapsed:  1.3min\n",
      "[Parallel(n_jobs=-1)]: Done 932 tasks      | elapsed:  1.3min\n",
      "[Parallel(n_jobs=-1)]: Done 933 tasks      | elapsed:  1.3min\n",
      "[Parallel(n_jobs=-1)]: Done 935 tasks      | elapsed:  1.3min\n",
      "[Parallel(n_jobs=-1)]: Done 937 tasks      | elapsed:  1.3min\n",
      "[Parallel(n_jobs=-1)]: Done 939 tasks      | elapsed:  1.3min\n",
      "[Parallel(n_jobs=-1)]: Done 941 tasks      | elapsed:  1.3min\n",
      "[Parallel(n_jobs=-1)]: Done 943 tasks      | elapsed:  1.3min\n",
      "[Parallel(n_jobs=-1)]: Done 945 tasks      | elapsed:  1.3min\n",
      "[Parallel(n_jobs=-1)]: Done 947 tasks      | elapsed:  1.3min\n"
     ]
    },
    {
     "name": "stdout",
     "output_type": "stream",
     "text": [
      "[Parallel(n_jobs=-1)]: Done 949 tasks      | elapsed:  1.3min\n",
      "[Parallel(n_jobs=-1)]: Done 951 tasks      | elapsed:  1.3min\n",
      "[Parallel(n_jobs=-1)]: Done 952 tasks      | elapsed:  1.3min\n",
      "[Parallel(n_jobs=-1)]: Done 953 tasks      | elapsed:  1.3min\n",
      "[Parallel(n_jobs=-1)]: Done 954 tasks      | elapsed:  1.3min\n",
      "[Parallel(n_jobs=-1)]: Done 956 tasks      | elapsed:  1.3min\n",
      "[Parallel(n_jobs=-1)]: Done 958 tasks      | elapsed:  1.3min\n",
      "[Parallel(n_jobs=-1)]: Done 960 tasks      | elapsed:  1.3min\n",
      "[Parallel(n_jobs=-1)]: Done 962 tasks      | elapsed:  1.3min\n",
      "[Parallel(n_jobs=-1)]: Done 964 tasks      | elapsed:  1.3min\n",
      "[Parallel(n_jobs=-1)]: Done 966 tasks      | elapsed:  1.3min\n",
      "[Parallel(n_jobs=-1)]: Done 968 tasks      | elapsed:  1.3min\n",
      "[Parallel(n_jobs=-1)]: Done 970 tasks      | elapsed:  1.3min\n",
      "[Parallel(n_jobs=-1)]: Done 972 tasks      | elapsed:  1.3min\n",
      "[Parallel(n_jobs=-1)]: Done 974 tasks      | elapsed:  1.3min\n",
      "[Parallel(n_jobs=-1)]: Done 976 tasks      | elapsed:  1.3min\n",
      "[Parallel(n_jobs=-1)]: Done 978 tasks      | elapsed:  1.3min\n",
      "[Parallel(n_jobs=-1)]: Done 980 tasks      | elapsed:  1.3min\n",
      "[Parallel(n_jobs=-1)]: Done 982 tasks      | elapsed:  1.4min\n",
      "[Parallel(n_jobs=-1)]: Done 984 tasks      | elapsed:  1.4min\n",
      "[Parallel(n_jobs=-1)]: Done 986 tasks      | elapsed:  1.4min\n",
      "[Parallel(n_jobs=-1)]: Done 1000 out of 1000 | elapsed:  1.5min finished\n",
      "\n",
      "Done!\n"
     ]
    }
   ],
   "source": [
    "from sklearn.svm import SVR\n",
    "\n",
    "regressor = SVR()\n",
    "\n",
    "C_range = loguniform(1e-3, 1e3)\n",
    "gamma_range = loguniform(1e-4, 1e3)\n",
    "degree_range = np.arange(2,5)\n",
    "epsilon_range = loguniform(1e-3, 1e4)\n",
    "\n",
    "parameters = [\n",
    "                {'kernel' : ['linear'], 'C' : C_range, 'epsilon': epsilon_range},\n",
    "                {'kernel' : ['rbf'], 'C' : C_range, 'gamma' : gamma_range, 'epsilon': epsilon_range},\n",
    "                {'kernel' : ['poly'], 'C' : C_range, 'degree' : degree_range, 'epsilon': epsilon_range}\n",
    "                \n",
    "             ]\n",
    "\n",
    "\n",
    "SVR_model, SVR_dict = random_search(regressor, parameters, k, scoring, N)\n",
    "\n",
    "SVR_predictions = SVR_model.predict(X_test)\n",
    "\n",
    "print('\\nDone!')"
   ]
  },
  {
   "cell_type": "code",
   "execution_count": 14,
   "metadata": {
    "scrolled": true
   },
   "outputs": [
    {
     "name": "stdout",
     "output_type": "stream",
     "text": [
      "Best Model: SVR(C=0.7353869964829043, degree=2, epsilon=0.07117923935091298, kernel='poly')\n",
      "\n",
      "Best score (neg_mean_squared_error): -8.15\n"
     ]
    },
    {
     "data": {
      "image/png": "[encoded data removed]",
      "text/plain": [
       "<Figure size 1440x288 with 1 Axes>"
      ]
     },
     "metadata": {
      "needs_background": "light"
     },
     "output_type": "display_data"
    },
    {
     "name": "stdout",
     "output_type": "stream",
     "text": [
      "Chart Legend:\n",
      "\n",
      "0 --> Hyperparameters: {'C': 0.7353869964829043, 'degree': 2, 'epsilon': 0.07117923935091298, 'kernel': 'poly'}\n",
      "1 --> Hyperparameters: {'C': 58.615303126213995, 'epsilon': 1.137097425799617, 'kernel': 'linear'}\n",
      "2 --> Hyperparameters: {'C': 1.1777918340815086, 'epsilon': 0.7582464866806493, 'kernel': 'linear'}\n",
      "3 --> Hyperparameters: {'C': 0.5615627670879073, 'degree': 3, 'epsilon': 0.003695868641227853, 'kernel': 'poly'}\n",
      "4 --> Hyperparameters: {'C': 361.45098836533964, 'epsilon': 0.16272719747733175, 'gamma': 0.00254510507846948, 'kernel': 'rbf'}\n",
      "5 --> Hyperparameters: {'C': 0.5763361980665511, 'epsilon': 0.7263877413303382, 'kernel': 'linear'}\n",
      "6 --> Hyperparameters: {'C': 0.2981687730325398, 'epsilon': 0.5638873994606507, 'kernel': 'linear'}\n",
      "7 --> Hyperparameters: {'C': 0.19769769241349455, 'degree': 4, 'epsilon': 0.08602210231096723, 'kernel': 'poly'}\n",
      "8 --> Hyperparameters: {'C': 0.2897535306188926, 'degree': 4, 'epsilon': 0.02116284990925771, 'kernel': 'poly'}\n",
      "9 --> Hyperparameters: {'C': 102.82111382454573, 'epsilon': 0.00605266570855449, 'gamma': 0.0005007407784909652, 'kernel': 'rbf'}\n",
      "10 --> Hyperparameters: {'C': 311.07491130490286, 'epsilon': 0.0013720140120517018, 'gamma': 0.00017877442443522824, 'kernel': 'rbf'}\n",
      "11 --> Hyperparameters: {'C': 0.27674713661154676, 'degree': 2, 'epsilon': 0.01753655952294083, 'kernel': 'poly'}\n",
      "12 --> Hyperparameters: {'C': 0.37085380388260425, 'degree': 4, 'epsilon': 0.2193129965437001, 'kernel': 'poly'}\n",
      "13 --> Hyperparameters: {'C': 0.2586637564445616, 'epsilon': 0.00201573030686169, 'kernel': 'linear'}\n",
      "14 --> Hyperparameters: {'C': 0.2904093604871684, 'epsilon': 0.07443770666734084, 'kernel': 'linear'}\n",
      "15 --> Hyperparameters: {'C': 228.75497790544483, 'epsilon': 0.018312221253839526, 'gamma': 0.0011826133227350942, 'kernel': 'rbf'}\n",
      "16 --> Hyperparameters: {'C': 2.1842326751403407, 'epsilon': 2.0008793991361724, 'kernel': 'linear'}\n",
      "17 --> Hyperparameters: {'C': 43.973402539397156, 'epsilon': 0.4335435729930195, 'kernel': 'linear'}\n",
      "18 --> Hyperparameters: {'C': 0.3711395471075016, 'degree': 4, 'epsilon': 0.003999618357136441, 'kernel': 'poly'}\n",
      "19 --> Hyperparameters: {'C': 0.8285299610036356, 'epsilon': 0.0015691782047305412, 'kernel': 'linear'}\n"
     ]
    }
   ],
   "source": [
    "see_randomsearch_results(20, SVR_dict, SVR_model)"
   ]
  },
  {
   "cell_type": "markdown",
   "metadata": {},
   "source": [
    "## 4"
   ]
  },
  {
   "cell_type": "markdown",
   "metadata": {},
   "source": [
    "## Features Importance Evaluation"
   ]
  },
  {
   "cell_type": "markdown",
   "metadata": {},
   "source": [
    "As a first attempt all features have been used. After that it makes sense try to reduce the number of features. To do so, it is appropriate try to understand the importance that each feature has on the prediction"
   ]
  },
  {
   "cell_type": "markdown",
   "metadata": {},
   "source": [
    "**Permutation Importance**, from sklearn, allows to understand -for the given model- the importance of the features in the prediction. *It can be used for any fitted estimator when the data is tabular. This is especially useful for non-linear or opaque estimators. The permutation feature importance is defined to be the decrease in a model score when a single feature value is randomly shuffled. This procedure breaks the relationship between the feature and the target, thus the drop in the model score is indicative of how much the model depends on the feature. This technique benefits from being model agnostic and can be calculated many times with different permutations of the feature.* [https://scikit-learn.org/stable/modules/permutation_importance.html#permutation-importance]\n",
    "\n",
    "Note that this method is strictly related with the model: it reveals the features importance for that specific model and not absolutley."
   ]
  },
  {
   "cell_type": "code",
   "execution_count": 15,
   "metadata": {},
   "outputs": [
    {
     "data": {
      "text/plain": [
       "\"Randomly shuffled significa proprio... randomly shuffled? :)\\nCioè operativamente prende una feature e la mischia a caso? \\nsignifica che per la feature1 prende il valore corrispondente allo studente1 e lo assegna allo studente3,\\nquella dello studente3 allo studente 10 ecc?mantenendo il resto del dataset inalterato. \\n\\nIl che significa che, dopo lo shuffle, se non c'è una caduta nella prestazione \\nallora quella feature non è molto importante.\\n\\nHo capito correttamente?\\n\\nSe usare questo metodo o altri (per esempio features importance per RF, o PCA o variance treshold) è come al solito\\nprovare empiricamente o ci sono delle linee guida generali?\\n\""
      ]
     },
     "execution_count": 15,
     "metadata": {},
     "output_type": "execute_result"
    }
   ],
   "source": [
    "'''Randomly shuffled significa proprio... randomly shuffled? :)\n",
    "Cioè operativamente prende una feature e la mischia a caso? \n",
    "significa che per la feature1 prende il valore corrispondente allo studente1 e lo assegna allo studente3,\n",
    "quella dello studente3 allo studente 10 ecc?mantenendo il resto del dataset inalterato. \n",
    "\n",
    "Il che significa che, dopo lo shuffle, se non c'è una caduta nella prestazione \n",
    "allora quella feature non è molto importante.\n",
    "\n",
    "Ho capito correttamente?\n",
    "\n",
    "Se usare questo metodo o altri (per esempio features importance per RF, o PCA o variance treshold) è come al solito\n",
    "provare empiricamente o ci sono delle linee guida generali?\n",
    "'''"
   ]
  },
  {
   "cell_type": "code",
   "execution_count": 16,
   "metadata": {},
   "outputs": [],
   "source": [
    "from sklearn.inspection import permutation_importance\n",
    "perm_importance = permutation_importance(SVR_model, X_train, y_train, \n",
    "                                         scoring=scoring, n_repeats=10, n_jobs=-1, random_state=0)\n",
    "\n"
   ]
  },
  {
   "cell_type": "code",
   "execution_count": 17,
   "metadata": {},
   "outputs": [
    {
     "data": {
      "image/png": "[encoded data removed]",
      "text/plain": [
       "<Figure size 720x1080 with 1 Axes>"
      ]
     },
     "metadata": {
      "needs_background": "light"
     },
     "output_type": "display_data"
    }
   ],
   "source": [
    "sorted_idx = perm_importance.importances_mean.argsort()\n",
    "imp = perm_importance.importances_mean[sorted_idx]\n",
    "\n",
    "\n",
    "fig, ax = plt.subplots(figsize=(10,15))\n",
    "hbar=plt.barh(X.columns[sorted_idx], imp)\n",
    "plt.bar_label(hbar, size=12, padding=5, labels=['{:.2}'.format(a) for a in imp])\n",
    "plt.xlabel('Permutation Importance')\n",
    "\n",
    "plt.show()"
   ]
  },
  {
   "cell_type": "markdown",
   "metadata": {},
   "source": [
    "The first 15 more important features are selected."
   ]
  },
  {
   "cell_type": "code",
   "execution_count": 18,
   "metadata": {},
   "outputs": [
    {
     "name": "stdout",
     "output_type": "stream",
     "text": [
      "Index(['Dalc', 'Mjob_at_home', 'Fjob_services', 'schoolsup_no', 'health',\n",
      "       'school_MS', 'sex_M', 'school_GP', 'Walc', 'sex_F', 'Medu', 'studytime',\n",
      "       'higher_yes', 'higher_no', 'failures'],\n",
      "      dtype='object')\n"
     ]
    },
    {
     "data": {
      "text/html": [
       "<div>\n",
       "<style scoped>\n",
       "    .dataframe tbody tr th:only-of-type {\n",
       "        vertical-align: middle;\n",
       "    }\n",
       "\n",
       "    .dataframe tbody tr th {\n",
       "        vertical-align: top;\n",
       "    }\n",
       "\n",
       "    .dataframe thead th {\n",
       "        text-align: right;\n",
       "    }\n",
       "</style>\n",
       "<table border=\"1\" class=\"dataframe\">\n",
       "  <thead>\n",
       "    <tr style=\"text-align: right;\">\n",
       "      <th></th>\n",
       "      <th>Dalc</th>\n",
       "      <th>Mjob_at_home</th>\n",
       "      <th>Fjob_services</th>\n",
       "      <th>schoolsup_no</th>\n",
       "      <th>health</th>\n",
       "      <th>school_MS</th>\n",
       "      <th>sex_M</th>\n",
       "      <th>school_GP</th>\n",
       "      <th>Walc</th>\n",
       "      <th>sex_F</th>\n",
       "      <th>Medu</th>\n",
       "      <th>studytime</th>\n",
       "      <th>higher_yes</th>\n",
       "      <th>higher_no</th>\n",
       "      <th>failures</th>\n",
       "    </tr>\n",
       "  </thead>\n",
       "  <tbody>\n",
       "    <tr>\n",
       "      <th>0</th>\n",
       "      <td>0.00</td>\n",
       "      <td>0.0</td>\n",
       "      <td>0.0</td>\n",
       "      <td>1.0</td>\n",
       "      <td>1.0</td>\n",
       "      <td>0.0</td>\n",
       "      <td>1.0</td>\n",
       "      <td>1.0</td>\n",
       "      <td>0.00</td>\n",
       "      <td>0.0</td>\n",
       "      <td>0.75</td>\n",
       "      <td>0.0</td>\n",
       "      <td>1.0</td>\n",
       "      <td>0.0</td>\n",
       "      <td>0.000000</td>\n",
       "    </tr>\n",
       "    <tr>\n",
       "      <th>1</th>\n",
       "      <td>0.25</td>\n",
       "      <td>0.0</td>\n",
       "      <td>0.0</td>\n",
       "      <td>1.0</td>\n",
       "      <td>1.0</td>\n",
       "      <td>1.0</td>\n",
       "      <td>0.0</td>\n",
       "      <td>0.0</td>\n",
       "      <td>0.25</td>\n",
       "      <td>1.0</td>\n",
       "      <td>0.25</td>\n",
       "      <td>0.0</td>\n",
       "      <td>0.0</td>\n",
       "      <td>1.0</td>\n",
       "      <td>0.333333</td>\n",
       "    </tr>\n",
       "  </tbody>\n",
       "</table>\n",
       "</div>"
      ],
      "text/plain": [
       "   Dalc  Mjob_at_home  Fjob_services  schoolsup_no  health  school_MS  sex_M  \\\n",
       "0  0.00           0.0            0.0           1.0     1.0        0.0    1.0   \n",
       "1  0.25           0.0            0.0           1.0     1.0        1.0    0.0   \n",
       "\n",
       "   school_GP  Walc  sex_F  Medu  studytime  higher_yes  higher_no  failures  \n",
       "0        1.0  0.00    0.0  0.75        0.0         1.0        0.0  0.000000  \n",
       "1        0.0  0.25    1.0  0.25        0.0         0.0        1.0  0.333333  "
      ]
     },
     "execution_count": 18,
     "metadata": {},
     "output_type": "execute_result"
    }
   ],
   "source": [
    "columns=X.columns[sorted_idx][-15:]\n",
    "print(columns)\n",
    "\n",
    "X_train = X_train[columns]\n",
    "X_test = X_test[columns]\n",
    "\n",
    "X_train.head(2)"
   ]
  },
  {
   "cell_type": "markdown",
   "metadata": {},
   "source": [
    "### 4.1"
   ]
  },
  {
   "cell_type": "markdown",
   "metadata": {},
   "source": [
    "### SVR with Features Subset"
   ]
  },
  {
   "cell_type": "markdown",
   "metadata": {},
   "source": [
    "After defining the subset that seems to be more predictive, we run again the random search function, but in this case not to find new parameters. In fact, we are using the parameters of the 'best model' found before. This because:\n",
    "\n",
    "* having done the permutation features selection: the selected features are important for the specific model\n",
    "* it's practical to use the defined function (with only one iteration, being basically a cross validation) in order to have results in the same structures than the first prevision This is useful for the comparation."
   ]
  },
  {
   "cell_type": "code",
   "execution_count": 19,
   "metadata": {},
   "outputs": [
    {
     "name": "stdout",
     "output_type": "stream",
     "text": [
      "dict_keys(['C', 'cache_size', 'coef0', 'degree', 'epsilon', 'gamma', 'kernel', 'max_iter', 'shrinking', 'tol', 'verbose'])\n"
     ]
    },
    {
     "data": {
      "text/plain": [
       "{'C': [0.7353869964829043],\n",
       " 'degree': [2],\n",
       " 'epsilon': [0.07117923935091298],\n",
       " 'gamma': ['scale'],\n",
       " 'kernel': ['poly']}"
      ]
     },
     "execution_count": 19,
     "metadata": {},
     "output_type": "execute_result"
    }
   ],
   "source": [
    "'''First we get the parameters and create a new dictionary, called model_parameters.\n",
    "We keep only the ones that are of interest, with attention that the values are lists (for the function to work).'''\n",
    "\n",
    "model_parameters = SVR_model.get_params()\n",
    "print(model_parameters.keys())\n",
    "\n",
    "for p in list(model_parameters.keys()):\n",
    "    if p not in ['C', 'degree', 'epsilon', 'gamma', 'kernel']:\n",
    "        model_parameters.pop(p)\n",
    "    else:\n",
    "        value = model_parameters[p]\n",
    "        model_parameters[p] = []\n",
    "        model_parameters[p].append(value)\n",
    "\n",
    "\n",
    "model_parameters"
   ]
  },
  {
   "cell_type": "code",
   "execution_count": 20,
   "metadata": {},
   "outputs": [
    {
     "name": "stdout",
     "output_type": "stream",
     "text": [
      "Fitting 5 folds for each of 1 candidates, totalling 5 fits\n",
      "[Parallel(n_jobs=-1)]: Using backend LokyBackend with 4 concurrent workers.\n",
      "[Parallel(n_jobs=-1)]: Done   1 tasks      | elapsed:    0.0s\n",
      "[Parallel(n_jobs=-1)]: Batch computation too fast (0.0341s.) Setting batch_size=2.\n",
      "[Parallel(n_jobs=-1)]: Done   2 out of   5 | elapsed:    0.0s remaining:    0.0s\n",
      "[Parallel(n_jobs=-1)]: Done   3 out of   5 | elapsed:    0.0s remaining:    0.0s\n",
      "[Parallel(n_jobs=-1)]: Done   5 out of   5 | elapsed:    0.0s remaining:    0.0s\n",
      "[Parallel(n_jobs=-1)]: Done   5 out of   5 | elapsed:    0.0s finished\n",
      "\n",
      "Done!\n"
     ]
    }
   ],
   "source": [
    "#applying the function with one set of parameters\n",
    "regressor = SVR()\n",
    "\n",
    "parameters = model_parameters\n",
    "\n",
    "SVR_model_subset, SVR_dict_subset = random_search(regressor, parameters, k, scoring, 1) #one iteration\n",
    "\n",
    "SVR_predictions_subset = SVR_model_subset.predict(X_test)\n",
    "\n",
    "print('\\nDone!')"
   ]
  },
  {
   "cell_type": "code",
   "execution_count": 21,
   "metadata": {
    "scrolled": true
   },
   "outputs": [
    {
     "name": "stdout",
     "output_type": "stream",
     "text": [
      "Best Model: SVR(C=0.7353869964829043, degree=2, epsilon=0.07117923935091298, kernel='poly')\n",
      "\n",
      "Best score (neg_mean_squared_error): -7.82\n"
     ]
    },
    {
     "data": {
      "image/png": "[encoded data removed]",
      "text/plain": [
       "<Figure size 1440x288 with 1 Axes>"
      ]
     },
     "metadata": {
      "needs_background": "light"
     },
     "output_type": "display_data"
    },
    {
     "name": "stdout",
     "output_type": "stream",
     "text": [
      "Chart Legend:\n",
      "\n",
      "0 --> Hyperparameters: {'kernel': 'poly', 'gamma': 'scale', 'epsilon': 0.07117923935091298, 'degree': 2, 'C': 0.7353869964829043}\n"
     ]
    }
   ],
   "source": [
    "see_randomsearch_results(1, SVR_dict_subset, SVR_model_subset)"
   ]
  },
  {
   "cell_type": "markdown",
   "metadata": {},
   "source": [
    "Now we are ready to  compare results obtained using all features and ones obtained with just a subset."
   ]
  },
  {
   "cell_type": "markdown",
   "metadata": {},
   "source": [
    "### 5"
   ]
  },
  {
   "cell_type": "markdown",
   "metadata": {},
   "source": [
    "### Models Comparation"
   ]
  },
  {
   "cell_type": "markdown",
   "metadata": {},
   "source": [
    "In this section the results obtained will be compared in order to find the model with the best performance."
   ]
  },
  {
   "cell_type": "code",
   "execution_count": 22,
   "metadata": {},
   "outputs": [],
   "source": [
    "#the following lists are creating for an easier iteration of the following part\n",
    "\n",
    "#those three lists should be of the same length and contains model information in the same order\n",
    "#then all the rest is 'automatically' arranged\n",
    "models = ['SVR', 'SVR Subset']\n",
    "dicts = [SVR_dict, SVR_dict_subset]\n",
    "regr_predictions = [SVR_predictions, SVR_predictions_subset]\n",
    "\n",
    "name_metrics = ['Mean Absolute Error', 'Mean Squared Error', 'Root Mean Squared Error', 'r2' ]\n",
    "train_metrics = ['MAE_train', 'MSE_train', 'RMSE_train', 'r2_train']\n",
    "test_metrics = ['MAE_test', 'MSE_test', 'RMSE_test', 'r2_test']"
   ]
  },
  {
   "cell_type": "markdown",
   "metadata": {},
   "source": [
    "### 5.1"
   ]
  },
  {
   "cell_type": "markdown",
   "metadata": {},
   "source": [
    "### Results scatterplots"
   ]
  },
  {
   "cell_type": "code",
   "execution_count": 23,
   "metadata": {},
   "outputs": [
    {
     "data": {
      "image/png": "[encoded data removed]",
      "text/plain": [
       "<Figure size 1440x1080 with 4 Axes>"
      ]
     },
     "metadata": {
      "needs_background": "light"
     },
     "output_type": "display_data"
    }
   ],
   "source": [
    "i = 0\n",
    "\n",
    "fig, axes = plt.subplots(nrows = len(regr_predictions), ncols = 2, sharex = True, figsize = (20,15))\n",
    "\n",
    "for pred, ax in zip(regr_predictions, axes):\n",
    "    \n",
    "    ax1 = ax[0]\n",
    "    ax1.scatter(y_test, regr_predictions[i], s=1, c = 'tab:pink') #color is fixed: pink as in the secod notebook for RF\n",
    "    ax1.plot([0, 20], [0, 20], color='darkblue')\n",
    "    \n",
    "    ax1.set_xlabel('True Values')\n",
    "    ax1.set_ylabel('Predicted Values')\n",
    "    ax1.set_title(models[i])\n",
    "    \n",
    "    residuals = pred - y_test\n",
    "    \n",
    "    ax2 = ax[1]\n",
    "    ax2.scatter(pred, residuals, s=1, c = 'tab:pink')\n",
    "    ax2.axhline(color='darkblue')\n",
    "\n",
    "    ax2.set_xlabel('Predicted Values')\n",
    "    ax2.set_ylabel('Residuals')\n",
    "    ax2.set_title(models[i])\n",
    "    i = i + 1\n",
    "\n",
    "plt.xlim([0,20])\n",
    "plt.ylim([0,20])\n",
    "plt.show()"
   ]
  },
  {
   "cell_type": "code",
   "execution_count": 24,
   "metadata": {},
   "outputs": [
    {
     "data": {
      "image/png": "[encoded data removed]",
      "text/plain": [
       "<Figure size 1080x1080 with 2 Axes>"
      ]
     },
     "metadata": {
      "needs_background": "light"
     },
     "output_type": "display_data"
    }
   ],
   "source": [
    "i = 0\n",
    "\n",
    "fig, axes = plt.subplots(nrows = len(regr_predictions), ncols = 1, figsize = (15,15))\n",
    "\n",
    "for pred, ax in zip(regr_predictions, axes):\n",
    "    residuals = pred - y_test\n",
    "    sns.histplot(residuals, bins=500, kde = True, ax=ax, color='tab:pink')\n",
    "    ax.axvline(color = 'darkblue')\n",
    "    ax.set_title(models[i])\n",
    "    i = i + 1"
   ]
  },
  {
   "cell_type": "markdown",
   "metadata": {},
   "source": [
    "### 4.3"
   ]
  },
  {
   "cell_type": "markdown",
   "metadata": {},
   "source": [
    "### Metrics Comparation\n",
    "\n",
    "- the circle marker refers to the Train Set\n",
    "- the star marker refers to the Test Set"
   ]
  },
  {
   "cell_type": "code",
   "execution_count": 25,
   "metadata": {},
   "outputs": [
    {
     "data": {
      "image/png": "[encoded data removed]",
      "text/plain": [
       "<Figure size 1080x720 with 4 Axes>"
      ]
     },
     "metadata": {
      "needs_background": "light"
     },
     "output_type": "display_data"
    }
   ],
   "source": [
    "fig, axes = plt.subplots(nrows = 2, ncols = 2, sharex =True, figsize = (15,10))\n",
    "\n",
    "for ax, train_metric, test_metric, metric in zip(axes.flat, train_metrics, test_metrics, name_metrics):\n",
    "    \n",
    "    for d, i, model in zip(dicts, range(len(dicts)), models):\n",
    "        \n",
    "        #print('Model: {} - Metric: {} - Value: {:.2f}\\n'.format(model, metric, d[train_metric]))\n",
    "        \n",
    "        ax.scatter(x = i, y = d[train_metric], marker = 'o', color = 'tab:pink', s = 250)\n",
    "        ax.annotate(str('{:.2f}'.format(d[train_metric])),( i + 0.05, d[train_metric]))\n",
    "        \n",
    "        ax.scatter(x = i, y = d[test_metric], marker = '*', color = 'tab:pink', s = 250)\n",
    "        ax.annotate(str('{:.2f}'.format(d[test_metric])),( i + 0.05, d[test_metric]))\n",
    "        \n",
    "        ax.set_title(metric)\n",
    "        \n",
    "plt.xticks(range(len(dicts)),models)\n",
    "\n",
    "plt.show()\n"
   ]
  },
  {
   "cell_type": "markdown",
   "metadata": {},
   "source": [
    "No sensible improvement is visible. The same procedure will be applied in notebook 4 with Random Forest."
   ]
  },
  {
   "cell_type": "code",
   "execution_count": null,
   "metadata": {},
   "outputs": [],
   "source": []
  },
  {
   "cell_type": "code",
   "execution_count": null,
   "metadata": {},
   "outputs": [],
   "source": []
  },
  {
   "cell_type": "code",
   "execution_count": null,
   "metadata": {},
   "outputs": [],
   "source": []
  }
 ],
 "metadata": {
  "kernelspec": {
   "display_name": "Python 3",
   "language": "python",
   "name": "python3"
  },
  "language_info": {
   "codemirror_mode": {
    "name": "ipython",
    "version": 3
   },
   "file_extension": ".py",
   "mimetype": "text/x-python",
   "name": "python",
   "nbconvert_exporter": "python",
   "pygments_lexer": "ipython3",
   "version": "3.8.3"
  }
 },
 "nbformat": 4,
 "nbformat_minor": 4
}
